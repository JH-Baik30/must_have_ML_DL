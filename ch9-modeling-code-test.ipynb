{
 "cells": [
  {
   "cell_type": "markdown",
   "id": "42f5c2e7",
   "metadata": {
    "papermill": {
     "duration": 0.015101,
     "end_time": "2022-08-31T06:13:22.386229",
     "exception": false,
     "start_time": "2022-08-31T06:13:22.371128",
     "status": "completed"
    },
    "tags": []
   },
   "source": [
    "## 9.4 판매량 예측 Modeling update"
   ]
  },
  {
   "cell_type": "code",
   "execution_count": 1,
   "id": "14a43de7",
   "metadata": {
    "_cell_guid": "b1076dfc-b9ad-4769-8c92-a6c4dae69d19",
    "_uuid": "8f2839f25d086af736a60e9eeb907d3b93b6e0e5",
    "execution": {
     "iopub.execute_input": "2022-08-31T06:13:22.419119Z",
     "iopub.status.busy": "2022-08-31T06:13:22.417877Z",
     "iopub.status.idle": "2022-08-31T06:13:25.053950Z",
     "shell.execute_reply": "2022-08-31T06:13:25.052759Z"
    },
    "papermill": {
     "duration": 2.658141,
     "end_time": "2022-08-31T06:13:25.057672",
     "exception": false,
     "start_time": "2022-08-31T06:13:22.399531",
     "status": "completed"
    },
    "tags": []
   },
   "outputs": [],
   "source": [
    "import numpy as np\n",
    "import pandas as pd\n",
    "import warnings\n",
    "\n",
    "warnings.filterwarnings(action='ignore')\n",
    "\n",
    "path = '/kaggle/input/competitive-data-science-predict-future-sales/'\n",
    "\n",
    "sales_train = pd.read_csv(path+'sales_train.csv')\n",
    "shops = pd.read_csv(path+'shops.csv')\n",
    "items = pd.read_csv(path+'items.csv')\n",
    "item_categories = pd.read_csv(path+'item_categories.csv')\n",
    "test = pd.read_csv(path+'test.csv')\n",
    "submission = pd.read_csv(path+'sample_submission.csv')"
   ]
  },
  {
   "cell_type": "markdown",
   "id": "e98e21aa",
   "metadata": {
    "papermill": {
     "duration": 0.013739,
     "end_time": "2022-08-31T06:13:25.083948",
     "exception": false,
     "start_time": "2022-08-31T06:13:25.070209",
     "status": "completed"
    },
    "tags": []
   },
   "source": [
    "### 9.4.1 feature engineering I: 한글화 & downcasting"
   ]
  },
  {
   "cell_type": "code",
   "execution_count": 2,
   "id": "b31bc716",
   "metadata": {
    "execution": {
     "iopub.execute_input": "2022-08-31T06:13:25.111131Z",
     "iopub.status.busy": "2022-08-31T06:13:25.110334Z",
     "iopub.status.idle": "2022-08-31T06:13:25.212483Z",
     "shell.execute_reply": "2022-08-31T06:13:25.211426Z"
    },
    "papermill": {
     "duration": 0.118434,
     "end_time": "2022-08-31T06:13:25.215244",
     "exception": false,
     "start_time": "2022-08-31T06:13:25.096810",
     "status": "completed"
    },
    "tags": []
   },
   "outputs": [],
   "source": [
    "sales_train = sales_train.rename(columns={'date':'날짜', 'date_block_num':'월ID',\n",
    "                                          'shop_id':'상점ID', 'item_id':'상품ID',\n",
    "                                          'item_price':'판매가', 'item_cnt_day':'판매량'})\n",
    "\n",
    "shops = shops.rename(columns={'shop_name':'상점명', 'shop_id':'상점ID'})\n",
    "\n",
    "items = items.rename(columns={'item_name': '상품명', 'item_id': '상품ID',\n",
    "                              'item_category_id': '상품분류ID'})\n",
    "\n",
    "item_categories = item_categories.rename(columns={'item_category_name': '상품분류명',\n",
    "                                                  'item_category_id': '상품분류ID'})\n",
    "\n",
    "test = test.rename(columns={'shop_id': '상점ID', 'item_id': '상품ID'})"
   ]
  },
  {
   "cell_type": "code",
   "execution_count": 3,
   "id": "a2869fb9",
   "metadata": {
    "execution": {
     "iopub.execute_input": "2022-08-31T06:13:25.242425Z",
     "iopub.status.busy": "2022-08-31T06:13:25.241663Z",
     "iopub.status.idle": "2022-08-31T06:13:25.617183Z",
     "shell.execute_reply": "2022-08-31T06:13:25.616342Z"
    },
    "papermill": {
     "duration": 0.392565,
     "end_time": "2022-08-31T06:13:25.619937",
     "exception": false,
     "start_time": "2022-08-31T06:13:25.227372",
     "status": "completed"
    },
    "tags": []
   },
   "outputs": [
    {
     "name": "stdout",
     "output_type": "stream",
     "text": [
      "62.5% 압축됨\n",
      "38.6% 압축됨\n",
      "54.2% 압축됨\n",
      "39.9% 압축됨\n",
      "70.8% 압축됨\n"
     ]
    }
   ],
   "source": [
    "def downcast(df, verbose=True):\n",
    "    start_mem = df.memory_usage().sum() / 1024**2\n",
    "    for col in df.columns:\n",
    "        dtype_name = df[col].dtype.name\n",
    "        if dtype_name == 'object':\n",
    "            pass\n",
    "        elif dtype_name == 'bool':\n",
    "            df[col] = df[col].astype('int8')\n",
    "        elif dtype_name.startswith('int') or (df[col].round() == df[col]).all():\n",
    "            df[col] = pd.to_numeric(df[col], downcast='integer')\n",
    "        else:\n",
    "            df[col] = pd.to_numeric(df[col], downcast='float')\n",
    "    end_mem = df.memory_usage().sum() / 1024**2\n",
    "    if verbose:\n",
    "        print('{:.1f}% 압축됨'.format(100 * (start_mem - end_mem) / start_mem))\n",
    "\n",
    "    return df\n",
    "\n",
    "all_df = [sales_train, shops, items, item_categories, test]\n",
    "for df in all_df:\n",
    "    df = downcast(df)"
   ]
  },
  {
   "cell_type": "markdown",
   "id": "8f65722d",
   "metadata": {
    "papermill": {
     "duration": 0.012116,
     "end_time": "2022-08-31T06:13:25.644499",
     "exception": false,
     "start_time": "2022-08-31T06:13:25.632383",
     "status": "completed"
    },
    "tags": []
   },
   "source": [
    "### 9.4.2 feature engineering II"
   ]
  },
  {
   "cell_type": "code",
   "execution_count": 4,
   "id": "c4658250",
   "metadata": {
    "execution": {
     "iopub.execute_input": "2022-08-31T06:13:25.671472Z",
     "iopub.status.busy": "2022-08-31T06:13:25.671020Z",
     "iopub.status.idle": "2022-08-31T06:13:26.288739Z",
     "shell.execute_reply": "2022-08-31T06:13:26.287867Z"
    },
    "papermill": {
     "duration": 0.634386,
     "end_time": "2022-08-31T06:13:26.291174",
     "exception": false,
     "start_time": "2022-08-31T06:13:25.656788",
     "status": "completed"
    },
    "tags": []
   },
   "outputs": [],
   "source": [
    "# sales_train 이상치 제거 및 전처리\n",
    "sales_train = sales_train[sales_train['판매가'] > 0]\n",
    "# 판매가가 50,000보다 작은 데이터 추출\n",
    "sales_train = sales_train[sales_train['판매가'] < 50000]\n",
    "\n",
    "# 판매량이 0보다 큰 데이터 추출\n",
    "sales_train = sales_train[sales_train['판매량'] > 0]\n",
    "# 판매량이 1,000보다 작은 데이터 추출\n",
    "sales_train = sales_train[sales_train['판매량'] < 1000]"
   ]
  },
  {
   "cell_type": "markdown",
   "id": "ab791844",
   "metadata": {
    "execution": {
     "iopub.execute_input": "2022-08-31T02:02:27.910718Z",
     "iopub.status.busy": "2022-08-31T02:02:27.910307Z",
     "iopub.status.idle": "2022-08-31T02:02:28.541661Z",
     "shell.execute_reply": "2022-08-31T02:02:28.540322Z",
     "shell.execute_reply.started": "2022-08-31T02:02:27.910682Z"
    },
    "papermill": {
     "duration": 0.011808,
     "end_time": "2022-08-31T06:13:26.315402",
     "exception": false,
     "start_time": "2022-08-31T06:13:26.303594",
     "status": "completed"
    },
    "tags": []
   },
   "source": [
    "```python\n",
    "# 1 line code\n",
    "sales_train = sales_train[(sales_train['판매가'] > 0) & (sales_train['판매가'] < 50000)]\n",
    "sales_train = sales_train[(sales_train['판매량'] > 0) & (sales_train['판매량'] < 1000)]\n",
    "\n",
    "# query ver\n",
    "sales_train = sales_train.query('판매가 > 0 and 판매가 < 50000')\n",
    "sales_train = sales_train.query('판매량 > 0 and 판매량 < 1000')\n",
    "```"
   ]
  },
  {
   "cell_type": "code",
   "execution_count": 5,
   "id": "18cfda66",
   "metadata": {
    "execution": {
     "iopub.execute_input": "2022-08-31T06:13:26.341423Z",
     "iopub.status.busy": "2022-08-31T06:13:26.340971Z",
     "iopub.status.idle": "2022-08-31T06:13:26.348112Z",
     "shell.execute_reply": "2022-08-31T06:13:26.346993Z"
    },
    "papermill": {
     "duration": 0.023773,
     "end_time": "2022-08-31T06:13:26.351329",
     "exception": false,
     "start_time": "2022-08-31T06:13:26.327556",
     "status": "completed"
    },
    "tags": []
   },
   "outputs": [
    {
     "name": "stdout",
     "output_type": "stream",
     "text": [
      "!Якутск Орджоникидзе, 56 фран || Якутск Орджоникидзе, 56\n",
      "!Якутск ТЦ \"Центральный\" фран || Якутск ТЦ \"Центральный\"\n",
      "Жуковский ул. Чкалова 39м? || Жуковский ул. Чкалова 39м²\n",
      "РостовНаДону ТРК \"Мегацентр Горизонт\" || РостовНаДону ТРК \"Мегацентр Горизонт\" Островной\n"
     ]
    }
   ],
   "source": [
    "print(shops['상점명'][0], '||', shops['상점명'][57])\n",
    "print(shops['상점명'][1], '||', shops['상점명'][58])\n",
    "print(shops['상점명'][10], '||', shops['상점명'][11])\n",
    "print(shops['상점명'][39], '||', shops['상점명'][40])"
   ]
  },
  {
   "cell_type": "code",
   "execution_count": 6,
   "id": "242626d8",
   "metadata": {
    "execution": {
     "iopub.execute_input": "2022-08-31T06:13:26.377294Z",
     "iopub.status.busy": "2022-08-31T06:13:26.376870Z",
     "iopub.status.idle": "2022-08-31T06:13:26.401597Z",
     "shell.execute_reply": "2022-08-31T06:13:26.400367Z"
    },
    "papermill": {
     "duration": 0.040761,
     "end_time": "2022-08-31T06:13:26.404322",
     "exception": false,
     "start_time": "2022-08-31T06:13:26.363561",
     "status": "completed"
    },
    "tags": []
   },
   "outputs": [],
   "source": [
    "# sales_train 데이터에서 상점ID 수정\n",
    "sales_train.loc[sales_train['상점ID'] == 0, '상점ID'] = 57\n",
    "sales_train.loc[sales_train['상점ID'] == 1, '상점ID'] = 58\n",
    "sales_train.loc[sales_train['상점ID'] == 10, '상점ID'] = 11\n",
    "sales_train.loc[sales_train['상점ID'] == 39, '상점ID'] = 40\n",
    "\n",
    "# test 데이터에서 상점ID 수정\n",
    "test.loc[test['상점ID'] == 0, '상점ID'] = 57\n",
    "test.loc[test['상점ID'] == 1, '상점ID'] = 58\n",
    "test.loc[test['상점ID'] == 10, '상점ID'] = 11\n",
    "test.loc[test['상점ID'] == 39, '상점ID'] = 40"
   ]
  },
  {
   "cell_type": "code",
   "execution_count": 7,
   "id": "6ce96403",
   "metadata": {
    "execution": {
     "iopub.execute_input": "2022-08-31T06:13:26.430923Z",
     "iopub.status.busy": "2022-08-31T06:13:26.430552Z",
     "iopub.status.idle": "2022-08-31T06:13:26.442601Z",
     "shell.execute_reply": "2022-08-31T06:13:26.441361Z"
    },
    "papermill": {
     "duration": 0.028695,
     "end_time": "2022-08-31T06:13:26.445145",
     "exception": false,
     "start_time": "2022-08-31T06:13:26.416450",
     "status": "completed"
    },
    "tags": []
   },
   "outputs": [
    {
     "data": {
      "text/plain": [
       "array(['!Якутск', 'Адыгея', 'Балашиха', 'Волжский', 'Вологда', 'Воронеж',\n",
       "       'Выездная', 'Жуковский', 'Интернет-магазин', 'Казань', 'Калуга',\n",
       "       'Коломна', 'Красноярск', 'Курск', 'Москва', 'Мытищи', 'Н.Новгород',\n",
       "       'Новосибирск', 'Омск', 'РостовНаДону', 'СПб', 'Самара', 'Сергиев',\n",
       "       'Сургут', 'Томск', 'Тюмень', 'Уфа', 'Химки', 'Цифровой', 'Чехов',\n",
       "       'Якутск', 'Ярославль'], dtype=object)"
      ]
     },
     "execution_count": 7,
     "metadata": {},
     "output_type": "execute_result"
    }
   ],
   "source": [
    "# shops Derived feature 생성 및 인코딩\n",
    "shops['도시'] = shops['상점명'].apply(lambda x: x.split()[0])\n",
    "shops['도시'].unique()"
   ]
  },
  {
   "cell_type": "code",
   "execution_count": 8,
   "id": "df90491f",
   "metadata": {
    "execution": {
     "iopub.execute_input": "2022-08-31T06:13:26.472566Z",
     "iopub.status.busy": "2022-08-31T06:13:26.472164Z",
     "iopub.status.idle": "2022-08-31T06:13:26.477983Z",
     "shell.execute_reply": "2022-08-31T06:13:26.477260Z"
    },
    "papermill": {
     "duration": 0.022528,
     "end_time": "2022-08-31T06:13:26.480313",
     "exception": false,
     "start_time": "2022-08-31T06:13:26.457785",
     "status": "completed"
    },
    "tags": []
   },
   "outputs": [],
   "source": [
    "shops.loc[shops['도시'] == '!Якутск', '도시'] = 'Якутск'"
   ]
  },
  {
   "cell_type": "code",
   "execution_count": 9,
   "id": "7642b8b6",
   "metadata": {
    "execution": {
     "iopub.execute_input": "2022-08-31T06:13:26.507209Z",
     "iopub.status.busy": "2022-08-31T06:13:26.506751Z",
     "iopub.status.idle": "2022-08-31T06:13:27.572655Z",
     "shell.execute_reply": "2022-08-31T06:13:27.571556Z"
    },
    "papermill": {
     "duration": 1.082473,
     "end_time": "2022-08-31T06:13:27.575375",
     "exception": false,
     "start_time": "2022-08-31T06:13:26.492902",
     "status": "completed"
    },
    "tags": []
   },
   "outputs": [],
   "source": [
    "from sklearn.preprocessing import LabelEncoder\n",
    "\n",
    "label_encoder = LabelEncoder()\n",
    "\n",
    "# 도시 레이블을 문자에서 숫자로 바꿈\n",
    "shops['도시'] = label_encoder.fit_transform(shops['도시'])"
   ]
  },
  {
   "cell_type": "code",
   "execution_count": 10,
   "id": "80f65a1a",
   "metadata": {
    "execution": {
     "iopub.execute_input": "2022-08-31T06:13:27.603258Z",
     "iopub.status.busy": "2022-08-31T06:13:27.602794Z",
     "iopub.status.idle": "2022-08-31T06:13:27.617621Z",
     "shell.execute_reply": "2022-08-31T06:13:27.616414Z"
    },
    "papermill": {
     "duration": 0.031642,
     "end_time": "2022-08-31T06:13:27.620310",
     "exception": false,
     "start_time": "2022-08-31T06:13:27.588668",
     "status": "completed"
    },
    "tags": []
   },
   "outputs": [
    {
     "data": {
      "text/html": [
       "<div>\n",
       "<style scoped>\n",
       "    .dataframe tbody tr th:only-of-type {\n",
       "        vertical-align: middle;\n",
       "    }\n",
       "\n",
       "    .dataframe tbody tr th {\n",
       "        vertical-align: top;\n",
       "    }\n",
       "\n",
       "    .dataframe thead th {\n",
       "        text-align: right;\n",
       "    }\n",
       "</style>\n",
       "<table border=\"1\" class=\"dataframe\">\n",
       "  <thead>\n",
       "    <tr style=\"text-align: right;\">\n",
       "      <th></th>\n",
       "      <th>상점ID</th>\n",
       "      <th>도시</th>\n",
       "    </tr>\n",
       "  </thead>\n",
       "  <tbody>\n",
       "    <tr>\n",
       "      <th>0</th>\n",
       "      <td>0</td>\n",
       "      <td>29</td>\n",
       "    </tr>\n",
       "    <tr>\n",
       "      <th>1</th>\n",
       "      <td>1</td>\n",
       "      <td>29</td>\n",
       "    </tr>\n",
       "    <tr>\n",
       "      <th>2</th>\n",
       "      <td>2</td>\n",
       "      <td>0</td>\n",
       "    </tr>\n",
       "    <tr>\n",
       "      <th>3</th>\n",
       "      <td>3</td>\n",
       "      <td>1</td>\n",
       "    </tr>\n",
       "    <tr>\n",
       "      <th>4</th>\n",
       "      <td>4</td>\n",
       "      <td>2</td>\n",
       "    </tr>\n",
       "  </tbody>\n",
       "</table>\n",
       "</div>"
      ],
      "text/plain": [
       "   상점ID  도시\n",
       "0     0  29\n",
       "1     1  29\n",
       "2     2   0\n",
       "3     3   1\n",
       "4     4   2"
      ]
     },
     "execution_count": 10,
     "metadata": {},
     "output_type": "execute_result"
    }
   ],
   "source": [
    "# 필요없어진 상점명 제거\n",
    "shops = shops.drop('상점명', axis=1)\n",
    "shops.head()"
   ]
  },
  {
   "cell_type": "markdown",
   "id": "e2e99e88",
   "metadata": {
    "execution": {
     "iopub.execute_input": "2022-08-31T03:07:35.624085Z",
     "iopub.status.busy": "2022-08-31T03:07:35.623643Z",
     "iopub.status.idle": "2022-08-31T03:07:35.632080Z",
     "shell.execute_reply": "2022-08-31T03:07:35.630274Z",
     "shell.execute_reply.started": "2022-08-31T03:07:35.624048Z"
    },
    "papermill": {
     "duration": 0.012306,
     "end_time": "2022-08-31T06:13:27.645457",
     "exception": false,
     "start_time": "2022-08-31T06:13:27.633151",
     "status": "completed"
    },
    "tags": []
   },
   "source": [
    "add to items Derived Variable "
   ]
  },
  {
   "cell_type": "code",
   "execution_count": 11,
   "id": "158191e4",
   "metadata": {
    "execution": {
     "iopub.execute_input": "2022-08-31T06:13:27.673656Z",
     "iopub.status.busy": "2022-08-31T06:13:27.672818Z",
     "iopub.status.idle": "2022-08-31T06:13:27.678760Z",
     "shell.execute_reply": "2022-08-31T06:13:27.677851Z"
    },
    "papermill": {
     "duration": 0.022414,
     "end_time": "2022-08-31T06:13:27.681003",
     "exception": false,
     "start_time": "2022-08-31T06:13:27.658589",
     "status": "completed"
    },
    "tags": []
   },
   "outputs": [],
   "source": [
    "# 상품명과 상품ID는 1:1 매칭이라 상품명 삭제\n",
    "items = items.drop(['상품명'], axis=1)"
   ]
  },
  {
   "cell_type": "code",
   "execution_count": 12,
   "id": "6319c77c",
   "metadata": {
    "execution": {
     "iopub.execute_input": "2022-08-31T06:13:27.708502Z",
     "iopub.status.busy": "2022-08-31T06:13:27.708093Z",
     "iopub.status.idle": "2022-08-31T06:13:27.803334Z",
     "shell.execute_reply": "2022-08-31T06:13:27.802271Z"
    },
    "papermill": {
     "duration": 0.112295,
     "end_time": "2022-08-31T06:13:27.806180",
     "exception": false,
     "start_time": "2022-08-31T06:13:27.693885",
     "status": "completed"
    },
    "tags": []
   },
   "outputs": [
    {
     "data": {
      "text/html": [
       "<div>\n",
       "<style scoped>\n",
       "    .dataframe tbody tr th:only-of-type {\n",
       "        vertical-align: middle;\n",
       "    }\n",
       "\n",
       "    .dataframe tbody tr th {\n",
       "        vertical-align: top;\n",
       "    }\n",
       "\n",
       "    .dataframe thead th {\n",
       "        text-align: right;\n",
       "    }\n",
       "</style>\n",
       "<table border=\"1\" class=\"dataframe\">\n",
       "  <thead>\n",
       "    <tr style=\"text-align: right;\">\n",
       "      <th></th>\n",
       "      <th>상품ID</th>\n",
       "      <th>상품분류ID</th>\n",
       "      <th>첫 판매월</th>\n",
       "    </tr>\n",
       "  </thead>\n",
       "  <tbody>\n",
       "    <tr>\n",
       "      <th>0</th>\n",
       "      <td>0</td>\n",
       "      <td>40</td>\n",
       "      <td>20.0</td>\n",
       "    </tr>\n",
       "    <tr>\n",
       "      <th>1</th>\n",
       "      <td>1</td>\n",
       "      <td>76</td>\n",
       "      <td>15.0</td>\n",
       "    </tr>\n",
       "    <tr>\n",
       "      <th>2</th>\n",
       "      <td>2</td>\n",
       "      <td>40</td>\n",
       "      <td>19.0</td>\n",
       "    </tr>\n",
       "    <tr>\n",
       "      <th>3</th>\n",
       "      <td>3</td>\n",
       "      <td>40</td>\n",
       "      <td>18.0</td>\n",
       "    </tr>\n",
       "    <tr>\n",
       "      <th>4</th>\n",
       "      <td>4</td>\n",
       "      <td>40</td>\n",
       "      <td>20.0</td>\n",
       "    </tr>\n",
       "  </tbody>\n",
       "</table>\n",
       "</div>"
      ],
      "text/plain": [
       "   상품ID  상품분류ID  첫 판매월\n",
       "0     0      40   20.0\n",
       "1     1      76   15.0\n",
       "2     2      40   19.0\n",
       "3     3      40   18.0\n",
       "4     4      40   20.0"
      ]
     },
     "execution_count": 12,
     "metadata": {},
     "output_type": "execute_result"
    }
   ],
   "source": [
    "# 상품이 맨 처음 팔린 날을 피처로 추가\n",
    "items['첫 판매월'] = sales_train.groupby('상품ID').agg({'월ID':'min'})['월ID']\n",
    "items.head()"
   ]
  },
  {
   "cell_type": "code",
   "execution_count": 13,
   "id": "f3af44b4",
   "metadata": {
    "execution": {
     "iopub.execute_input": "2022-08-31T06:13:27.834358Z",
     "iopub.status.busy": "2022-08-31T06:13:27.833486Z",
     "iopub.status.idle": "2022-08-31T06:13:27.852118Z",
     "shell.execute_reply": "2022-08-31T06:13:27.849490Z"
    },
    "papermill": {
     "duration": 0.035471,
     "end_time": "2022-08-31T06:13:27.854642",
     "exception": false,
     "start_time": "2022-08-31T06:13:27.819171",
     "status": "completed"
    },
    "tags": []
   },
   "outputs": [
    {
     "data": {
      "text/html": [
       "<div>\n",
       "<style scoped>\n",
       "    .dataframe tbody tr th:only-of-type {\n",
       "        vertical-align: middle;\n",
       "    }\n",
       "\n",
       "    .dataframe tbody tr th {\n",
       "        vertical-align: top;\n",
       "    }\n",
       "\n",
       "    .dataframe thead th {\n",
       "        text-align: right;\n",
       "    }\n",
       "</style>\n",
       "<table border=\"1\" class=\"dataframe\">\n",
       "  <thead>\n",
       "    <tr style=\"text-align: right;\">\n",
       "      <th></th>\n",
       "      <th>상품ID</th>\n",
       "      <th>상품분류ID</th>\n",
       "      <th>첫 판매월</th>\n",
       "    </tr>\n",
       "  </thead>\n",
       "  <tbody>\n",
       "    <tr>\n",
       "      <th>83</th>\n",
       "      <td>83</td>\n",
       "      <td>40</td>\n",
       "      <td>NaN</td>\n",
       "    </tr>\n",
       "    <tr>\n",
       "      <th>140</th>\n",
       "      <td>140</td>\n",
       "      <td>45</td>\n",
       "      <td>NaN</td>\n",
       "    </tr>\n",
       "    <tr>\n",
       "      <th>168</th>\n",
       "      <td>168</td>\n",
       "      <td>44</td>\n",
       "      <td>NaN</td>\n",
       "    </tr>\n",
       "    <tr>\n",
       "      <th>173</th>\n",
       "      <td>173</td>\n",
       "      <td>45</td>\n",
       "      <td>NaN</td>\n",
       "    </tr>\n",
       "    <tr>\n",
       "      <th>204</th>\n",
       "      <td>204</td>\n",
       "      <td>44</td>\n",
       "      <td>NaN</td>\n",
       "    </tr>\n",
       "    <tr>\n",
       "      <th>...</th>\n",
       "      <td>...</td>\n",
       "      <td>...</td>\n",
       "      <td>...</td>\n",
       "    </tr>\n",
       "    <tr>\n",
       "      <th>21974</th>\n",
       "      <td>21974</td>\n",
       "      <td>61</td>\n",
       "      <td>NaN</td>\n",
       "    </tr>\n",
       "    <tr>\n",
       "      <th>21975</th>\n",
       "      <td>21975</td>\n",
       "      <td>61</td>\n",
       "      <td>NaN</td>\n",
       "    </tr>\n",
       "    <tr>\n",
       "      <th>22022</th>\n",
       "      <td>22022</td>\n",
       "      <td>40</td>\n",
       "      <td>NaN</td>\n",
       "    </tr>\n",
       "    <tr>\n",
       "      <th>22035</th>\n",
       "      <td>22035</td>\n",
       "      <td>40</td>\n",
       "      <td>NaN</td>\n",
       "    </tr>\n",
       "    <tr>\n",
       "      <th>22137</th>\n",
       "      <td>22137</td>\n",
       "      <td>40</td>\n",
       "      <td>NaN</td>\n",
       "    </tr>\n",
       "  </tbody>\n",
       "</table>\n",
       "<p>368 rows × 3 columns</p>\n",
       "</div>"
      ],
      "text/plain": [
       "        상품ID  상품분류ID  첫 판매월\n",
       "83        83      40    NaN\n",
       "140      140      45    NaN\n",
       "168      168      44    NaN\n",
       "173      173      45    NaN\n",
       "204      204      44    NaN\n",
       "...      ...     ...    ...\n",
       "21974  21974      61    NaN\n",
       "21975  21975      61    NaN\n",
       "22022  22022      40    NaN\n",
       "22035  22035      40    NaN\n",
       "22137  22137      40    NaN\n",
       "\n",
       "[368 rows x 3 columns]"
      ]
     },
     "execution_count": 13,
     "metadata": {},
     "output_type": "execute_result"
    }
   ],
   "source": [
    "items[items['첫 판매월'].isnull()]"
   ]
  },
  {
   "cell_type": "code",
   "execution_count": 14,
   "id": "af7b2105",
   "metadata": {
    "execution": {
     "iopub.execute_input": "2022-08-31T06:13:27.882933Z",
     "iopub.status.busy": "2022-08-31T06:13:27.882515Z",
     "iopub.status.idle": "2022-08-31T06:13:27.889135Z",
     "shell.execute_reply": "2022-08-31T06:13:27.887930Z"
    },
    "papermill": {
     "duration": 0.023358,
     "end_time": "2022-08-31T06:13:27.891475",
     "exception": false,
     "start_time": "2022-08-31T06:13:27.868117",
     "status": "completed"
    },
    "tags": []
   },
   "outputs": [],
   "source": [
    "# 첫 판매월 피처의 결측치 34로 대체\n",
    "items['첫 판매월'] = items['첫 판매월'].fillna(34)"
   ]
  },
  {
   "cell_type": "markdown",
   "id": "39ab0ab2",
   "metadata": {
    "papermill": {
     "duration": 0.013873,
     "end_time": "2022-08-31T06:13:27.918789",
     "exception": false,
     "start_time": "2022-08-31T06:13:27.904916",
     "status": "completed"
    },
    "tags": []
   },
   "source": [
    "item_categories Derived Variable 생성, 인코딩"
   ]
  },
  {
   "cell_type": "code",
   "execution_count": 15,
   "id": "da4059d3",
   "metadata": {
    "execution": {
     "iopub.execute_input": "2022-08-31T06:13:27.947588Z",
     "iopub.status.busy": "2022-08-31T06:13:27.946999Z",
     "iopub.status.idle": "2022-08-31T06:13:27.954217Z",
     "shell.execute_reply": "2022-08-31T06:13:27.952767Z"
    },
    "papermill": {
     "duration": 0.024695,
     "end_time": "2022-08-31T06:13:27.956831",
     "exception": false,
     "start_time": "2022-08-31T06:13:27.932136",
     "status": "completed"
    },
    "tags": []
   },
   "outputs": [],
   "source": [
    "# 상품분류명의 첫 단어를 대분류로 추출\n",
    "item_categories['대분류'] = item_categories['상품분류명'].apply(lambda x: x.split()[0])"
   ]
  },
  {
   "cell_type": "code",
   "execution_count": 16,
   "id": "2c0e75b5",
   "metadata": {
    "execution": {
     "iopub.execute_input": "2022-08-31T06:13:27.985450Z",
     "iopub.status.busy": "2022-08-31T06:13:27.984940Z",
     "iopub.status.idle": "2022-08-31T06:13:27.994701Z",
     "shell.execute_reply": "2022-08-31T06:13:27.993339Z"
    },
    "papermill": {
     "duration": 0.026566,
     "end_time": "2022-08-31T06:13:27.996932",
     "exception": false,
     "start_time": "2022-08-31T06:13:27.970366",
     "status": "completed"
    },
    "tags": []
   },
   "outputs": [
    {
     "data": {
      "text/plain": [
       "Игры          14\n",
       "Книги         13\n",
       "Подарки       12\n",
       "Игровые        8\n",
       "Аксессуары     7\n",
       "Музыка         6\n",
       "Программы      6\n",
       "Карты          5\n",
       "Кино           5\n",
       "Служебные      2\n",
       "Чистые         2\n",
       "PC             1\n",
       "Билеты         1\n",
       "Доставка       1\n",
       "Элементы       1\n",
       "Name: 대분류, dtype: int64"
      ]
     },
     "execution_count": 16,
     "metadata": {},
     "output_type": "execute_result"
    }
   ],
   "source": [
    "item_categories['대분류'].value_counts()"
   ]
  },
  {
   "cell_type": "markdown",
   "id": "b92a91aa",
   "metadata": {
    "papermill": {
     "duration": 0.013266,
     "end_time": "2022-08-31T06:13:28.023897",
     "exception": false,
     "start_time": "2022-08-31T06:13:28.010631",
     "status": "completed"
    },
    "tags": []
   },
   "source": [
    "5개 미만 'etc' 로 분류"
   ]
  },
  {
   "cell_type": "code",
   "execution_count": 17,
   "id": "fe778f70",
   "metadata": {
    "execution": {
     "iopub.execute_input": "2022-08-31T06:13:28.053669Z",
     "iopub.status.busy": "2022-08-31T06:13:28.053229Z",
     "iopub.status.idle": "2022-08-31T06:13:28.096238Z",
     "shell.execute_reply": "2022-08-31T06:13:28.094705Z"
    },
    "papermill": {
     "duration": 0.061087,
     "end_time": "2022-08-31T06:13:28.098531",
     "exception": false,
     "start_time": "2022-08-31T06:13:28.037444",
     "status": "completed"
    },
    "tags": []
   },
   "outputs": [],
   "source": [
    "def make_etc(x):\n",
    "    if len(item_categories[item_categories['대분류']==x]) >= 5: # 대분류가 같은 애덜이 5개 이상이면이라는 뜻.\n",
    "        return x\n",
    "    else:\n",
    "        return 'etc'\n",
    "    \n",
    "# 대분류의 고윳값 개수가 5개 미만이면 'etc'로 바꾸기\n",
    "item_categories['대분류'] = item_categories['대분류'].apply(make_etc)"
   ]
  },
  {
   "cell_type": "code",
   "execution_count": 18,
   "id": "6234f3b1",
   "metadata": {
    "execution": {
     "iopub.execute_input": "2022-08-31T06:13:28.127903Z",
     "iopub.status.busy": "2022-08-31T06:13:28.127485Z",
     "iopub.status.idle": "2022-08-31T06:13:28.139277Z",
     "shell.execute_reply": "2022-08-31T06:13:28.138216Z"
    },
    "papermill": {
     "duration": 0.028996,
     "end_time": "2022-08-31T06:13:28.141565",
     "exception": false,
     "start_time": "2022-08-31T06:13:28.112569",
     "status": "completed"
    },
    "tags": []
   },
   "outputs": [
    {
     "data": {
      "text/html": [
       "<div>\n",
       "<style scoped>\n",
       "    .dataframe tbody tr th:only-of-type {\n",
       "        vertical-align: middle;\n",
       "    }\n",
       "\n",
       "    .dataframe tbody tr th {\n",
       "        vertical-align: top;\n",
       "    }\n",
       "\n",
       "    .dataframe thead th {\n",
       "        text-align: right;\n",
       "    }\n",
       "</style>\n",
       "<table border=\"1\" class=\"dataframe\">\n",
       "  <thead>\n",
       "    <tr style=\"text-align: right;\">\n",
       "      <th></th>\n",
       "      <th>상품분류명</th>\n",
       "      <th>상품분류ID</th>\n",
       "      <th>대분류</th>\n",
       "    </tr>\n",
       "  </thead>\n",
       "  <tbody>\n",
       "    <tr>\n",
       "      <th>0</th>\n",
       "      <td>PC - Гарнитуры/Наушники</td>\n",
       "      <td>0</td>\n",
       "      <td>etc</td>\n",
       "    </tr>\n",
       "    <tr>\n",
       "      <th>1</th>\n",
       "      <td>Аксессуары - PS2</td>\n",
       "      <td>1</td>\n",
       "      <td>Аксессуары</td>\n",
       "    </tr>\n",
       "    <tr>\n",
       "      <th>2</th>\n",
       "      <td>Аксессуары - PS3</td>\n",
       "      <td>2</td>\n",
       "      <td>Аксессуары</td>\n",
       "    </tr>\n",
       "    <tr>\n",
       "      <th>3</th>\n",
       "      <td>Аксессуары - PS4</td>\n",
       "      <td>3</td>\n",
       "      <td>Аксессуары</td>\n",
       "    </tr>\n",
       "    <tr>\n",
       "      <th>4</th>\n",
       "      <td>Аксессуары - PSP</td>\n",
       "      <td>4</td>\n",
       "      <td>Аксессуары</td>\n",
       "    </tr>\n",
       "  </tbody>\n",
       "</table>\n",
       "</div>"
      ],
      "text/plain": [
       "                     상품분류명  상품분류ID         대분류\n",
       "0  PC - Гарнитуры/Наушники       0         etc\n",
       "1         Аксессуары - PS2       1  Аксессуары\n",
       "2         Аксессуары - PS3       2  Аксессуары\n",
       "3         Аксессуары - PS4       3  Аксессуары\n",
       "4         Аксессуары - PSP       4  Аксессуары"
      ]
     },
     "execution_count": 18,
     "metadata": {},
     "output_type": "execute_result"
    }
   ],
   "source": [
    "item_categories.head()"
   ]
  },
  {
   "cell_type": "code",
   "execution_count": 19,
   "id": "e0db9bf4",
   "metadata": {
    "execution": {
     "iopub.execute_input": "2022-08-31T06:13:28.171113Z",
     "iopub.status.busy": "2022-08-31T06:13:28.170666Z",
     "iopub.status.idle": "2022-08-31T06:13:28.177516Z",
     "shell.execute_reply": "2022-08-31T06:13:28.176701Z"
    },
    "papermill": {
     "duration": 0.024247,
     "end_time": "2022-08-31T06:13:28.179890",
     "exception": false,
     "start_time": "2022-08-31T06:13:28.155643",
     "status": "completed"
    },
    "tags": []
   },
   "outputs": [],
   "source": [
    "# 대분류 피처 레이블 인코딩\n",
    "item_categories['대분류'] = label_encoder.fit_transform(item_categories['대분류'])\n",
    "\n",
    "# 필요 없어진 상품분류명 피처 제거\n",
    "item_categories = item_categories.drop(['상품분류명'], axis=1)"
   ]
  },
  {
   "cell_type": "markdown",
   "id": "9822add3",
   "metadata": {
    "papermill": {
     "duration": 0.013681,
     "end_time": "2022-08-31T06:13:28.208286",
     "exception": false,
     "start_time": "2022-08-31T06:13:28.194605",
     "status": "completed"
    },
    "tags": []
   },
   "source": [
    "### 9.4.3 feature engineering III: 데이터 조합, 파생 피처 생성"
   ]
  },
  {
   "cell_type": "code",
   "execution_count": 20,
   "id": "b4307124",
   "metadata": {
    "execution": {
     "iopub.execute_input": "2022-08-31T06:13:28.238200Z",
     "iopub.status.busy": "2022-08-31T06:13:28.237248Z",
     "iopub.status.idle": "2022-08-31T06:13:37.767333Z",
     "shell.execute_reply": "2022-08-31T06:13:37.765937Z"
    },
    "papermill": {
     "duration": 9.548046,
     "end_time": "2022-08-31T06:13:37.770250",
     "exception": false,
     "start_time": "2022-08-31T06:13:28.222204",
     "status": "completed"
    },
    "tags": []
   },
   "outputs": [],
   "source": [
    "# 데이터 조합\n",
    "from itertools import product\n",
    "\n",
    "train = []\n",
    "# 월ID, 상점ID, 상품ID 조합 생성\n",
    "for i in sales_train['월ID'].unique():\n",
    "    all_shop = sales_train.loc[sales_train['월ID']==i, '상점ID'].unique()\n",
    "    all_item = sales_train.loc[sales_train['월ID']==i, '상품ID'].unique()\n",
    "    train.append(np.array(list(product([i], all_shop, all_item))))\n",
    "\n",
    "idx_features = ['월ID', '상점ID', '상품ID'] # 기준 피처\n",
    "train = pd.DataFrame(np.vstack(train), columns=idx_features)"
   ]
  },
  {
   "cell_type": "code",
   "execution_count": 21,
   "id": "56f964de",
   "metadata": {
    "execution": {
     "iopub.execute_input": "2022-08-31T06:13:37.800781Z",
     "iopub.status.busy": "2022-08-31T06:13:37.800327Z",
     "iopub.status.idle": "2022-08-31T06:13:43.415732Z",
     "shell.execute_reply": "2022-08-31T06:13:43.414544Z"
    },
    "papermill": {
     "duration": 5.633417,
     "end_time": "2022-08-31T06:13:43.418402",
     "exception": false,
     "start_time": "2022-08-31T06:13:37.784985",
     "status": "completed"
    },
    "tags": []
   },
   "outputs": [
    {
     "data": {
      "text/html": [
       "<div>\n",
       "<style scoped>\n",
       "    .dataframe tbody tr th:only-of-type {\n",
       "        vertical-align: middle;\n",
       "    }\n",
       "\n",
       "    .dataframe tbody tr th {\n",
       "        vertical-align: top;\n",
       "    }\n",
       "\n",
       "    .dataframe thead th {\n",
       "        text-align: right;\n",
       "    }\n",
       "</style>\n",
       "<table border=\"1\" class=\"dataframe\">\n",
       "  <thead>\n",
       "    <tr style=\"text-align: right;\">\n",
       "      <th></th>\n",
       "      <th>월ID</th>\n",
       "      <th>상점ID</th>\n",
       "      <th>상품ID</th>\n",
       "      <th>월간 판매량</th>\n",
       "      <th>평균 판매가</th>\n",
       "    </tr>\n",
       "  </thead>\n",
       "  <tbody>\n",
       "    <tr>\n",
       "      <th>0</th>\n",
       "      <td>0</td>\n",
       "      <td>59</td>\n",
       "      <td>22154</td>\n",
       "      <td>1.0</td>\n",
       "      <td>999.0</td>\n",
       "    </tr>\n",
       "    <tr>\n",
       "      <th>1</th>\n",
       "      <td>0</td>\n",
       "      <td>59</td>\n",
       "      <td>2552</td>\n",
       "      <td>NaN</td>\n",
       "      <td>NaN</td>\n",
       "    </tr>\n",
       "    <tr>\n",
       "      <th>2</th>\n",
       "      <td>0</td>\n",
       "      <td>59</td>\n",
       "      <td>2554</td>\n",
       "      <td>NaN</td>\n",
       "      <td>NaN</td>\n",
       "    </tr>\n",
       "    <tr>\n",
       "      <th>3</th>\n",
       "      <td>0</td>\n",
       "      <td>59</td>\n",
       "      <td>2555</td>\n",
       "      <td>NaN</td>\n",
       "      <td>NaN</td>\n",
       "    </tr>\n",
       "    <tr>\n",
       "      <th>4</th>\n",
       "      <td>0</td>\n",
       "      <td>59</td>\n",
       "      <td>2564</td>\n",
       "      <td>NaN</td>\n",
       "      <td>NaN</td>\n",
       "    </tr>\n",
       "  </tbody>\n",
       "</table>\n",
       "</div>"
      ],
      "text/plain": [
       "   월ID  상점ID   상품ID  월간 판매량  평균 판매가\n",
       "0    0    59  22154     1.0   999.0\n",
       "1    0    59   2552     NaN     NaN\n",
       "2    0    59   2554     NaN     NaN\n",
       "3    0    59   2555     NaN     NaN\n",
       "4    0    59   2564     NaN     NaN"
      ]
     },
     "execution_count": 21,
     "metadata": {},
     "output_type": "execute_result"
    }
   ],
   "source": [
    "# add to Derived feature\n",
    "group = sales_train.groupby(idx_features).agg({'판매량': 'sum',\n",
    "                                               '판매가': 'mean'})\n",
    "group = group.reset_index()\n",
    "group = group.rename(columns={'판매량': '월간 판매량', '판매가': '평균 판매가'})\n",
    "\n",
    "train = train.merge(group, on=idx_features, how='left')\n",
    "\n",
    "train.head()"
   ]
  },
  {
   "cell_type": "code",
   "execution_count": 22,
   "id": "18b1865c",
   "metadata": {
    "execution": {
     "iopub.execute_input": "2022-08-31T06:13:43.449789Z",
     "iopub.status.busy": "2022-08-31T06:13:43.448775Z",
     "iopub.status.idle": "2022-08-31T06:13:43.568596Z",
     "shell.execute_reply": "2022-08-31T06:13:43.567377Z"
    },
    "papermill": {
     "duration": 0.138184,
     "end_time": "2022-08-31T06:13:43.571352",
     "exception": false,
     "start_time": "2022-08-31T06:13:43.433168",
     "status": "completed"
    },
    "tags": []
   },
   "outputs": [],
   "source": [
    "# garbage collection\n",
    "import gc\n",
    "\n",
    "del group\n",
    "gc.collect();"
   ]
  },
  {
   "cell_type": "code",
   "execution_count": 23,
   "id": "b33d36ad",
   "metadata": {
    "execution": {
     "iopub.execute_input": "2022-08-31T06:13:43.602218Z",
     "iopub.status.busy": "2022-08-31T06:13:43.601169Z",
     "iopub.status.idle": "2022-08-31T06:13:49.235867Z",
     "shell.execute_reply": "2022-08-31T06:13:49.234369Z"
    },
    "papermill": {
     "duration": 5.652581,
     "end_time": "2022-08-31T06:13:49.238277",
     "exception": false,
     "start_time": "2022-08-31T06:13:43.585696",
     "status": "completed"
    },
    "tags": []
   },
   "outputs": [
    {
     "data": {
      "text/html": [
       "<div>\n",
       "<style scoped>\n",
       "    .dataframe tbody tr th:only-of-type {\n",
       "        vertical-align: middle;\n",
       "    }\n",
       "\n",
       "    .dataframe tbody tr th {\n",
       "        vertical-align: top;\n",
       "    }\n",
       "\n",
       "    .dataframe thead th {\n",
       "        text-align: right;\n",
       "    }\n",
       "</style>\n",
       "<table border=\"1\" class=\"dataframe\">\n",
       "  <thead>\n",
       "    <tr style=\"text-align: right;\">\n",
       "      <th></th>\n",
       "      <th>월ID</th>\n",
       "      <th>상점ID</th>\n",
       "      <th>상품ID</th>\n",
       "      <th>월간 판매량</th>\n",
       "      <th>평균 판매가</th>\n",
       "      <th>판매건수</th>\n",
       "    </tr>\n",
       "  </thead>\n",
       "  <tbody>\n",
       "    <tr>\n",
       "      <th>0</th>\n",
       "      <td>0</td>\n",
       "      <td>59</td>\n",
       "      <td>22154</td>\n",
       "      <td>1.0</td>\n",
       "      <td>999.0</td>\n",
       "      <td>1.0</td>\n",
       "    </tr>\n",
       "    <tr>\n",
       "      <th>1</th>\n",
       "      <td>0</td>\n",
       "      <td>59</td>\n",
       "      <td>2552</td>\n",
       "      <td>NaN</td>\n",
       "      <td>NaN</td>\n",
       "      <td>NaN</td>\n",
       "    </tr>\n",
       "    <tr>\n",
       "      <th>2</th>\n",
       "      <td>0</td>\n",
       "      <td>59</td>\n",
       "      <td>2554</td>\n",
       "      <td>NaN</td>\n",
       "      <td>NaN</td>\n",
       "      <td>NaN</td>\n",
       "    </tr>\n",
       "    <tr>\n",
       "      <th>3</th>\n",
       "      <td>0</td>\n",
       "      <td>59</td>\n",
       "      <td>2555</td>\n",
       "      <td>NaN</td>\n",
       "      <td>NaN</td>\n",
       "      <td>NaN</td>\n",
       "    </tr>\n",
       "    <tr>\n",
       "      <th>4</th>\n",
       "      <td>0</td>\n",
       "      <td>59</td>\n",
       "      <td>2564</td>\n",
       "      <td>NaN</td>\n",
       "      <td>NaN</td>\n",
       "      <td>NaN</td>\n",
       "    </tr>\n",
       "  </tbody>\n",
       "</table>\n",
       "</div>"
      ],
      "text/plain": [
       "   월ID  상점ID   상품ID  월간 판매량  평균 판매가  판매건수\n",
       "0    0    59  22154     1.0   999.0   1.0\n",
       "1    0    59   2552     NaN     NaN   NaN\n",
       "2    0    59   2554     NaN     NaN   NaN\n",
       "3    0    59   2555     NaN     NaN   NaN\n",
       "4    0    59   2564     NaN     NaN   NaN"
      ]
     },
     "execution_count": 23,
     "metadata": {},
     "output_type": "execute_result"
    }
   ],
   "source": [
    "# 상품 판매건수 피처 추가\n",
    "group = sales_train.groupby(idx_features).agg({'판매량': 'count'})\n",
    "group = group.reset_index()\n",
    "group = group.rename(columns={'판매량': '판매건수'})\n",
    "\n",
    "train = train.merge(group, on=idx_features, how='left')\n",
    "\n",
    "# 가비지 컬렉션\n",
    "del group, sales_train\n",
    "gc.collect()\n",
    "\n",
    "train.head()"
   ]
  },
  {
   "cell_type": "markdown",
   "id": "56cb142c",
   "metadata": {
    "execution": {
     "iopub.execute_input": "2022-08-30T15:02:14.903023Z",
     "iopub.status.busy": "2022-08-30T15:02:14.902492Z",
     "iopub.status.idle": "2022-08-30T15:02:14.908615Z",
     "shell.execute_reply": "2022-08-30T15:02:14.90762Z",
     "shell.execute_reply.started": "2022-08-30T15:02:14.902985Z"
    },
    "papermill": {
     "duration": 0.014948,
     "end_time": "2022-08-31T06:13:49.268292",
     "exception": false,
     "start_time": "2022-08-31T06:13:49.253344",
     "status": "completed"
    },
    "tags": []
   },
   "source": [
    "### 9.4.4 feature engineering VI: 나머지 데이터 병합(최종 데이터)"
   ]
  },
  {
   "cell_type": "markdown",
   "id": "0f27dabc",
   "metadata": {
    "papermill": {
     "duration": 0.014154,
     "end_time": "2022-08-31T06:13:49.296869",
     "exception": false,
     "start_time": "2022-08-31T06:13:49.282715",
     "status": "completed"
    },
    "tags": []
   },
   "source": [
    "테스트 데이터 이어붙이기"
   ]
  },
  {
   "cell_type": "code",
   "execution_count": 24,
   "id": "47477507",
   "metadata": {
    "execution": {
     "iopub.execute_input": "2022-08-31T06:13:49.328354Z",
     "iopub.status.busy": "2022-08-31T06:13:49.327402Z",
     "iopub.status.idle": "2022-08-31T06:13:49.878957Z",
     "shell.execute_reply": "2022-08-31T06:13:49.878143Z"
    },
    "papermill": {
     "duration": 0.56984,
     "end_time": "2022-08-31T06:13:49.881387",
     "exception": false,
     "start_time": "2022-08-31T06:13:49.311547",
     "status": "completed"
    },
    "tags": []
   },
   "outputs": [
    {
     "data": {
      "text/html": [
       "<div>\n",
       "<style scoped>\n",
       "    .dataframe tbody tr th:only-of-type {\n",
       "        vertical-align: middle;\n",
       "    }\n",
       "\n",
       "    .dataframe tbody tr th {\n",
       "        vertical-align: top;\n",
       "    }\n",
       "\n",
       "    .dataframe thead th {\n",
       "        text-align: right;\n",
       "    }\n",
       "</style>\n",
       "<table border=\"1\" class=\"dataframe\">\n",
       "  <thead>\n",
       "    <tr style=\"text-align: right;\">\n",
       "      <th></th>\n",
       "      <th>월ID</th>\n",
       "      <th>상점ID</th>\n",
       "      <th>상품ID</th>\n",
       "      <th>월간 판매량</th>\n",
       "      <th>평균 판매가</th>\n",
       "      <th>판매건수</th>\n",
       "    </tr>\n",
       "  </thead>\n",
       "  <tbody>\n",
       "    <tr>\n",
       "      <th>0</th>\n",
       "      <td>0</td>\n",
       "      <td>59</td>\n",
       "      <td>22154</td>\n",
       "      <td>1.0</td>\n",
       "      <td>999.0</td>\n",
       "      <td>1.0</td>\n",
       "    </tr>\n",
       "    <tr>\n",
       "      <th>1</th>\n",
       "      <td>0</td>\n",
       "      <td>59</td>\n",
       "      <td>2552</td>\n",
       "      <td>0.0</td>\n",
       "      <td>0.0</td>\n",
       "      <td>0.0</td>\n",
       "    </tr>\n",
       "    <tr>\n",
       "      <th>2</th>\n",
       "      <td>0</td>\n",
       "      <td>59</td>\n",
       "      <td>2554</td>\n",
       "      <td>0.0</td>\n",
       "      <td>0.0</td>\n",
       "      <td>0.0</td>\n",
       "    </tr>\n",
       "    <tr>\n",
       "      <th>3</th>\n",
       "      <td>0</td>\n",
       "      <td>59</td>\n",
       "      <td>2555</td>\n",
       "      <td>0.0</td>\n",
       "      <td>0.0</td>\n",
       "      <td>0.0</td>\n",
       "    </tr>\n",
       "    <tr>\n",
       "      <th>4</th>\n",
       "      <td>0</td>\n",
       "      <td>59</td>\n",
       "      <td>2564</td>\n",
       "      <td>0.0</td>\n",
       "      <td>0.0</td>\n",
       "      <td>0.0</td>\n",
       "    </tr>\n",
       "  </tbody>\n",
       "</table>\n",
       "</div>"
      ],
      "text/plain": [
       "   월ID  상점ID   상품ID  월간 판매량  평균 판매가  판매건수\n",
       "0    0    59  22154     1.0   999.0   1.0\n",
       "1    0    59   2552     0.0     0.0   0.0\n",
       "2    0    59   2554     0.0     0.0   0.0\n",
       "3    0    59   2555     0.0     0.0   0.0\n",
       "4    0    59   2564     0.0     0.0   0.0"
      ]
     },
     "execution_count": 24,
     "metadata": {},
     "output_type": "execute_result"
    }
   ],
   "source": [
    "# 테스트 데이터 월ID를 saled_train에 없는 34로 설정\n",
    "test['월ID'] = 34\n",
    "\n",
    "# train과 test 이어붙이기\n",
    "all_data = pd.concat([train, test.drop('ID', axis=1)],\n",
    "                     ignore_index=True,\n",
    "                     keys=idx_features)\n",
    "# 결측값을 0으로 대체\n",
    "all_data = all_data.fillna(0)\n",
    "\n",
    "all_data.head()"
   ]
  },
  {
   "cell_type": "code",
   "execution_count": 25,
   "id": "d4fd722d",
   "metadata": {
    "execution": {
     "iopub.execute_input": "2022-08-31T06:13:49.913846Z",
     "iopub.status.busy": "2022-08-31T06:13:49.913390Z",
     "iopub.status.idle": "2022-08-31T06:13:57.064408Z",
     "shell.execute_reply": "2022-08-31T06:13:57.063220Z"
    },
    "papermill": {
     "duration": 7.170568,
     "end_time": "2022-08-31T06:13:57.067147",
     "exception": false,
     "start_time": "2022-08-31T06:13:49.896579",
     "status": "completed"
    },
    "tags": []
   },
   "outputs": [
    {
     "name": "stdout",
     "output_type": "stream",
     "text": [
      "64.6% 압축됨\n"
     ]
    }
   ],
   "source": [
    "# 나머지 데이터 병합\n",
    "all_data = all_data.merge(shops, on='상점ID', how='left')\n",
    "all_data = all_data.merge(items, on='상품ID', how='left')\n",
    "all_data = all_data.merge(item_categories, on='상품분류ID', how='left')\n",
    "\n",
    "# 데이터 다운캐스팅\n",
    "all_data = downcast(all_data)"
   ]
  },
  {
   "cell_type": "code",
   "execution_count": 26,
   "id": "0922c0d4",
   "metadata": {
    "execution": {
     "iopub.execute_input": "2022-08-31T06:13:57.098531Z",
     "iopub.status.busy": "2022-08-31T06:13:57.098118Z",
     "iopub.status.idle": "2022-08-31T06:13:57.215234Z",
     "shell.execute_reply": "2022-08-31T06:13:57.214104Z"
    },
    "papermill": {
     "duration": 0.135428,
     "end_time": "2022-08-31T06:13:57.217454",
     "exception": false,
     "start_time": "2022-08-31T06:13:57.082026",
     "status": "completed"
    },
    "tags": []
   },
   "outputs": [],
   "source": [
    "del shops, items, item_categories\n",
    "gc.collect();"
   ]
  },
  {
   "cell_type": "markdown",
   "id": "c63ec536",
   "metadata": {
    "papermill": {
     "duration": 0.014576,
     "end_time": "2022-08-31T06:13:57.247095",
     "exception": false,
     "start_time": "2022-08-31T06:13:57.232519",
     "status": "completed"
    },
    "tags": []
   },
   "source": [
    "### 9.4.5 feature engineering V: 시차 피처 생성"
   ]
  },
  {
   "cell_type": "markdown",
   "id": "32f91b4c",
   "metadata": {
    "papermill": {
     "duration": 0.014635,
     "end_time": "2022-08-31T06:13:57.276656",
     "exception": false,
     "start_time": "2022-08-31T06:13:57.262021",
     "status": "completed"
    },
    "tags": []
   },
   "source": [
    "기준 피처별 월간 평균 판매량 파생 피처 생성"
   ]
  },
  {
   "cell_type": "code",
   "execution_count": 27,
   "id": "3cfde2bd",
   "metadata": {
    "execution": {
     "iopub.execute_input": "2022-08-31T06:13:57.308183Z",
     "iopub.status.busy": "2022-08-31T06:13:57.307749Z",
     "iopub.status.idle": "2022-08-31T06:13:57.316154Z",
     "shell.execute_reply": "2022-08-31T06:13:57.315039Z"
    },
    "papermill": {
     "duration": 0.026947,
     "end_time": "2022-08-31T06:13:57.318395",
     "exception": false,
     "start_time": "2022-08-31T06:13:57.291448",
     "status": "completed"
    },
    "tags": []
   },
   "outputs": [],
   "source": [
    "def add_mean_features(df, mean_features, idx_features):\n",
    "    # 기준 피처 확인 \n",
    "    assert (idx_features[0] == '월ID') and \\\n",
    "           len(idx_features) in [2, 3]\n",
    "    \n",
    "    # 파생 피처명 설정 \n",
    "    if len(idx_features) == 2:\n",
    "        feature_name = idx_features[1] + '별 평균 판매량'\n",
    "    else:\n",
    "        feature_name = idx_features[1] + ' ' + idx_features[2] + '별 평균 판매량'\n",
    "    \n",
    "    # 기준 피처를 토대로 그룹화해 월간 평균 판매량 구하기 \n",
    "    group = df.groupby(idx_features).agg({'월간 판매량': 'mean'})\n",
    "    group = group.reset_index()\n",
    "    group = group.rename(columns={'월간 판매량': feature_name})\n",
    "    \n",
    "    # df와 group 병합 \n",
    "    df = df.merge(group, on=idx_features, how='left')\n",
    "    # 데이터 다운캐스팅 \n",
    "    df = downcast(df, verbose=False)\n",
    "    # 새로 만든 feature_name 피처명을 mean_features 리스트에 추가 \n",
    "    mean_features.append(feature_name)\n",
    "    \n",
    "    # 가비지 컬렉션\n",
    "    del group\n",
    "    gc.collect()\n",
    "    \n",
    "    return df, mean_features"
   ]
  },
  {
   "cell_type": "code",
   "execution_count": 28,
   "id": "a3c5e2c9",
   "metadata": {
    "execution": {
     "iopub.execute_input": "2022-08-31T06:13:57.350390Z",
     "iopub.status.busy": "2022-08-31T06:13:57.349689Z",
     "iopub.status.idle": "2022-08-31T06:14:12.669764Z",
     "shell.execute_reply": "2022-08-31T06:14:12.668526Z"
    },
    "papermill": {
     "duration": 15.338969,
     "end_time": "2022-08-31T06:14:12.672429",
     "exception": false,
     "start_time": "2022-08-31T06:13:57.333460",
     "status": "completed"
    },
    "tags": []
   },
   "outputs": [],
   "source": [
    "# 그룹화 기준 피처 중 '상품ID'가 포함된 파생 피처명을 담을 리스트\n",
    "item_mean_features = []\n",
    "\n",
    "# ['월ID', '상품ID']로 그룹화한 월간 평균 판매량 파생 피처 생성\n",
    "all_data, item_mean_features = add_mean_features(df=all_data,\n",
    "                                                 mean_features=item_mean_features,\n",
    "                                                 idx_features=['월ID', '상품ID'])\n",
    "\n",
    "# ['월ID', '상품ID', '도시']로 그룹화한 월간 평균 판매량 파생 피처 생성\n",
    "all_data, item_mean_features = add_mean_features(df=all_data,\n",
    "                                                 mean_features=item_mean_features,\n",
    "                                                 idx_features=['월ID', '상품ID', '도시'])"
   ]
  },
  {
   "cell_type": "code",
   "execution_count": 29,
   "id": "52648fe4",
   "metadata": {
    "execution": {
     "iopub.execute_input": "2022-08-31T06:14:12.705459Z",
     "iopub.status.busy": "2022-08-31T06:14:12.704449Z",
     "iopub.status.idle": "2022-08-31T06:14:12.710214Z",
     "shell.execute_reply": "2022-08-31T06:14:12.709442Z"
    },
    "papermill": {
     "duration": 0.024656,
     "end_time": "2022-08-31T06:14:12.712335",
     "exception": false,
     "start_time": "2022-08-31T06:14:12.687679",
     "status": "completed"
    },
    "tags": []
   },
   "outputs": [
    {
     "data": {
      "text/plain": [
       "['상품ID별 평균 판매량', '상품ID 도시별 평균 판매량']"
      ]
     },
     "execution_count": 29,
     "metadata": {},
     "output_type": "execute_result"
    }
   ],
   "source": [
    "item_mean_features"
   ]
  },
  {
   "cell_type": "code",
   "execution_count": 30,
   "id": "f40e1c91",
   "metadata": {
    "execution": {
     "iopub.execute_input": "2022-08-31T06:14:12.745033Z",
     "iopub.status.busy": "2022-08-31T06:14:12.744388Z",
     "iopub.status.idle": "2022-08-31T06:14:16.705778Z",
     "shell.execute_reply": "2022-08-31T06:14:16.704447Z"
    },
    "papermill": {
     "duration": 3.981209,
     "end_time": "2022-08-31T06:14:16.708966",
     "exception": false,
     "start_time": "2022-08-31T06:14:12.727757",
     "status": "completed"
    },
    "tags": []
   },
   "outputs": [],
   "source": [
    "# 그룹화 기준 피처 중 '상점ID'가 포함된 파생 피처명을 담을 리스트\n",
    "shop_mean_features = []\n",
    "\n",
    "# ['월ID', '상점ID', '상품분류ID']로 그룹화한 월간 평균 판매량 파생 피처 생성\n",
    "all_data, shop_mean_features = add_mean_features(df=all_data, \n",
    "                                                 mean_features=shop_mean_features,\n",
    "                                                 idx_features=['월ID', '상점ID', '상품분류ID'])"
   ]
  },
  {
   "cell_type": "code",
   "execution_count": 31,
   "id": "01681944",
   "metadata": {
    "execution": {
     "iopub.execute_input": "2022-08-31T06:14:16.742670Z",
     "iopub.status.busy": "2022-08-31T06:14:16.741893Z",
     "iopub.status.idle": "2022-08-31T06:14:16.749433Z",
     "shell.execute_reply": "2022-08-31T06:14:16.748177Z"
    },
    "papermill": {
     "duration": 0.027279,
     "end_time": "2022-08-31T06:14:16.751748",
     "exception": false,
     "start_time": "2022-08-31T06:14:16.724469",
     "status": "completed"
    },
    "tags": []
   },
   "outputs": [
    {
     "data": {
      "text/plain": [
       "['상점ID 상품분류ID별 평균 판매량']"
      ]
     },
     "execution_count": 31,
     "metadata": {},
     "output_type": "execute_result"
    }
   ],
   "source": [
    "shop_mean_features"
   ]
  },
  {
   "cell_type": "code",
   "execution_count": 32,
   "id": "26c4c50a",
   "metadata": {
    "execution": {
     "iopub.execute_input": "2022-08-31T06:14:16.785341Z",
     "iopub.status.busy": "2022-08-31T06:14:16.784236Z",
     "iopub.status.idle": "2022-08-31T06:14:16.793193Z",
     "shell.execute_reply": "2022-08-31T06:14:16.792066Z"
    },
    "papermill": {
     "duration": 0.028046,
     "end_time": "2022-08-31T06:14:16.795486",
     "exception": false,
     "start_time": "2022-08-31T06:14:16.767440",
     "status": "completed"
    },
    "tags": []
   },
   "outputs": [],
   "source": [
    "# 시차 피처 생성 원리와 구현\n",
    "def add_lag_features(df, lag_features_to_clip, idx_features, \n",
    "                     lag_feature, nlags=3, clip=False):\n",
    "    # 시차 피처 생성에 필요한 DataFrame 부분만 복사 \n",
    "    df_temp = df[idx_features + [lag_feature]].copy() \n",
    "\n",
    "    # 시차 피처 생성 \n",
    "    for i in range(1, nlags+1):\n",
    "        # 시차 피처명 \n",
    "        lag_feature_name = lag_feature +'_시차' + str(i)\n",
    "        # df_temp 열 이름 설정 \n",
    "        df_temp.columns = idx_features + [lag_feature_name]\n",
    "        # df_temp의 date_block_num 피처에 i 더하기 \n",
    "        df_temp['월ID'] += i\n",
    "        # idx_feature를 기준으로 df와 df_temp 병합하기 \n",
    "        df = df.merge(df_temp.drop_duplicates(), \n",
    "                      on=idx_features, \n",
    "                      how='left')\n",
    "        # 결측값 0으로 대체 \n",
    "        df[lag_feature_name] = df[lag_feature_name].fillna(0)\n",
    "        # 0 ~ 20 사이로 제한할 시차 피처명을 lag_features_to_clip에 추가 \n",
    "        if clip: \n",
    "            lag_features_to_clip.append(lag_feature_name)\n",
    "    \n",
    "    # 데이터 다운캐스팅\n",
    "    df = downcast(df, False)\n",
    "    # 가비지 컬렉션\n",
    "    del df_temp\n",
    "    gc.collect()\n",
    "    \n",
    "    return df, lag_features_to_clip"
   ]
  },
  {
   "cell_type": "code",
   "execution_count": 33,
   "id": "50dd8782",
   "metadata": {
    "execution": {
     "iopub.execute_input": "2022-08-31T06:14:16.828385Z",
     "iopub.status.busy": "2022-08-31T06:14:16.827918Z",
     "iopub.status.idle": "2022-08-31T06:14:52.715580Z",
     "shell.execute_reply": "2022-08-31T06:14:52.714610Z"
    },
    "papermill": {
     "duration": 35.907177,
     "end_time": "2022-08-31T06:14:52.718381",
     "exception": false,
     "start_time": "2022-08-31T06:14:16.811204",
     "status": "completed"
    },
    "tags": []
   },
   "outputs": [],
   "source": [
    "# 시차 피처 생성 I : 월간 판매량\n",
    "lag_features_to_clip = [] # 0 ~ 20 사이로 제한할 시차 피처명을 담을 리스트\n",
    "idx_features = ['월ID', '상점ID', '상품ID'] # 기준 피처\n",
    "\n",
    "# idx_features를 기준으로 월간 판매량의 세 달치 시차 피처 생성\n",
    "all_data, lag_features_to_clip = add_lag_features(df=all_data, \n",
    "                                                  lag_features_to_clip=lag_features_to_clip,\n",
    "                                                  idx_features=idx_features,\n",
    "                                                  lag_feature='월간 판매량', \n",
    "                                                  nlags=3,\n",
    "                                                  clip=True) # 값을 0 ~ 20 사이로 제한"
   ]
  },
  {
   "cell_type": "code",
   "execution_count": 34,
   "id": "f5be6788",
   "metadata": {
    "execution": {
     "iopub.execute_input": "2022-08-31T06:14:52.751595Z",
     "iopub.status.busy": "2022-08-31T06:14:52.751200Z",
     "iopub.status.idle": "2022-08-31T06:14:52.767798Z",
     "shell.execute_reply": "2022-08-31T06:14:52.766866Z"
    },
    "papermill": {
     "duration": 0.035603,
     "end_time": "2022-08-31T06:14:52.769843",
     "exception": false,
     "start_time": "2022-08-31T06:14:52.734240",
     "status": "completed"
    },
    "tags": []
   },
   "outputs": [
    {
     "data": {
      "text/html": [
       "<div>\n",
       "<style scoped>\n",
       "    .dataframe tbody tr th:only-of-type {\n",
       "        vertical-align: middle;\n",
       "    }\n",
       "\n",
       "    .dataframe tbody tr th {\n",
       "        vertical-align: top;\n",
       "    }\n",
       "\n",
       "    .dataframe thead th {\n",
       "        text-align: right;\n",
       "    }\n",
       "</style>\n",
       "<table border=\"1\" class=\"dataframe\">\n",
       "  <thead>\n",
       "    <tr style=\"text-align: right;\">\n",
       "      <th></th>\n",
       "      <th>0</th>\n",
       "      <th>1</th>\n",
       "      <th>2</th>\n",
       "      <th>3</th>\n",
       "      <th>4</th>\n",
       "    </tr>\n",
       "  </thead>\n",
       "  <tbody>\n",
       "    <tr>\n",
       "      <th>월ID</th>\n",
       "      <td>0.000000</td>\n",
       "      <td>0.000000</td>\n",
       "      <td>0.000000</td>\n",
       "      <td>0.000000</td>\n",
       "      <td>0.000000</td>\n",
       "    </tr>\n",
       "    <tr>\n",
       "      <th>상점ID</th>\n",
       "      <td>59.000000</td>\n",
       "      <td>59.000000</td>\n",
       "      <td>59.000000</td>\n",
       "      <td>59.000000</td>\n",
       "      <td>59.000000</td>\n",
       "    </tr>\n",
       "    <tr>\n",
       "      <th>상품ID</th>\n",
       "      <td>22154.000000</td>\n",
       "      <td>2552.000000</td>\n",
       "      <td>2554.000000</td>\n",
       "      <td>2555.000000</td>\n",
       "      <td>2564.000000</td>\n",
       "    </tr>\n",
       "    <tr>\n",
       "      <th>월간 판매량</th>\n",
       "      <td>1.000000</td>\n",
       "      <td>0.000000</td>\n",
       "      <td>0.000000</td>\n",
       "      <td>0.000000</td>\n",
       "      <td>0.000000</td>\n",
       "    </tr>\n",
       "    <tr>\n",
       "      <th>평균 판매가</th>\n",
       "      <td>999.000000</td>\n",
       "      <td>0.000000</td>\n",
       "      <td>0.000000</td>\n",
       "      <td>0.000000</td>\n",
       "      <td>0.000000</td>\n",
       "    </tr>\n",
       "    <tr>\n",
       "      <th>판매건수</th>\n",
       "      <td>1.000000</td>\n",
       "      <td>0.000000</td>\n",
       "      <td>0.000000</td>\n",
       "      <td>0.000000</td>\n",
       "      <td>0.000000</td>\n",
       "    </tr>\n",
       "    <tr>\n",
       "      <th>도시</th>\n",
       "      <td>30.000000</td>\n",
       "      <td>30.000000</td>\n",
       "      <td>30.000000</td>\n",
       "      <td>30.000000</td>\n",
       "      <td>30.000000</td>\n",
       "    </tr>\n",
       "    <tr>\n",
       "      <th>상품분류ID</th>\n",
       "      <td>37.000000</td>\n",
       "      <td>58.000000</td>\n",
       "      <td>58.000000</td>\n",
       "      <td>56.000000</td>\n",
       "      <td>59.000000</td>\n",
       "    </tr>\n",
       "    <tr>\n",
       "      <th>첫 판매월</th>\n",
       "      <td>0.000000</td>\n",
       "      <td>0.000000</td>\n",
       "      <td>0.000000</td>\n",
       "      <td>0.000000</td>\n",
       "      <td>0.000000</td>\n",
       "    </tr>\n",
       "    <tr>\n",
       "      <th>대분류</th>\n",
       "      <td>5.000000</td>\n",
       "      <td>7.000000</td>\n",
       "      <td>7.000000</td>\n",
       "      <td>7.000000</td>\n",
       "      <td>7.000000</td>\n",
       "    </tr>\n",
       "    <tr>\n",
       "      <th>상품ID별 평균 판매량</th>\n",
       "      <td>0.400000</td>\n",
       "      <td>0.022222</td>\n",
       "      <td>0.022222</td>\n",
       "      <td>0.044444</td>\n",
       "      <td>0.111111</td>\n",
       "    </tr>\n",
       "    <tr>\n",
       "      <th>상품ID 도시별 평균 판매량</th>\n",
       "      <td>1.000000</td>\n",
       "      <td>0.000000</td>\n",
       "      <td>0.000000</td>\n",
       "      <td>0.000000</td>\n",
       "      <td>0.000000</td>\n",
       "    </tr>\n",
       "    <tr>\n",
       "      <th>상점ID 상품분류ID별 평균 판매량</th>\n",
       "      <td>0.088496</td>\n",
       "      <td>0.000000</td>\n",
       "      <td>0.000000</td>\n",
       "      <td>0.008333</td>\n",
       "      <td>0.011976</td>\n",
       "    </tr>\n",
       "    <tr>\n",
       "      <th>월간 판매량_시차1</th>\n",
       "      <td>0.000000</td>\n",
       "      <td>0.000000</td>\n",
       "      <td>0.000000</td>\n",
       "      <td>0.000000</td>\n",
       "      <td>0.000000</td>\n",
       "    </tr>\n",
       "    <tr>\n",
       "      <th>월간 판매량_시차2</th>\n",
       "      <td>0.000000</td>\n",
       "      <td>0.000000</td>\n",
       "      <td>0.000000</td>\n",
       "      <td>0.000000</td>\n",
       "      <td>0.000000</td>\n",
       "    </tr>\n",
       "    <tr>\n",
       "      <th>월간 판매량_시차3</th>\n",
       "      <td>0.000000</td>\n",
       "      <td>0.000000</td>\n",
       "      <td>0.000000</td>\n",
       "      <td>0.000000</td>\n",
       "      <td>0.000000</td>\n",
       "    </tr>\n",
       "  </tbody>\n",
       "</table>\n",
       "</div>"
      ],
      "text/plain": [
       "                                0            1            2            3  \\\n",
       "월ID                      0.000000     0.000000     0.000000     0.000000   \n",
       "상점ID                    59.000000    59.000000    59.000000    59.000000   \n",
       "상품ID                 22154.000000  2552.000000  2554.000000  2555.000000   \n",
       "월간 판매량                   1.000000     0.000000     0.000000     0.000000   \n",
       "평균 판매가                 999.000000     0.000000     0.000000     0.000000   \n",
       "판매건수                     1.000000     0.000000     0.000000     0.000000   \n",
       "도시                      30.000000    30.000000    30.000000    30.000000   \n",
       "상품분류ID                  37.000000    58.000000    58.000000    56.000000   \n",
       "첫 판매월                    0.000000     0.000000     0.000000     0.000000   \n",
       "대분류                      5.000000     7.000000     7.000000     7.000000   \n",
       "상품ID별 평균 판매량             0.400000     0.022222     0.022222     0.044444   \n",
       "상품ID 도시별 평균 판매량          1.000000     0.000000     0.000000     0.000000   \n",
       "상점ID 상품분류ID별 평균 판매량      0.088496     0.000000     0.000000     0.008333   \n",
       "월간 판매량_시차1               0.000000     0.000000     0.000000     0.000000   \n",
       "월간 판매량_시차2               0.000000     0.000000     0.000000     0.000000   \n",
       "월간 판매량_시차3               0.000000     0.000000     0.000000     0.000000   \n",
       "\n",
       "                               4  \n",
       "월ID                     0.000000  \n",
       "상점ID                   59.000000  \n",
       "상품ID                 2564.000000  \n",
       "월간 판매량                  0.000000  \n",
       "평균 판매가                  0.000000  \n",
       "판매건수                    0.000000  \n",
       "도시                     30.000000  \n",
       "상품분류ID                 59.000000  \n",
       "첫 판매월                   0.000000  \n",
       "대분류                     7.000000  \n",
       "상품ID별 평균 판매량            0.111111  \n",
       "상품ID 도시별 평균 판매량         0.000000  \n",
       "상점ID 상품분류ID별 평균 판매량     0.011976  \n",
       "월간 판매량_시차1              0.000000  \n",
       "월간 판매량_시차2              0.000000  \n",
       "월간 판매량_시차3              0.000000  "
      ]
     },
     "execution_count": 34,
     "metadata": {},
     "output_type": "execute_result"
    }
   ],
   "source": [
    "all_data.head().T"
   ]
  },
  {
   "cell_type": "code",
   "execution_count": 35,
   "id": "47a89ca4",
   "metadata": {
    "execution": {
     "iopub.execute_input": "2022-08-31T06:14:52.803920Z",
     "iopub.status.busy": "2022-08-31T06:14:52.803208Z",
     "iopub.status.idle": "2022-08-31T06:14:52.808839Z",
     "shell.execute_reply": "2022-08-31T06:14:52.808102Z"
    },
    "papermill": {
     "duration": 0.024987,
     "end_time": "2022-08-31T06:14:52.810907",
     "exception": false,
     "start_time": "2022-08-31T06:14:52.785920",
     "status": "completed"
    },
    "tags": []
   },
   "outputs": [
    {
     "data": {
      "text/plain": [
       "['월간 판매량_시차1', '월간 판매량_시차2', '월간 판매량_시차3']"
      ]
     },
     "execution_count": 35,
     "metadata": {},
     "output_type": "execute_result"
    }
   ],
   "source": [
    "lag_features_to_clip"
   ]
  },
  {
   "cell_type": "markdown",
   "id": "c0d0241d",
   "metadata": {
    "execution": {
     "iopub.execute_input": "2022-08-31T05:44:43.546576Z",
     "iopub.status.busy": "2022-08-31T05:44:43.544715Z",
     "iopub.status.idle": "2022-08-31T05:44:43.555647Z",
     "shell.execute_reply": "2022-08-31T05:44:43.554249Z",
     "shell.execute_reply.started": "2022-08-31T05:44:43.546510Z"
    },
    "papermill": {
     "duration": 0.015946,
     "end_time": "2022-08-31T06:14:52.843826",
     "exception": false,
     "start_time": "2022-08-31T06:14:52.827880",
     "status": "completed"
    },
    "tags": []
   },
   "source": [
    "시차 피처 생성 II : 판매건수, 평균 판매가"
   ]
  },
  {
   "cell_type": "code",
   "execution_count": 36,
   "id": "1604bd52",
   "metadata": {
    "execution": {
     "iopub.execute_input": "2022-08-31T06:14:52.877555Z",
     "iopub.status.busy": "2022-08-31T06:14:52.877148Z",
     "iopub.status.idle": "2022-08-31T06:16:06.014362Z",
     "shell.execute_reply": "2022-08-31T06:16:06.012835Z"
    },
    "papermill": {
     "duration": 73.157455,
     "end_time": "2022-08-31T06:16:06.017305",
     "exception": false,
     "start_time": "2022-08-31T06:14:52.859850",
     "status": "completed"
    },
    "tags": []
   },
   "outputs": [],
   "source": [
    "# idx_features를 기준으로 판매건수 피처의 세 달치 시차 피처 생성\n",
    "all_data, lag_features_to_clip = add_lag_features(df=all_data, \n",
    "                                                  lag_features_to_clip=lag_features_to_clip,\n",
    "                                                  idx_features=idx_features,\n",
    "                                                  lag_feature='판매건수', \n",
    "                                                  nlags=3)\n",
    "\n",
    "# idx_features를 기준으로 평균 판매가 피처의 세 달치 시차 피처 생성\n",
    "all_data, lag_features_to_clip = add_lag_features(df=all_data, \n",
    "                                                  lag_features_to_clip=lag_features_to_clip,\n",
    "                                                  idx_features=idx_features,\n",
    "                                                  lag_feature='평균 판매가', \n",
    "                                                  nlags=3)"
   ]
  },
  {
   "cell_type": "markdown",
   "id": "3a87a302",
   "metadata": {
    "papermill": {
     "duration": 0.016275,
     "end_time": "2022-08-31T06:16:06.050671",
     "exception": false,
     "start_time": "2022-08-31T06:16:06.034396",
     "status": "completed"
    },
    "tags": []
   },
   "source": [
    "시차 피처 생성 III : 평균 판매량"
   ]
  },
  {
   "cell_type": "code",
   "execution_count": 37,
   "id": "bb427e95",
   "metadata": {
    "execution": {
     "iopub.execute_input": "2022-08-31T06:16:06.085923Z",
     "iopub.status.busy": "2022-08-31T06:16:06.085495Z",
     "iopub.status.idle": "2022-08-31T06:17:22.460842Z",
     "shell.execute_reply": "2022-08-31T06:17:22.459656Z"
    },
    "papermill": {
     "duration": 76.396488,
     "end_time": "2022-08-31T06:17:22.463807",
     "exception": false,
     "start_time": "2022-08-31T06:16:06.067319",
     "status": "completed"
    },
    "tags": []
   },
   "outputs": [],
   "source": [
    "# idx_features를 기준으로 item_mean_features 요소별 시차 피처 생성\n",
    "for item_mean_feature in item_mean_features:\n",
    "    all_data, lag_features_to_clip = add_lag_features(df=all_data, \n",
    "                                                      lag_features_to_clip=lag_features_to_clip, \n",
    "                                                      idx_features=idx_features, \n",
    "                                                      lag_feature=item_mean_feature, \n",
    "                                                      nlags=3,\n",
    "                                                      clip=True)\n",
    "# item_mean_features 피처 제거\n",
    "all_data = all_data.drop(item_mean_features, axis=1)"
   ]
  },
  {
   "cell_type": "code",
   "execution_count": 38,
   "id": "0a8a4794",
   "metadata": {
    "execution": {
     "iopub.execute_input": "2022-08-31T06:17:22.498699Z",
     "iopub.status.busy": "2022-08-31T06:17:22.498290Z",
     "iopub.status.idle": "2022-08-31T06:17:38.380467Z",
     "shell.execute_reply": "2022-08-31T06:17:38.379121Z"
    },
    "papermill": {
     "duration": 15.902985,
     "end_time": "2022-08-31T06:17:38.383459",
     "exception": false,
     "start_time": "2022-08-31T06:17:22.480474",
     "status": "completed"
    },
    "tags": []
   },
   "outputs": [],
   "source": [
    "# ['월ID', '상점ID', '상품분류ID']를 기준으로 shop_mean_features 요소별 시차 피처 생성\n",
    "for shop_mean_feature in shop_mean_features:\n",
    "    all_data, lag_features_to_clip = add_lag_features(df=all_data,\n",
    "                                                      lag_features_to_clip=lag_features_to_clip, \n",
    "                                                      idx_features=['월ID', '상점ID', '상품분류ID'], \n",
    "                                                      lag_feature=shop_mean_feature, \n",
    "                                                      nlags=3,\n",
    "                                                      clip=True)\n",
    "# shop_mean_features 피처 제거\n",
    "all_data = all_data.drop(shop_mean_features, axis=1)"
   ]
  },
  {
   "cell_type": "markdown",
   "id": "78111d00",
   "metadata": {
    "papermill": {
     "duration": 0.016322,
     "end_time": "2022-08-31T06:17:38.416223",
     "exception": false,
     "start_time": "2022-08-31T06:17:38.399901",
     "status": "completed"
    },
    "tags": []
   },
   "source": [
    "시차 피처 생성 마무리 : 결측값 처리"
   ]
  },
  {
   "cell_type": "code",
   "execution_count": 39,
   "id": "1fbf6af8",
   "metadata": {
    "execution": {
     "iopub.execute_input": "2022-08-31T06:17:38.450602Z",
     "iopub.status.busy": "2022-08-31T06:17:38.449822Z",
     "iopub.status.idle": "2022-08-31T06:17:41.200404Z",
     "shell.execute_reply": "2022-08-31T06:17:41.198974Z"
    },
    "papermill": {
     "duration": 2.771519,
     "end_time": "2022-08-31T06:17:41.203925",
     "exception": false,
     "start_time": "2022-08-31T06:17:38.432406",
     "status": "completed"
    },
    "tags": []
   },
   "outputs": [],
   "source": [
    "# 월ID 3미만인 데이터 제거\n",
    "all_data = all_data.drop(all_data[all_data['월ID'] < 3].index)"
   ]
  },
  {
   "cell_type": "markdown",
   "id": "9e26be04",
   "metadata": {
    "papermill": {
     "duration": 0.018984,
     "end_time": "2022-08-31T06:17:41.245391",
     "exception": false,
     "start_time": "2022-08-31T06:17:41.226407",
     "status": "completed"
    },
    "tags": []
   },
   "source": [
    "### 9.4.6 feature engineering VI: 기타 피처 엔지니어링\n",
    "기타 피처 추가"
   ]
  },
  {
   "cell_type": "code",
   "execution_count": 40,
   "id": "cd2f2d88",
   "metadata": {
    "execution": {
     "iopub.execute_input": "2022-08-31T06:17:41.284147Z",
     "iopub.status.busy": "2022-08-31T06:17:41.283339Z",
     "iopub.status.idle": "2022-08-31T06:17:45.533260Z",
     "shell.execute_reply": "2022-08-31T06:17:45.529469Z"
    },
    "papermill": {
     "duration": 4.27209,
     "end_time": "2022-08-31T06:17:45.536425",
     "exception": false,
     "start_time": "2022-08-31T06:17:41.264335",
     "status": "completed"
    },
    "tags": []
   },
   "outputs": [],
   "source": [
    "# 월간 판매량 시차 피처들의 편균\n",
    "all_data['월간 판매량 시차평균'] = all_data[['월간 판매량_시차1',\n",
    "                                          '월간 판매량_시차2', \n",
    "                                          '월간 판매량_시차3']].mean(axis=1)\n",
    "\n",
    "# 0 ~ 20 사이로 값 제한\n",
    "all_data[lag_features_to_clip + ['월간 판매량', '월간 판매량 시차평균']] = \\\n",
    "    all_data[lag_features_to_clip + ['월간 판매량', '월간 판매량 시차평균']].clip(0, 20)"
   ]
  },
  {
   "cell_type": "code",
   "execution_count": 41,
   "id": "ffab9797",
   "metadata": {
    "execution": {
     "iopub.execute_input": "2022-08-31T06:17:45.573015Z",
     "iopub.status.busy": "2022-08-31T06:17:45.571831Z",
     "iopub.status.idle": "2022-08-31T06:17:46.147980Z",
     "shell.execute_reply": "2022-08-31T06:17:46.144617Z"
    },
    "papermill": {
     "duration": 0.600744,
     "end_time": "2022-08-31T06:17:46.153829",
     "exception": false,
     "start_time": "2022-08-31T06:17:45.553085",
     "status": "completed"
    },
    "tags": []
   },
   "outputs": [],
   "source": [
    "# 시차 변화량\n",
    "all_data['시차변화량1'] = all_data['월간 판매량_시차1']/all_data['월간 판매량_시차2']\n",
    "all_data['시차변화량1'] = all_data['시차변화량1'].replace([np.inf, -np.inf], \n",
    "                                                        np.nan).fillna(0)\n",
    "\n",
    "all_data['시차변화량2'] = all_data['월간 판매량_시차2']/all_data['월간 판매량_시차3']\n",
    "all_data['시차변화량2'] = all_data['시차변화량2'].replace([np.inf, -np.inf], \n",
    "                                                        np.nan).fillna(0)"
   ]
  },
  {
   "cell_type": "code",
   "execution_count": 42,
   "id": "2eb20818",
   "metadata": {
    "execution": {
     "iopub.execute_input": "2022-08-31T06:17:46.190850Z",
     "iopub.status.busy": "2022-08-31T06:17:46.190070Z",
     "iopub.status.idle": "2022-08-31T06:17:46.274486Z",
     "shell.execute_reply": "2022-08-31T06:17:46.273155Z"
    },
    "papermill": {
     "duration": 0.10602,
     "end_time": "2022-08-31T06:17:46.277709",
     "exception": false,
     "start_time": "2022-08-31T06:17:46.171689",
     "status": "completed"
    },
    "tags": []
   },
   "outputs": [],
   "source": [
    "# 신상 여부\n",
    "all_data['신상여부'] = all_data['첫 판매월'] == all_data['월ID']\n",
    "\n",
    "# 첫 판매 후 경과 기간\n",
    "all_data['첫 판매 후 기간'] = all_data['월ID'] - all_data['첫 판매월']\n",
    "\n",
    "# 월(month)\n",
    "all_data['월'] = all_data['월ID'] % 12"
   ]
  },
  {
   "cell_type": "markdown",
   "id": "3f66740a",
   "metadata": {
    "papermill": {
     "duration": 0.019196,
     "end_time": "2022-08-31T06:17:46.315842",
     "exception": false,
     "start_time": "2022-08-31T06:17:46.296646",
     "status": "completed"
    },
    "tags": []
   },
   "source": [
    "필요 없는 피처 제거"
   ]
  },
  {
   "cell_type": "code",
   "execution_count": 43,
   "id": "24bf31b2",
   "metadata": {
    "execution": {
     "iopub.execute_input": "2022-08-31T06:17:46.372260Z",
     "iopub.status.busy": "2022-08-31T06:17:46.368458Z",
     "iopub.status.idle": "2022-08-31T06:17:49.675535Z",
     "shell.execute_reply": "2022-08-31T06:17:49.673904Z"
    },
    "papermill": {
     "duration": 3.345453,
     "end_time": "2022-08-31T06:17:49.679913",
     "exception": false,
     "start_time": "2022-08-31T06:17:46.334460",
     "status": "completed"
    },
    "tags": []
   },
   "outputs": [],
   "source": [
    "# 첫 판매월, 평균 판매가, 판매건수 피처 제거\n",
    "all_data = all_data.drop(['첫 판매월', '평균 판매가', '판매건수'], axis=1)\n",
    "\n",
    " # 데이터 다운캐스팅\n",
    "all_data = downcast(all_data, False)"
   ]
  },
  {
   "cell_type": "markdown",
   "id": "60ad31b6",
   "metadata": {
    "papermill": {
     "duration": 0.01616,
     "end_time": "2022-08-31T06:17:49.716902",
     "exception": false,
     "start_time": "2022-08-31T06:17:49.700742",
     "status": "completed"
    },
    "tags": []
   },
   "source": [
    "### 9.4.7 feature engineering VII: finale"
   ]
  },
  {
   "cell_type": "code",
   "execution_count": 44,
   "id": "7ced2186",
   "metadata": {
    "execution": {
     "iopub.execute_input": "2022-08-31T06:17:49.753096Z",
     "iopub.status.busy": "2022-08-31T06:17:49.751799Z",
     "iopub.status.idle": "2022-08-31T06:17:49.768467Z",
     "shell.execute_reply": "2022-08-31T06:17:49.767236Z"
    },
    "papermill": {
     "duration": 0.038142,
     "end_time": "2022-08-31T06:17:49.771465",
     "exception": false,
     "start_time": "2022-08-31T06:17:49.733323",
     "status": "completed"
    },
    "tags": []
   },
   "outputs": [
    {
     "name": "stdout",
     "output_type": "stream",
     "text": [
      "<class 'pandas.core.frame.DataFrame'>\n",
      "Int64Index: 9904582 entries, 1122386 to 11026967\n",
      "Data columns (total 31 columns):\n",
      " #   Column                   Dtype  \n",
      "---  ------                   -----  \n",
      " 0   월ID                      int8   \n",
      " 1   상점ID                     int8   \n",
      " 2   상품ID                     int16  \n",
      " 3   월간 판매량                   int8   \n",
      " 4   도시                       int8   \n",
      " 5   상품분류ID                   int8   \n",
      " 6   대분류                      int8   \n",
      " 7   월간 판매량_시차1               int8   \n",
      " 8   월간 판매량_시차2               int8   \n",
      " 9   월간 판매량_시차3               int8   \n",
      " 10  판매건수_시차1                 int8   \n",
      " 11  판매건수_시차2                 int8   \n",
      " 12  판매건수_시차3                 int8   \n",
      " 13  평균 판매가_시차1               float32\n",
      " 14  평균 판매가_시차2               float32\n",
      " 15  평균 판매가_시차3               float32\n",
      " 16  상품ID별 평균 판매량_시차1         float32\n",
      " 17  상품ID별 평균 판매량_시차2         float32\n",
      " 18  상품ID별 평균 판매량_시차3         float32\n",
      " 19  상품ID 도시별 평균 판매량_시차1      float32\n",
      " 20  상품ID 도시별 평균 판매량_시차2      float32\n",
      " 21  상품ID 도시별 평균 판매량_시차3      float32\n",
      " 22  상점ID 상품분류ID별 평균 판매량_시차1  float32\n",
      " 23  상점ID 상품분류ID별 평균 판매량_시차2  float32\n",
      " 24  상점ID 상품분류ID별 평균 판매량_시차3  float32\n",
      " 25  월간 판매량 시차평균              float32\n",
      " 26  시차변화량1                   float32\n",
      " 27  시차변화량2                   float32\n",
      " 28  신상여부                     int8   \n",
      " 29  첫 판매 후 기간                int8   \n",
      " 30  월                        int8   \n",
      "dtypes: float32(15), int16(1), int8(15)\n",
      "memory usage: 802.9 MB\n"
     ]
    }
   ],
   "source": [
    "all_data.info()"
   ]
  },
  {
   "cell_type": "code",
   "execution_count": 45,
   "id": "fb2eaab8",
   "metadata": {
    "execution": {
     "iopub.execute_input": "2022-08-31T06:17:49.808467Z",
     "iopub.status.busy": "2022-08-31T06:17:49.806862Z",
     "iopub.status.idle": "2022-08-31T06:17:53.865386Z",
     "shell.execute_reply": "2022-08-31T06:17:53.864198Z"
    },
    "papermill": {
     "duration": 4.079248,
     "end_time": "2022-08-31T06:17:53.867829",
     "exception": false,
     "start_time": "2022-08-31T06:17:49.788581",
     "status": "completed"
    },
    "tags": []
   },
   "outputs": [],
   "source": [
    "# 훈련 데이터 (피처)\n",
    "X_train = all_data[all_data['월ID'] < 33]\n",
    "X_train = X_train.drop(['월간 판매량'], axis=1)\n",
    "# 검증 데이터 (피처)\n",
    "X_valid = all_data[all_data['월ID'] == 33]\n",
    "X_valid = X_valid.drop(['월간 판매량'], axis=1)\n",
    "# 테스트 데이터 (피처)\n",
    "X_test = all_data[all_data['월ID'] == 34]\n",
    "X_test = X_test.drop(['월간 판매량'], axis=1)\n",
    "\n",
    "# 훈련 데이터 (타깃값)\n",
    "y_train = all_data[all_data['월ID'] < 33]['월간 판매량']\n",
    "# 검증 데이터 (타깃값)\n",
    "y_valid = all_data[all_data['월ID'] == 33]['월간 판매량']\n",
    "\n",
    "# 가비지 컬렉션\n",
    "del all_data\n",
    "gc.collect();"
   ]
  },
  {
   "cell_type": "markdown",
   "id": "cadbc3b1",
   "metadata": {
    "papermill": {
     "duration": 0.016722,
     "end_time": "2022-08-31T06:17:53.901386",
     "exception": false,
     "start_time": "2022-08-31T06:17:53.884664",
     "status": "completed"
    },
    "tags": []
   },
   "source": [
    "### 9.4.8 모델 훈련, 성능 검증"
   ]
  },
  {
   "cell_type": "code",
   "execution_count": 46,
   "id": "118bdb7d",
   "metadata": {
    "execution": {
     "iopub.execute_input": "2022-08-31T06:17:53.937910Z",
     "iopub.status.busy": "2022-08-31T06:17:53.936929Z",
     "iopub.status.idle": "2022-08-31T06:32:48.276973Z",
     "shell.execute_reply": "2022-08-31T06:32:48.274923Z"
    },
    "papermill": {
     "duration": 894.36203,
     "end_time": "2022-08-31T06:32:48.280930",
     "exception": false,
     "start_time": "2022-08-31T06:17:53.918900",
     "status": "completed"
    },
    "tags": []
   },
   "outputs": [
    {
     "data": {
      "text/html": [
       "<style type='text/css'>\n",
       ".datatable table.frame { margin-bottom: 0; }\n",
       ".datatable table.frame thead { border-bottom: none; }\n",
       ".datatable table.frame tr.coltypes td {  color: #FFFFFF;  line-height: 6px;  padding: 0 0.5em;}\n",
       ".datatable .bool    { background: #DDDD99; }\n",
       ".datatable .object  { background: #565656; }\n",
       ".datatable .int     { background: #5D9E5D; }\n",
       ".datatable .float   { background: #4040CC; }\n",
       ".datatable .str     { background: #CC4040; }\n",
       ".datatable .time    { background: #40CC40; }\n",
       ".datatable .row_index {  background: var(--jp-border-color3);  border-right: 1px solid var(--jp-border-color0);  color: var(--jp-ui-font-color3);  font-size: 9px;}\n",
       ".datatable .frame tbody td { text-align: left; }\n",
       ".datatable .frame tr.coltypes .row_index {  background: var(--jp-border-color0);}\n",
       ".datatable th:nth-child(2) { padding-left: 12px; }\n",
       ".datatable .hellipsis {  color: var(--jp-cell-editor-border-color);}\n",
       ".datatable .vellipsis {  background: var(--jp-layout-color0);  color: var(--jp-cell-editor-border-color);}\n",
       ".datatable .na {  color: var(--jp-cell-editor-border-color);  font-size: 80%;}\n",
       ".datatable .sp {  opacity: 0.25;}\n",
       ".datatable .footer { font-size: 9px; }\n",
       ".datatable .frame_dimensions {  background: var(--jp-border-color3);  border-top: 1px solid var(--jp-border-color0);  color: var(--jp-ui-font-color3);  display: inline-block;  opacity: 0.6;  padding: 1px 10px 1px 5px;}\n",
       "</style>\n"
      ],
      "text/plain": [
       "<IPython.core.display.HTML object>"
      ]
     },
     "metadata": {},
     "output_type": "display_data"
    },
    {
     "name": "stdout",
     "output_type": "stream",
     "text": [
      "[LightGBM] [Warning] Found whitespace in feature_names, replace with underlines\n",
      "[LightGBM] [Info] Total Bins 3859\n",
      "[LightGBM] [Info] Number of data points in the train set: 9452298, number of used features: 30\n",
      "[LightGBM] [Warning] Found whitespace in feature_names, replace with underlines\n",
      "[LightGBM] [Info] Start training from score 0.297707\n",
      "Training until validation scores don't improve for 150 rounds\n",
      "[100]\ttraining's rmse: 1.01223\tvalid_1's rmse: 0.987556\n",
      "[200]\ttraining's rmse: 0.911043\tvalid_1's rmse: 0.924287\n",
      "[300]\ttraining's rmse: 0.860039\tvalid_1's rmse: 0.899103\n",
      "[400]\ttraining's rmse: 0.831922\tvalid_1's rmse: 0.889376\n",
      "[500]\ttraining's rmse: 0.813469\tvalid_1's rmse: 0.885821\n",
      "[600]\ttraining's rmse: 0.799824\tvalid_1's rmse: 0.884889\n",
      "[700]\ttraining's rmse: 0.789903\tvalid_1's rmse: 0.884388\n",
      "[800]\ttraining's rmse: 0.781822\tvalid_1's rmse: 0.883989\n",
      "Early stopping, best iteration is:\n",
      "[746]\ttraining's rmse: 0.786011\tvalid_1's rmse: 0.88382\n",
      "CPU times: user 57min 57s, sys: 8.26 s, total: 58min 5s\n",
      "Wall time: 14min 54s\n"
     ]
    }
   ],
   "source": [
    "%%time\n",
    "import lightgbm as lgb\n",
    "\n",
    "params = {'metric': 'RMSE',\n",
    "          'num_leaves': 255,\n",
    "          'learning_rate': 0.005,\n",
    "          'feature_fraction': 0.75,\n",
    "          'bagging_fraction': 0.75,\n",
    "          'bagging_freq': 5,\n",
    "          'force_col_wise': True,\n",
    "          'random_state': 10}\n",
    "\n",
    "# 범주형 피처 설정\n",
    "cat_features = ['상점ID', '도시', '상품분류ID', '대분류', '월']\n",
    "\n",
    "# LightGBM 훈련 및 검증 데이터셋\n",
    "dtrain = lgb.Dataset(X_train, y_train)\n",
    "dvalid = lgb.Dataset(X_valid, y_valid)\n",
    "\n",
    "# LightGBM 모델 훈련\n",
    "lgb_model = lgb.train(params=params,\n",
    "                      train_set=dtrain,\n",
    "                      num_boost_round=1500,\n",
    "                      valid_sets=(dtrain, dvalid),\n",
    "                      early_stopping_rounds=150,\n",
    "                      categorical_feature=cat_features,\n",
    "                      verbose_eval=100)"
   ]
  },
  {
   "cell_type": "markdown",
   "id": "73f5f74c",
   "metadata": {
    "papermill": {
     "duration": 0.018208,
     "end_time": "2022-08-31T06:32:48.317800",
     "exception": false,
     "start_time": "2022-08-31T06:32:48.299592",
     "status": "completed"
    },
    "tags": []
   },
   "source": [
    "### 9.4.9 제출"
   ]
  },
  {
   "cell_type": "code",
   "execution_count": 47,
   "id": "317e0e60",
   "metadata": {
    "execution": {
     "iopub.execute_input": "2022-08-31T06:32:48.356320Z",
     "iopub.status.busy": "2022-08-31T06:32:48.355447Z",
     "iopub.status.idle": "2022-08-31T06:32:59.281920Z",
     "shell.execute_reply": "2022-08-31T06:32:59.280679Z"
    },
    "papermill": {
     "duration": 10.949341,
     "end_time": "2022-08-31T06:32:59.284880",
     "exception": false,
     "start_time": "2022-08-31T06:32:48.335539",
     "status": "completed"
    },
    "tags": []
   },
   "outputs": [],
   "source": [
    "preds = lgb_model.predict(X_test).clip(0, 20)\n",
    "\n",
    "submission['item_cnt_month'] = preds\n",
    "submission.to_csv('submission.csv', index=False)"
   ]
  },
  {
   "cell_type": "code",
   "execution_count": null,
   "id": "1d33f37a",
   "metadata": {
    "papermill": {
     "duration": 0.017548,
     "end_time": "2022-08-31T06:32:59.320547",
     "exception": false,
     "start_time": "2022-08-31T06:32:59.302999",
     "status": "completed"
    },
    "tags": []
   },
   "outputs": [],
   "source": []
  }
 ],
 "metadata": {
  "kernelspec": {
   "display_name": "Python 3",
   "language": "python",
   "name": "python3"
  },
  "language_info": {
   "codemirror_mode": {
    "name": "ipython",
    "version": 3
   },
   "file_extension": ".py",
   "mimetype": "text/x-python",
   "name": "python",
   "nbconvert_exporter": "python",
   "pygments_lexer": "ipython3",
   "version": "3.7.12"
  },
  "papermill": {
   "default_parameters": {},
   "duration": 1187.225448,
   "end_time": "2022-08-31T06:33:00.467344",
   "environment_variables": {},
   "exception": null,
   "input_path": "__notebook__.ipynb",
   "output_path": "__notebook__.ipynb",
   "parameters": {},
   "start_time": "2022-08-31T06:13:13.241896",
   "version": "2.3.4"
  }
 },
 "nbformat": 4,
 "nbformat_minor": 5
}
