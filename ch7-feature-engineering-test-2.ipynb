{
 "cells": [
  {
   "cell_type": "markdown",
   "id": "a2f591d0",
   "metadata": {
    "papermill": {
     "duration": 0.019692,
     "end_time": "2022-08-28T14:40:43.788587",
     "exception": false,
     "start_time": "2022-08-28T14:40:43.768895",
     "status": "completed"
    },
    "tags": []
   },
   "source": [
    "# 7.5 범주형 데이터 이진분류 경진대회 모델 성능 개선 II"
   ]
  },
  {
   "cell_type": "code",
   "execution_count": 1,
   "id": "e3ac2b3a",
   "metadata": {
    "execution": {
     "iopub.execute_input": "2022-08-28T14:40:43.845494Z",
     "iopub.status.busy": "2022-08-28T14:40:43.840753Z",
     "iopub.status.idle": "2022-08-28T14:40:46.281903Z",
     "shell.execute_reply": "2022-08-28T14:40:46.280991Z",
     "shell.execute_reply.started": "2022-08-28T14:30:14.090803Z"
    },
    "papermill": {
     "duration": 2.468698,
     "end_time": "2022-08-28T14:40:46.282102",
     "exception": false,
     "start_time": "2022-08-28T14:40:43.813404",
     "status": "completed"
    },
    "tags": []
   },
   "outputs": [],
   "source": [
    "import pandas as pd\n",
    "# 데이터 경로\n",
    "data_path = '/kaggle/input/cat-in-the-dat/'\n",
    "\n",
    "train = pd.read_csv(data_path + 'train.csv', index_col='id')\n",
    "test = pd.read_csv(data_path + 'test.csv', index_col='id')\n",
    "submission = pd.read_csv(data_path + 'sample_submission.csv', index_col='id')"
   ]
  },
  {
   "cell_type": "markdown",
   "id": "d16f2b36",
   "metadata": {
    "papermill": {
     "duration": 0.018426,
     "end_time": "2022-08-28T14:40:46.319425",
     "exception": false,
     "start_time": "2022-08-28T14:40:46.300999",
     "status": "completed"
    },
    "tags": []
   },
   "source": [
    "## 피처 엔지니어링 I : 피처 맞춤 인코딩"
   ]
  },
  {
   "cell_type": "markdown",
   "id": "4f83a8e4",
   "metadata": {
    "papermill": {
     "duration": 0.017934,
     "end_time": "2022-08-28T14:40:46.355503",
     "exception": false,
     "start_time": "2022-08-28T14:40:46.337569",
     "status": "completed"
    },
    "tags": []
   },
   "source": [
    "### 데이터 합치기"
   ]
  },
  {
   "cell_type": "code",
   "execution_count": 2,
   "id": "ae7153a4",
   "metadata": {
    "execution": {
     "iopub.execute_input": "2022-08-28T14:40:46.398639Z",
     "iopub.status.busy": "2022-08-28T14:40:46.397950Z",
     "iopub.status.idle": "2022-08-28T14:40:47.290327Z",
     "shell.execute_reply": "2022-08-28T14:40:47.289488Z",
     "shell.execute_reply.started": "2022-08-28T14:30:16.729191Z"
    },
    "papermill": {
     "duration": 0.916691,
     "end_time": "2022-08-28T14:40:47.290557",
     "exception": false,
     "start_time": "2022-08-28T14:40:46.373866",
     "status": "completed"
    },
    "tags": []
   },
   "outputs": [],
   "source": [
    "# 훈련 데이터와 테스트 데이터 합치기\n",
    "all_data = pd.concat([train, test])\n",
    "all_data = all_data.drop('target', axis=1) # 타깃 값 제거"
   ]
  },
  {
   "cell_type": "markdown",
   "id": "6ba37098",
   "metadata": {
    "papermill": {
     "duration": 0.018068,
     "end_time": "2022-08-28T14:40:47.333188",
     "exception": false,
     "start_time": "2022-08-28T14:40:47.315120",
     "status": "completed"
    },
    "tags": []
   },
   "source": [
    "### 이진 피처 인코딩"
   ]
  },
  {
   "cell_type": "code",
   "execution_count": 3,
   "id": "9001b780",
   "metadata": {
    "execution": {
     "iopub.execute_input": "2022-08-28T14:40:47.375286Z",
     "iopub.status.busy": "2022-08-28T14:40:47.374494Z",
     "iopub.status.idle": "2022-08-28T14:40:47.751115Z",
     "shell.execute_reply": "2022-08-28T14:40:47.750368Z",
     "shell.execute_reply.started": "2022-08-28T14:30:17.527042Z"
    },
    "papermill": {
     "duration": 0.3997,
     "end_time": "2022-08-28T14:40:47.751276",
     "exception": false,
     "start_time": "2022-08-28T14:40:47.351576",
     "status": "completed"
    },
    "tags": []
   },
   "outputs": [],
   "source": [
    "all_data['bin_3'] = all_data['bin_3'].map({'F':0, 'T':1})\n",
    "all_data['bin_4'] = all_data['bin_4'].map({'N':0, 'Y':1})"
   ]
  },
  {
   "cell_type": "markdown",
   "id": "f37b35cc",
   "metadata": {
    "papermill": {
     "duration": 0.018138,
     "end_time": "2022-08-28T14:40:47.788271",
     "exception": false,
     "start_time": "2022-08-28T14:40:47.770133",
     "status": "completed"
    },
    "tags": []
   },
   "source": [
    "### 순서형 피처 인코딩"
   ]
  },
  {
   "cell_type": "code",
   "execution_count": 4,
   "id": "6ed11be8",
   "metadata": {
    "execution": {
     "iopub.execute_input": "2022-08-28T14:40:47.840124Z",
     "iopub.status.busy": "2022-08-28T14:40:47.830204Z",
     "iopub.status.idle": "2022-08-28T14:40:48.197990Z",
     "shell.execute_reply": "2022-08-28T14:40:48.198658Z",
     "shell.execute_reply.started": "2022-08-28T14:30:17.872771Z"
    },
    "papermill": {
     "duration": 0.392725,
     "end_time": "2022-08-28T14:40:48.198909",
     "exception": false,
     "start_time": "2022-08-28T14:40:47.806184",
     "status": "completed"
    },
    "tags": []
   },
   "outputs": [],
   "source": [
    "ord1dict = {'Novice':0, 'Contributor':1, \n",
    "            'Expert':2, 'Master':3, 'Grandmaster':4}\n",
    "ord2dict = {'Freezing':0, 'Cold':1, 'Warm':2, \n",
    "            'Hot':3, 'Boiling Hot':4, 'Lava Hot':5}\n",
    "\n",
    "all_data['ord_1'] = all_data['ord_1'].map(ord1dict)\n",
    "all_data['ord_2'] = all_data['ord_2'].map(ord2dict)"
   ]
  },
  {
   "cell_type": "code",
   "execution_count": 5,
   "id": "56c1a1de",
   "metadata": {
    "execution": {
     "iopub.execute_input": "2022-08-28T14:40:48.242138Z",
     "iopub.status.busy": "2022-08-28T14:40:48.241145Z",
     "iopub.status.idle": "2022-08-28T14:40:49.893560Z",
     "shell.execute_reply": "2022-08-28T14:40:49.892943Z",
     "shell.execute_reply.started": "2022-08-28T14:30:18.222364Z"
    },
    "papermill": {
     "duration": 1.675916,
     "end_time": "2022-08-28T14:40:49.893711",
     "exception": false,
     "start_time": "2022-08-28T14:40:48.217795",
     "status": "completed"
    },
    "tags": []
   },
   "outputs": [
    {
     "name": "stdout",
     "output_type": "stream",
     "text": [
      "ord_3\n",
      "['a' 'b' 'c' 'd' 'e' 'f' 'g' 'h' 'i' 'j' 'k' 'l' 'm' 'n' 'o']\n",
      "ord_4\n",
      "['A' 'B' 'C' 'D' 'E' 'F' 'G' 'H' 'I' 'J' 'K' 'L' 'M' 'N' 'O' 'P' 'Q' 'R'\n",
      " 'S' 'T' 'U' 'V' 'W' 'X' 'Y' 'Z']\n",
      "ord_5\n",
      "['AP' 'Ai' 'Aj' 'BA' 'BE' 'Bb' 'Bd' 'Bn' 'CL' 'CM' 'CU' 'CZ' 'Cl' 'DH'\n",
      " 'DN' 'Dc' 'Dx' 'Ed' 'Eg' 'Er' 'FI' 'Fd' 'Fo' 'GD' 'GJ' 'Gb' 'Gx' 'Hj'\n",
      " 'IK' 'Id' 'JX' 'Jc' 'Jf' 'Jt' 'KR' 'KZ' 'Kf' 'Kq' 'LE' 'MC' 'MO' 'MV'\n",
      " 'Mf' 'Ml' 'Mx' 'NV' 'Nf' 'Nk' 'OR' 'Ob' 'Os' 'PA' 'PQ' 'PZ' 'Ps' 'QM'\n",
      " 'Qb' 'Qh' 'Qo' 'RG' 'RL' 'RP' 'Rm' 'Ry' 'SB' 'Sc' 'TR' 'TZ' 'To' 'UO'\n",
      " 'Uk' 'Uu' 'Vf' 'Vx' 'WE' 'Wc' 'Wv' 'XI' 'Xh' 'Xi' 'YC' 'Yb' 'Ye' 'ZR'\n",
      " 'ZS' 'Zc' 'Zq' 'aF' 'aM' 'aO' 'aP' 'ac' 'av' 'bF' 'bJ' 'be' 'cA' 'cG'\n",
      " 'cW' 'ck' 'cp' 'dB' 'dE' 'dN' 'dO' 'dP' 'dQ' 'dZ' 'dh' 'eG' 'eQ' 'eb'\n",
      " 'eg' 'ek' 'ex' 'fO' 'fh' 'gJ' 'gM' 'hL' 'hT' 'hh' 'hp' 'iT' 'ih' 'jS'\n",
      " 'jV' 'je' 'jp' 'kC' 'kE' 'kK' 'kL' 'kU' 'kW' 'ke' 'kr' 'kw' 'lF' 'lL'\n",
      " 'll' 'lx' 'mb' 'mc' 'mm' 'nX' 'nh' 'oC' 'oG' 'oH' 'oK' 'od' 'on' 'pa'\n",
      " 'ps' 'qA' 'qJ' 'qK' 'qP' 'qX' 'qo' 'qv' 'qw' 'rZ' 'ri' 'rp' 'sD' 'sV'\n",
      " 'sY' 'sn' 'su' 'tM' 'tP' 'tv' 'uJ' 'uS' 'ud' 'us' 'ut' 'ux' 'uy' 'vK'\n",
      " 'vq' 'vy' 'wu' 'wy' 'xP' 'xy' 'yN' 'yY' 'yc' 'zU']\n"
     ]
    }
   ],
   "source": [
    "from sklearn.preprocessing import OrdinalEncoder\n",
    "\n",
    "ord_345 = ['ord_3', 'ord_4', 'ord_5']\n",
    "\n",
    "ord_encoder = OrdinalEncoder() # OrdinalEncoder 객체 생성\n",
    "# ordinal 인코딩 적용\n",
    "all_data[ord_345] = ord_encoder.fit_transform(all_data[ord_345])\n",
    "\n",
    "# 피처별 인코딩 순서 출력\n",
    "for feature, categories in zip(ord_345, ord_encoder.categories_):\n",
    "    print(feature)\n",
    "    print(categories)"
   ]
  },
  {
   "cell_type": "markdown",
   "id": "c9a580f2",
   "metadata": {
    "papermill": {
     "duration": 0.017871,
     "end_time": "2022-08-28T14:40:49.930515",
     "exception": false,
     "start_time": "2022-08-28T14:40:49.912644",
     "status": "completed"
    },
    "tags": []
   },
   "source": [
    "### 명목형 피처 인코딩"
   ]
  },
  {
   "cell_type": "code",
   "execution_count": 6,
   "id": "9fbe96bc",
   "metadata": {
    "execution": {
     "iopub.execute_input": "2022-08-28T14:40:49.973962Z",
     "iopub.status.busy": "2022-08-28T14:40:49.972959Z",
     "iopub.status.idle": "2022-08-28T14:40:49.976496Z",
     "shell.execute_reply": "2022-08-28T14:40:49.975876Z",
     "shell.execute_reply.started": "2022-08-28T14:30:19.904170Z"
    },
    "papermill": {
     "duration": 0.027984,
     "end_time": "2022-08-28T14:40:49.976650",
     "exception": false,
     "start_time": "2022-08-28T14:40:49.948666",
     "status": "completed"
    },
    "tags": []
   },
   "outputs": [],
   "source": [
    "nom_features = ['nom_' + str(i) for i in range(10)] # 명목형 피처"
   ]
  },
  {
   "cell_type": "code",
   "execution_count": 7,
   "id": "637c9872",
   "metadata": {
    "execution": {
     "iopub.execute_input": "2022-08-28T14:40:50.021658Z",
     "iopub.status.busy": "2022-08-28T14:40:50.019983Z",
     "iopub.status.idle": "2022-08-28T14:40:51.743511Z",
     "shell.execute_reply": "2022-08-28T14:40:51.744095Z",
     "shell.execute_reply.started": "2022-08-28T14:30:19.910664Z"
    },
    "papermill": {
     "duration": 1.749084,
     "end_time": "2022-08-28T14:40:51.744283",
     "exception": false,
     "start_time": "2022-08-28T14:40:49.995199",
     "status": "completed"
    },
    "tags": []
   },
   "outputs": [
    {
     "data": {
      "text/plain": [
       "<500000x16276 sparse matrix of type '<class 'numpy.float64'>'\n",
       "\twith 5000000 stored elements in Compressed Sparse Row format>"
      ]
     },
     "execution_count": 7,
     "metadata": {},
     "output_type": "execute_result"
    }
   ],
   "source": [
    "from sklearn.preprocessing import OneHotEncoder\n",
    "\n",
    "onehot_encoder = OneHotEncoder() # OneHotEncoder 객체 생성\n",
    "# 원-핫 인코딩 적용\n",
    "encoded_nom_matrix = onehot_encoder.fit_transform(all_data[nom_features])\n",
    "\n",
    "encoded_nom_matrix"
   ]
  },
  {
   "cell_type": "code",
   "execution_count": 8,
   "id": "294ed76f",
   "metadata": {
    "execution": {
     "iopub.execute_input": "2022-08-28T14:40:51.832129Z",
     "iopub.status.busy": "2022-08-28T14:40:51.805349Z",
     "iopub.status.idle": "2022-08-28T14:40:51.835096Z",
     "shell.execute_reply": "2022-08-28T14:40:51.834517Z",
     "shell.execute_reply.started": "2022-08-28T14:30:21.636873Z"
    },
    "papermill": {
     "duration": 0.071142,
     "end_time": "2022-08-28T14:40:51.835257",
     "exception": false,
     "start_time": "2022-08-28T14:40:51.764115",
     "status": "completed"
    },
    "tags": []
   },
   "outputs": [],
   "source": [
    "all_data = all_data.drop(nom_features, axis=1) # 기존 명목형 피처 삭제"
   ]
  },
  {
   "cell_type": "markdown",
   "id": "28b39e7b",
   "metadata": {
    "papermill": {
     "duration": 0.017844,
     "end_time": "2022-08-28T14:40:51.871682",
     "exception": false,
     "start_time": "2022-08-28T14:40:51.853838",
     "status": "completed"
    },
    "tags": []
   },
   "source": [
    "### 날짜 피처 인코딩"
   ]
  },
  {
   "cell_type": "code",
   "execution_count": 9,
   "id": "792b25e7",
   "metadata": {
    "execution": {
     "iopub.execute_input": "2022-08-28T14:40:51.918165Z",
     "iopub.status.busy": "2022-08-28T14:40:51.917441Z",
     "iopub.status.idle": "2022-08-28T14:40:52.049627Z",
     "shell.execute_reply": "2022-08-28T14:40:52.048789Z",
     "shell.execute_reply.started": "2022-08-28T14:30:21.681510Z"
    },
    "papermill": {
     "duration": 0.159846,
     "end_time": "2022-08-28T14:40:52.049787",
     "exception": false,
     "start_time": "2022-08-28T14:40:51.889941",
     "status": "completed"
    },
    "tags": []
   },
   "outputs": [
    {
     "data": {
      "text/plain": [
       "<500000x19 sparse matrix of type '<class 'numpy.float64'>'\n",
       "\twith 1000000 stored elements in Compressed Sparse Row format>"
      ]
     },
     "execution_count": 9,
     "metadata": {},
     "output_type": "execute_result"
    }
   ],
   "source": [
    "date_features  = ['day', 'month'] # 날짜 피처\n",
    "\n",
    "# 원-핫 인코딩 적용\n",
    "encoded_date_matrix = onehot_encoder.fit_transform(all_data[date_features])\n",
    "\n",
    "all_data = all_data.drop(date_features, axis=1) # 기존 날짜 피처 삭제\n",
    "\n",
    "encoded_date_matrix"
   ]
  },
  {
   "cell_type": "markdown",
   "id": "d103beab",
   "metadata": {
    "papermill": {
     "duration": 0.018661,
     "end_time": "2022-08-28T14:40:52.088683",
     "exception": false,
     "start_time": "2022-08-28T14:40:52.070022",
     "status": "completed"
    },
    "tags": []
   },
   "source": [
    "## 피처 엔지니어링 II : 피처 스케일링"
   ]
  },
  {
   "cell_type": "markdown",
   "id": "8669575c",
   "metadata": {
    "papermill": {
     "duration": 0.019642,
     "end_time": "2022-08-28T14:40:52.127317",
     "exception": false,
     "start_time": "2022-08-28T14:40:52.107675",
     "status": "completed"
    },
    "tags": []
   },
   "source": [
    "### 순서형 피처 스케일링"
   ]
  },
  {
   "cell_type": "code",
   "execution_count": 10,
   "id": "d11adbf3",
   "metadata": {
    "execution": {
     "iopub.execute_input": "2022-08-28T14:40:52.182677Z",
     "iopub.status.busy": "2022-08-28T14:40:52.180650Z",
     "iopub.status.idle": "2022-08-28T14:40:52.262872Z",
     "shell.execute_reply": "2022-08-28T14:40:52.263421Z",
     "shell.execute_reply.started": "2022-08-28T14:30:21.834552Z"
    },
    "papermill": {
     "duration": 0.117189,
     "end_time": "2022-08-28T14:40:52.263624",
     "exception": false,
     "start_time": "2022-08-28T14:40:52.146435",
     "status": "completed"
    },
    "tags": []
   },
   "outputs": [],
   "source": [
    "from sklearn.preprocessing import MinMaxScaler\n",
    "\n",
    "ord_features = ['ord_' + str(i) for i in range(6)] # 순서형 피처\n",
    "# min-max 정규화\n",
    "all_data[ord_features] = MinMaxScaler().fit_transform(all_data[ord_features])"
   ]
  },
  {
   "cell_type": "markdown",
   "id": "4c31d14d",
   "metadata": {
    "papermill": {
     "duration": 0.019005,
     "end_time": "2022-08-28T14:40:52.301849",
     "exception": false,
     "start_time": "2022-08-28T14:40:52.282844",
     "status": "completed"
    },
    "tags": []
   },
   "source": [
    "### 인코딩 및 스케일링된 피처 합치기"
   ]
  },
  {
   "cell_type": "code",
   "execution_count": 11,
   "id": "3e30dffa",
   "metadata": {
    "execution": {
     "iopub.execute_input": "2022-08-28T14:40:52.346192Z",
     "iopub.status.busy": "2022-08-28T14:40:52.345401Z",
     "iopub.status.idle": "2022-08-28T14:40:52.973419Z",
     "shell.execute_reply": "2022-08-28T14:40:52.972767Z",
     "shell.execute_reply.started": "2022-08-28T14:30:21.922119Z"
    },
    "papermill": {
     "duration": 0.652551,
     "end_time": "2022-08-28T14:40:52.973585",
     "exception": false,
     "start_time": "2022-08-28T14:40:52.321034",
     "status": "completed"
    },
    "tags": []
   },
   "outputs": [],
   "source": [
    "from scipy import sparse\n",
    "\n",
    "# 인코딩 및 스케일링된 피처 합치기\n",
    "all_data_sprs = sparse.hstack([sparse.csr_matrix(all_data),\n",
    "                               encoded_nom_matrix,\n",
    "                               encoded_date_matrix],\n",
    "                              format='csr')"
   ]
  },
  {
   "cell_type": "code",
   "execution_count": 12,
   "id": "814d8725",
   "metadata": {
    "execution": {
     "iopub.execute_input": "2022-08-28T14:40:53.018748Z",
     "iopub.status.busy": "2022-08-28T14:40:53.017720Z",
     "iopub.status.idle": "2022-08-28T14:40:53.022366Z",
     "shell.execute_reply": "2022-08-28T14:40:53.021769Z",
     "shell.execute_reply.started": "2022-08-28T14:30:22.534306Z"
    },
    "papermill": {
     "duration": 0.029352,
     "end_time": "2022-08-28T14:40:53.022519",
     "exception": false,
     "start_time": "2022-08-28T14:40:52.993167",
     "status": "completed"
    },
    "tags": []
   },
   "outputs": [
    {
     "data": {
      "text/plain": [
       "<500000x16306 sparse matrix of type '<class 'numpy.float64'>'\n",
       "\twith 9163718 stored elements in Compressed Sparse Row format>"
      ]
     },
     "execution_count": 12,
     "metadata": {},
     "output_type": "execute_result"
    }
   ],
   "source": [
    "all_data_sprs"
   ]
  },
  {
   "cell_type": "markdown",
   "id": "44be9cca",
   "metadata": {
    "papermill": {
     "duration": 0.019596,
     "end_time": "2022-08-28T14:40:53.062039",
     "exception": false,
     "start_time": "2022-08-28T14:40:53.042443",
     "status": "completed"
    },
    "tags": []
   },
   "source": [
    "### 데이터 나누기"
   ]
  },
  {
   "cell_type": "code",
   "execution_count": 13,
   "id": "5f6e7049",
   "metadata": {
    "execution": {
     "iopub.execute_input": "2022-08-28T14:40:53.106695Z",
     "iopub.status.busy": "2022-08-28T14:40:53.105686Z",
     "iopub.status.idle": "2022-08-28T14:40:53.216176Z",
     "shell.execute_reply": "2022-08-28T14:40:53.216796Z",
     "shell.execute_reply.started": "2022-08-28T14:30:22.541833Z"
    },
    "papermill": {
     "duration": 0.135554,
     "end_time": "2022-08-28T14:40:53.217161",
     "exception": false,
     "start_time": "2022-08-28T14:40:53.081607",
     "status": "completed"
    },
    "tags": []
   },
   "outputs": [],
   "source": [
    "num_train = len(train) # 훈련 데이터 개수\n",
    "\n",
    "# 훈련 데이터와 테스트 데이터 나누기\n",
    "X_train = all_data_sprs[:num_train] # 0 ~ num_train - 1행\n",
    "X_test = all_data_sprs[num_train:] # num_train ~ 마지막 행\n",
    "\n",
    "y = train['target']"
   ]
  },
  {
   "cell_type": "markdown",
   "id": "ffaeecfc",
   "metadata": {
    "papermill": {
     "duration": 0.01989,
     "end_time": "2022-08-28T14:40:53.260266",
     "exception": false,
     "start_time": "2022-08-28T14:40:53.240376",
     "status": "completed"
    },
    "tags": []
   },
   "source": [
    "## 하이퍼 파라미터 최적화"
   ]
  },
  {
   "cell_type": "code",
   "execution_count": 14,
   "id": "9502f14f",
   "metadata": {
    "execution": {
     "iopub.execute_input": "2022-08-28T14:40:53.306744Z",
     "iopub.status.busy": "2022-08-28T14:40:53.305873Z",
     "iopub.status.idle": "2022-08-28T14:53:16.392847Z",
     "shell.execute_reply": "2022-08-28T14:53:16.393407Z",
     "shell.execute_reply.started": "2022-08-28T14:30:22.660706Z"
    },
    "papermill": {
     "duration": 743.113483,
     "end_time": "2022-08-28T14:53:16.393609",
     "exception": false,
     "start_time": "2022-08-28T14:40:53.280126",
     "status": "completed"
    },
    "tags": []
   },
   "outputs": [
    {
     "name": "stdout",
     "output_type": "stream",
     "text": [
      "최적 하이퍼파라미터: {'C': 0.125, 'max_iter': 800, 'random_state': 42, 'solver': 'liblinear'}\n",
      "CPU times: user 21min 30s, sys: 25min 52s, total: 47min 23s\n",
      "Wall time: 12min 23s\n"
     ]
    }
   ],
   "source": [
    "%%time\n",
    "\n",
    "from sklearn.model_selection import GridSearchCV\n",
    "from sklearn.linear_model import LogisticRegression\n",
    "\n",
    "# 로지스틱 회귀 모델 생성\n",
    "logistic_model = LogisticRegression()\n",
    "\n",
    "# 하이퍼파라미터 값 목록\n",
    "lr_params = {'C':[0.1, 0.125, 0.2], 'max_iter':[800, 900, 1000], \n",
    "             'solver':['liblinear'], 'random_state':[42]}\n",
    "\n",
    "# 그리드서치 객체 생성\n",
    "gridsearch_logistic_model = GridSearchCV(estimator=logistic_model,\n",
    "                                         param_grid=lr_params,\n",
    "                                         scoring='roc_auc', # 평가지표\n",
    "                                         cv=5)\n",
    "# 그리드서치 수행\n",
    "gridsearch_logistic_model.fit(X_train, y)\n",
    "\n",
    "print('최적 하이퍼파라미터:', gridsearch_logistic_model.best_params_)"
   ]
  },
  {
   "cell_type": "markdown",
   "id": "c3aedee6",
   "metadata": {
    "papermill": {
     "duration": 0.019961,
     "end_time": "2022-08-28T14:53:16.433621",
     "exception": false,
     "start_time": "2022-08-28T14:53:16.413660",
     "status": "completed"
    },
    "tags": []
   },
   "source": [
    "## 예측 및 결과 제출"
   ]
  },
  {
   "cell_type": "code",
   "execution_count": 15,
   "id": "d4e82a31",
   "metadata": {
    "execution": {
     "iopub.execute_input": "2022-08-28T14:53:16.480456Z",
     "iopub.status.busy": "2022-08-28T14:53:16.479164Z",
     "iopub.status.idle": "2022-08-28T14:53:17.040895Z",
     "shell.execute_reply": "2022-08-28T14:53:17.039834Z",
     "shell.execute_reply.started": "2022-08-28T14:40:09.462266Z"
    },
    "papermill": {
     "duration": 0.587366,
     "end_time": "2022-08-28T14:53:17.041055",
     "exception": false,
     "start_time": "2022-08-28T14:53:16.453689",
     "status": "completed"
    },
    "tags": []
   },
   "outputs": [],
   "source": [
    "# 타깃값 1일 확률 예측\n",
    "y_preds = gridsearch_logistic_model.best_estimator_.predict_proba(X_test)[:,1]\n",
    "\n",
    "# 제출 파일 생성\n",
    "submission['target'] = y_preds\n",
    "submission.to_csv('submission.csv')"
   ]
  }
 ],
 "metadata": {
  "kernelspec": {
   "display_name": "Python 3",
   "language": "python",
   "name": "python3"
  },
  "language_info": {
   "codemirror_mode": {
    "name": "ipython",
    "version": 3
   },
   "file_extension": ".py",
   "mimetype": "text/x-python",
   "name": "python",
   "nbconvert_exporter": "python",
   "pygments_lexer": "ipython3",
   "version": "3.7.10"
  },
  "papermill": {
   "default_parameters": {},
   "duration": 763.090166,
   "end_time": "2022-08-28T14:53:18.392078",
   "environment_variables": {},
   "exception": null,
   "input_path": "__notebook__.ipynb",
   "output_path": "__notebook__.ipynb",
   "parameters": {},
   "start_time": "2022-08-28T14:40:35.301912",
   "version": "2.3.3"
  }
 },
 "nbformat": 4,
 "nbformat_minor": 5
}
