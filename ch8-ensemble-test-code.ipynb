{
 "cells": [
  {
   "cell_type": "markdown",
   "id": "ff9a5a73",
   "metadata": {
    "papermill": {
     "duration": 0.006259,
     "end_time": "2022-08-30T13:15:12.554000",
     "exception": false,
     "start_time": "2022-08-30T13:15:12.547741",
     "status": "completed"
    },
    "tags": []
   },
   "source": [
    "## 8.6 III Ensemble LightGBM & XGBoost"
   ]
  },
  {
   "cell_type": "code",
   "execution_count": 1,
   "id": "2da58cec",
   "metadata": {
    "_cell_guid": "b1076dfc-b9ad-4769-8c92-a6c4dae69d19",
    "_uuid": "8f2839f25d086af736a60e9eeb907d3b93b6e0e5",
    "execution": {
     "iopub.execute_input": "2022-08-30T13:15:12.567035Z",
     "iopub.status.busy": "2022-08-30T13:15:12.566360Z",
     "iopub.status.idle": "2022-08-30T13:15:22.555361Z",
     "shell.execute_reply": "2022-08-30T13:15:22.554478Z"
    },
    "papermill": {
     "duration": 9.998708,
     "end_time": "2022-08-30T13:15:22.558252",
     "exception": false,
     "start_time": "2022-08-30T13:15:12.559544",
     "status": "completed"
    },
    "tags": []
   },
   "outputs": [],
   "source": [
    "import numpy as np\n",
    "import pandas as pd\n",
    "\n",
    "path = '/kaggle/input/porto-seguro-safe-driver-prediction/'\n",
    "\n",
    "train = pd.read_csv(path + 'train.csv', index_col='id')\n",
    "test = pd.read_csv(path + 'test.csv', index_col='id')\n",
    "submission = pd.read_csv(path + 'sample_submission.csv', index_col='id')"
   ]
  },
  {
   "cell_type": "code",
   "execution_count": 2,
   "id": "a5bdc61e",
   "metadata": {
    "execution": {
     "iopub.execute_input": "2022-08-30T13:15:22.571155Z",
     "iopub.status.busy": "2022-08-30T13:15:22.570520Z",
     "iopub.status.idle": "2022-08-30T13:15:23.908458Z",
     "shell.execute_reply": "2022-08-30T13:15:23.907361Z"
    },
    "papermill": {
     "duration": 1.347411,
     "end_time": "2022-08-30T13:15:23.911251",
     "exception": false,
     "start_time": "2022-08-30T13:15:22.563840",
     "status": "completed"
    },
    "tags": []
   },
   "outputs": [],
   "source": [
    "all_data = pd.concat([train, test], ignore_index=True)\n",
    "all_data = all_data.drop('target', axis=1)\n",
    "\n",
    "all_features = all_data.columns"
   ]
  },
  {
   "cell_type": "code",
   "execution_count": 3,
   "id": "2fbf4a35",
   "metadata": {
    "execution": {
     "iopub.execute_input": "2022-08-30T13:15:23.923528Z",
     "iopub.status.busy": "2022-08-30T13:15:23.923149Z",
     "iopub.status.idle": "2022-08-30T13:15:27.363034Z",
     "shell.execute_reply": "2022-08-30T13:15:27.361766Z"
    },
    "papermill": {
     "duration": 3.449497,
     "end_time": "2022-08-30T13:15:27.365998",
     "exception": false,
     "start_time": "2022-08-30T13:15:23.916501",
     "status": "completed"
    },
    "tags": []
   },
   "outputs": [],
   "source": [
    "from sklearn.preprocessing import OneHotEncoder\n",
    "\n",
    "cat_features = [feature for feature in all_features if 'cat' in feature] # 명목형 피처\n",
    "\n",
    "onehot_encoder = OneHotEncoder()\n",
    "encoded_cat_matrix = onehot_encoder.fit_transform(all_data[cat_features])"
   ]
  },
  {
   "cell_type": "code",
   "execution_count": 4,
   "id": "2f5b7d6a",
   "metadata": {
    "execution": {
     "iopub.execute_input": "2022-08-30T13:15:27.378124Z",
     "iopub.status.busy": "2022-08-30T13:15:27.377730Z",
     "iopub.status.idle": "2022-08-30T13:15:27.592231Z",
     "shell.execute_reply": "2022-08-30T13:15:27.591133Z"
    },
    "papermill": {
     "duration": 0.223821,
     "end_time": "2022-08-30T13:15:27.595210",
     "exception": false,
     "start_time": "2022-08-30T13:15:27.371389",
     "status": "completed"
    },
    "tags": []
   },
   "outputs": [],
   "source": [
    "# 파생 피처(결측치)\n",
    "all_data['num_missing'] = (all_data==-1).sum(axis=1)"
   ]
  },
  {
   "cell_type": "code",
   "execution_count": 5,
   "id": "22a6c7c8",
   "metadata": {
    "execution": {
     "iopub.execute_input": "2022-08-30T13:15:27.609798Z",
     "iopub.status.busy": "2022-08-30T13:15:27.609354Z",
     "iopub.status.idle": "2022-08-30T13:15:27.615098Z",
     "shell.execute_reply": "2022-08-30T13:15:27.613898Z"
    },
    "papermill": {
     "duration": 0.015541,
     "end_time": "2022-08-30T13:15:27.617406",
     "exception": false,
     "start_time": "2022-08-30T13:15:27.601865",
     "status": "completed"
    },
    "tags": []
   },
   "outputs": [],
   "source": [
    "# 명목형 피처, calc 분류 피처를 제외한 피처\n",
    "remaining_features = [feature for feature in all_features \n",
    "                      if ('cat' not in feature and 'calc' not in feature)] \n",
    "\n",
    "# num_missing을 remaining_features에 추가\n",
    "remaining_features.append('num_missing')"
   ]
  },
  {
   "cell_type": "code",
   "execution_count": 6,
   "id": "9e08f93a",
   "metadata": {
    "execution": {
     "iopub.execute_input": "2022-08-30T13:15:27.630251Z",
     "iopub.status.busy": "2022-08-30T13:15:27.629739Z",
     "iopub.status.idle": "2022-08-30T13:15:49.138624Z",
     "shell.execute_reply": "2022-08-30T13:15:49.137232Z"
    },
    "papermill": {
     "duration": 21.518534,
     "end_time": "2022-08-30T13:15:49.141514",
     "exception": false,
     "start_time": "2022-08-30T13:15:27.622980",
     "status": "completed"
    },
    "tags": []
   },
   "outputs": [],
   "source": [
    "ind_features = [feature for feature in all_features if 'ind' in feature]\n",
    "\n",
    "is_first_feature = True\n",
    "for ind_feature in ind_features:\n",
    "    if is_first_feature:\n",
    "        all_data['mix_ind'] = all_data[ind_feature].astype(str) + '_'\n",
    "        is_first_feature = False\n",
    "    else:\n",
    "        all_data['mix_ind'] += all_data[ind_feature].astype(str) + '_'"
   ]
  },
  {
   "cell_type": "code",
   "execution_count": 7,
   "id": "d513caeb",
   "metadata": {
    "execution": {
     "iopub.execute_input": "2022-08-30T13:15:49.154631Z",
     "iopub.status.busy": "2022-08-30T13:15:49.154224Z",
     "iopub.status.idle": "2022-08-30T13:15:59.701321Z",
     "shell.execute_reply": "2022-08-30T13:15:59.700081Z"
    },
    "papermill": {
     "duration": 10.556937,
     "end_time": "2022-08-30T13:15:59.704014",
     "exception": false,
     "start_time": "2022-08-30T13:15:49.147077",
     "status": "completed"
    },
    "tags": []
   },
   "outputs": [],
   "source": [
    "cat_count_features = []\n",
    "for feature in cat_features+['mix_ind']:\n",
    "    val_counts_dict = all_data[feature].value_counts().to_dict()\n",
    "    all_data[f'{feature}_count'] = all_data[feature].apply(lambda x: val_counts_dict[x])\n",
    "    cat_count_features.append(f'{feature}_count')"
   ]
  },
  {
   "cell_type": "code",
   "execution_count": 8,
   "id": "faea25da",
   "metadata": {
    "execution": {
     "iopub.execute_input": "2022-08-30T13:15:59.716695Z",
     "iopub.status.busy": "2022-08-30T13:15:59.716222Z",
     "iopub.status.idle": "2022-08-30T13:15:59.725668Z",
     "shell.execute_reply": "2022-08-30T13:15:59.724773Z"
    },
    "papermill": {
     "duration": 0.01856,
     "end_time": "2022-08-30T13:15:59.728096",
     "exception": false,
     "start_time": "2022-08-30T13:15:59.709536",
     "status": "completed"
    },
    "tags": []
   },
   "outputs": [
    {
     "data": {
      "text/plain": [
       "['ps_ind_02_cat_count',\n",
       " 'ps_ind_04_cat_count',\n",
       " 'ps_ind_05_cat_count',\n",
       " 'ps_car_01_cat_count',\n",
       " 'ps_car_02_cat_count',\n",
       " 'ps_car_03_cat_count',\n",
       " 'ps_car_04_cat_count',\n",
       " 'ps_car_05_cat_count',\n",
       " 'ps_car_06_cat_count',\n",
       " 'ps_car_07_cat_count',\n",
       " 'ps_car_08_cat_count',\n",
       " 'ps_car_09_cat_count',\n",
       " 'ps_car_10_cat_count',\n",
       " 'ps_car_11_cat_count',\n",
       " 'mix_ind_count']"
      ]
     },
     "execution_count": 8,
     "metadata": {},
     "output_type": "execute_result"
    }
   ],
   "source": [
    "cat_count_features"
   ]
  },
  {
   "cell_type": "code",
   "execution_count": 9,
   "id": "00b3174a",
   "metadata": {
    "execution": {
     "iopub.execute_input": "2022-08-30T13:15:59.741673Z",
     "iopub.status.busy": "2022-08-30T13:15:59.741249Z",
     "iopub.status.idle": "2022-08-30T13:16:05.830031Z",
     "shell.execute_reply": "2022-08-30T13:16:05.828573Z"
    },
    "papermill": {
     "duration": 6.098699,
     "end_time": "2022-08-30T13:16:05.832876",
     "exception": false,
     "start_time": "2022-08-30T13:15:59.734177",
     "status": "completed"
    },
    "tags": []
   },
   "outputs": [],
   "source": [
    "from scipy import sparse\n",
    "\n",
    "drop_features = ['ps_ind_14', 'ps_ind_10_bin', 'ps_ind_11_bin', \n",
    "                 'ps_ind_12_bin', 'ps_ind_13_bin', 'ps_car_14']\n",
    "\n",
    "# remaining_features, cat_count_features에서 drop_features를 제거한 데이터\n",
    "all_data_remaining = all_data[remaining_features+cat_count_features].drop(drop_features, axis=1)\n",
    "\n",
    "# sparse matrix, option->csr\n",
    "all_data_sprs = sparse.hstack([sparse.csr_matrix(all_data_remaining),\n",
    "                               encoded_cat_matrix],\n",
    "                              format='csr')"
   ]
  },
  {
   "cell_type": "code",
   "execution_count": 10,
   "id": "5a80ec2f",
   "metadata": {
    "execution": {
     "iopub.execute_input": "2022-08-30T13:16:05.846421Z",
     "iopub.status.busy": "2022-08-30T13:16:05.845968Z",
     "iopub.status.idle": "2022-08-30T13:16:07.075887Z",
     "shell.execute_reply": "2022-08-30T13:16:07.074869Z"
    },
    "papermill": {
     "duration": 1.239989,
     "end_time": "2022-08-30T13:16:07.078746",
     "exception": false,
     "start_time": "2022-08-30T13:16:05.838757",
     "status": "completed"
    },
    "tags": []
   },
   "outputs": [],
   "source": [
    "num_train = len(train)\n",
    "\n",
    "X = all_data_sprs[:num_train]\n",
    "X_test = all_data_sprs[num_train:]\n",
    "\n",
    "y = train['target'].values"
   ]
  },
  {
   "cell_type": "code",
   "execution_count": 11,
   "id": "287f2698",
   "metadata": {
    "execution": {
     "iopub.execute_input": "2022-08-30T13:16:07.092446Z",
     "iopub.status.busy": "2022-08-30T13:16:07.092038Z",
     "iopub.status.idle": "2022-08-30T13:16:07.100481Z",
     "shell.execute_reply": "2022-08-30T13:16:07.099146Z"
    },
    "papermill": {
     "duration": 0.018323,
     "end_time": "2022-08-30T13:16:07.103041",
     "exception": false,
     "start_time": "2022-08-30T13:16:07.084718",
     "status": "completed"
    },
    "tags": []
   },
   "outputs": [],
   "source": [
    "def eval_gini(y_true, y_pred):\n",
    "    # 실제값과 예측값이 다르면 오류 발생\n",
    "    assert y_true.shape == y_pred.shape\n",
    "\n",
    "    n_samples = y_true.shape[0]                      # 데이터 개수\n",
    "    L_mid = np.linspace(1 / n_samples, 1, n_samples) # 대각선 값\n",
    "\n",
    "    # 1) 예측값에 대한 지니계수\n",
    "    pred_order = y_true[y_pred.argsort()] # y_pred 크기순으로 y_true 값 정렬\n",
    "    L_pred = np.cumsum(pred_order) / np.sum(pred_order) # 로렌츠 곡선\n",
    "    G_pred = np.sum(L_mid - L_pred)       # 예측 값에 대한 지니계수\n",
    "\n",
    "    # 2) 예측이 완벽할 때 지니계수\n",
    "    true_order = y_true[y_true.argsort()] # y_true 크기순으로 y_true 값 정렬\n",
    "    L_true = np.cumsum(true_order) / np.sum(true_order) # 로렌츠 곡선\n",
    "    G_true = np.sum(L_mid - L_true)       # 예측이 완벽할 때 지니계수\n",
    "\n",
    "    # 정규화된 지니계수\n",
    "    return G_pred / G_true"
   ]
  },
  {
   "cell_type": "code",
   "execution_count": 12,
   "id": "72837061",
   "metadata": {
    "execution": {
     "iopub.execute_input": "2022-08-30T13:16:07.116700Z",
     "iopub.status.busy": "2022-08-30T13:16:07.116236Z",
     "iopub.status.idle": "2022-08-30T13:16:07.123068Z",
     "shell.execute_reply": "2022-08-30T13:16:07.122181Z"
    },
    "papermill": {
     "duration": 0.016287,
     "end_time": "2022-08-30T13:16:07.125365",
     "exception": false,
     "start_time": "2022-08-30T13:16:07.109078",
     "status": "completed"
    },
    "tags": []
   },
   "outputs": [],
   "source": [
    "# LightGBM용 gini() 함수\n",
    "def gini_lgb(preds, dtrain):\n",
    "    labels = dtrain.get_label()\n",
    "    return 'gini', eval_gini(labels, preds), True"
   ]
  },
  {
   "cell_type": "code",
   "execution_count": 13,
   "id": "2e4c74a3",
   "metadata": {
    "execution": {
     "iopub.execute_input": "2022-08-30T13:16:07.139482Z",
     "iopub.status.busy": "2022-08-30T13:16:07.139065Z",
     "iopub.status.idle": "2022-08-30T13:16:07.144999Z",
     "shell.execute_reply": "2022-08-30T13:16:07.143647Z"
    },
    "papermill": {
     "duration": 0.016169,
     "end_time": "2022-08-30T13:16:07.147387",
     "exception": false,
     "start_time": "2022-08-30T13:16:07.131218",
     "status": "completed"
    },
    "tags": []
   },
   "outputs": [],
   "source": [
    "# XGBoost용 gini() 함수\n",
    "def gini_xgb(preds, dtrain):\n",
    "    labels = dtrain.get_label()\n",
    "    return 'gini', eval_gini(labels, preds)"
   ]
  },
  {
   "cell_type": "code",
   "execution_count": 14,
   "id": "f530423a",
   "metadata": {
    "execution": {
     "iopub.execute_input": "2022-08-30T13:16:07.162176Z",
     "iopub.status.busy": "2022-08-30T13:16:07.161790Z",
     "iopub.status.idle": "2022-08-30T13:16:07.232876Z",
     "shell.execute_reply": "2022-08-30T13:16:07.231758Z"
    },
    "papermill": {
     "duration": 0.082161,
     "end_time": "2022-08-30T13:16:07.235496",
     "exception": false,
     "start_time": "2022-08-30T13:16:07.153335",
     "status": "completed"
    },
    "tags": []
   },
   "outputs": [],
   "source": [
    "from sklearn.model_selection import StratifiedKFold\n",
    "\n",
    "# 층화 K 폴드 교차 검증기 생성\n",
    "folds = StratifiedKFold(n_splits=5, shuffle=True, random_state=1991)"
   ]
  },
  {
   "cell_type": "code",
   "execution_count": 15,
   "id": "441c5d2f",
   "metadata": {
    "execution": {
     "iopub.execute_input": "2022-08-30T13:16:07.249369Z",
     "iopub.status.busy": "2022-08-30T13:16:07.248539Z",
     "iopub.status.idle": "2022-08-30T13:16:07.254654Z",
     "shell.execute_reply": "2022-08-30T13:16:07.253779Z"
    },
    "papermill": {
     "duration": 0.015297,
     "end_time": "2022-08-30T13:16:07.256747",
     "exception": false,
     "start_time": "2022-08-30T13:16:07.241450",
     "status": "completed"
    },
    "tags": []
   },
   "outputs": [],
   "source": [
    "max_params_lgb = {'bagging_fraction': 0.6213108174593661,\n",
    "                  'feature_fraction': 0.608712929970154,\n",
    "                  'lambda_l1': 0.7040436794880651,\n",
    "                  'lambda_l2': 0.9832619845547939,\n",
    "                  'min_child_samples': 9,\n",
    "                  'min_child_weight': 36.10036444740457,\n",
    "                  'num_leaves': 40,\n",
    "                  'objective': 'binary',\n",
    "                  'learning_rate': 0.005,\n",
    "                  'bagging_freq': 1,\n",
    "                  'force_row_wise': True,\n",
    "                  'random_state': 1991}"
   ]
  },
  {
   "cell_type": "code",
   "execution_count": 16,
   "id": "97408315",
   "metadata": {
    "execution": {
     "iopub.execute_input": "2022-08-30T13:16:07.270240Z",
     "iopub.status.busy": "2022-08-30T13:16:07.269833Z",
     "iopub.status.idle": "2022-08-30T13:39:19.843136Z",
     "shell.execute_reply": "2022-08-30T13:39:19.841152Z"
    },
    "papermill": {
     "duration": 1392.59831,
     "end_time": "2022-08-30T13:39:19.860906",
     "exception": false,
     "start_time": "2022-08-30T13:16:07.262596",
     "status": "completed"
    },
    "tags": []
   },
   "outputs": [
    {
     "data": {
      "text/html": [
       "<style type='text/css'>\n",
       ".datatable table.frame { margin-bottom: 0; }\n",
       ".datatable table.frame thead { border-bottom: none; }\n",
       ".datatable table.frame tr.coltypes td {  color: #FFFFFF;  line-height: 6px;  padding: 0 0.5em;}\n",
       ".datatable .bool    { background: #DDDD99; }\n",
       ".datatable .object  { background: #565656; }\n",
       ".datatable .int     { background: #5D9E5D; }\n",
       ".datatable .float   { background: #4040CC; }\n",
       ".datatable .str     { background: #CC4040; }\n",
       ".datatable .time    { background: #40CC40; }\n",
       ".datatable .row_index {  background: var(--jp-border-color3);  border-right: 1px solid var(--jp-border-color0);  color: var(--jp-ui-font-color3);  font-size: 9px;}\n",
       ".datatable .frame tbody td { text-align: left; }\n",
       ".datatable .frame tr.coltypes .row_index {  background: var(--jp-border-color0);}\n",
       ".datatable th:nth-child(2) { padding-left: 12px; }\n",
       ".datatable .hellipsis {  color: var(--jp-cell-editor-border-color);}\n",
       ".datatable .vellipsis {  background: var(--jp-layout-color0);  color: var(--jp-cell-editor-border-color);}\n",
       ".datatable .na {  color: var(--jp-cell-editor-border-color);  font-size: 80%;}\n",
       ".datatable .sp {  opacity: 0.25;}\n",
       ".datatable .footer { font-size: 9px; }\n",
       ".datatable .frame_dimensions {  background: var(--jp-border-color3);  border-top: 1px solid var(--jp-border-color0);  color: var(--jp-ui-font-color3);  display: inline-block;  opacity: 0.6;  padding: 1px 10px 1px 5px;}\n",
       "</style>\n"
      ],
      "text/plain": [
       "<IPython.core.display.HTML object>"
      ]
     },
     "metadata": {},
     "output_type": "display_data"
    },
    {
     "name": "stdout",
     "output_type": "stream",
     "text": [
      "######################################## 폴드 1 / 폴드 5 ########################################\n"
     ]
    },
    {
     "name": "stderr",
     "output_type": "stream",
     "text": [
      "/opt/conda/lib/python3.7/site-packages/lightgbm/engine.py:181: UserWarning: 'early_stopping_rounds' argument is deprecated and will be removed in a future release of LightGBM. Pass 'early_stopping()' callback via 'callbacks' argument instead.\n",
      "  _log_warning(\"'early_stopping_rounds' argument is deprecated and will be removed in a future release of LightGBM. \"\n",
      "/opt/conda/lib/python3.7/site-packages/lightgbm/engine.py:239: UserWarning: 'verbose_eval' argument is deprecated and will be removed in a future release of LightGBM. Pass 'log_evaluation()' callback via 'callbacks' argument instead.\n",
      "  _log_warning(\"'verbose_eval' argument is deprecated and will be removed in a future release of LightGBM. \"\n"
     ]
    },
    {
     "name": "stdout",
     "output_type": "stream",
     "text": [
      "[LightGBM] [Info] Number of positive: 17355, number of negative: 458814\n",
      "[LightGBM] [Info] Total Bins 1554\n",
      "[LightGBM] [Info] Number of data points in the train set: 476169, number of used features: 216\n",
      "[LightGBM] [Info] [binary:BoostFromScore]: pavg=0.036447 -> initscore=-3.274764\n",
      "[LightGBM] [Info] Start training from score -3.274764\n",
      "Training until validation scores don't improve for 300 rounds\n",
      "[100]\tvalid_0's binary_logloss: 0.154239\tvalid_0's gini: 0.270944\n",
      "[200]\tvalid_0's binary_logloss: 0.153176\tvalid_0's gini: 0.275764\n",
      "[300]\tvalid_0's binary_logloss: 0.152584\tvalid_0's gini: 0.279501\n",
      "[400]\tvalid_0's binary_logloss: 0.152222\tvalid_0's gini: 0.282893\n",
      "[500]\tvalid_0's binary_logloss: 0.151986\tvalid_0's gini: 0.286058\n",
      "[600]\tvalid_0's binary_logloss: 0.151824\tvalid_0's gini: 0.288805\n",
      "[700]\tvalid_0's binary_logloss: 0.151712\tvalid_0's gini: 0.290719\n",
      "[800]\tvalid_0's binary_logloss: 0.151622\tvalid_0's gini: 0.292581\n",
      "[900]\tvalid_0's binary_logloss: 0.151552\tvalid_0's gini: 0.294212\n",
      "[1000]\tvalid_0's binary_logloss: 0.151505\tvalid_0's gini: 0.295204\n",
      "[1100]\tvalid_0's binary_logloss: 0.151471\tvalid_0's gini: 0.295909\n",
      "[1200]\tvalid_0's binary_logloss: 0.151438\tvalid_0's gini: 0.296721\n",
      "[1300]\tvalid_0's binary_logloss: 0.151414\tvalid_0's gini: 0.297335\n",
      "[1400]\tvalid_0's binary_logloss: 0.151402\tvalid_0's gini: 0.297569\n",
      "[1500]\tvalid_0's binary_logloss: 0.15139\tvalid_0's gini: 0.297881\n",
      "[1600]\tvalid_0's binary_logloss: 0.151382\tvalid_0's gini: 0.298033\n",
      "[1700]\tvalid_0's binary_logloss: 0.151376\tvalid_0's gini: 0.298238\n",
      "[1800]\tvalid_0's binary_logloss: 0.151372\tvalid_0's gini: 0.298342\n",
      "[1900]\tvalid_0's binary_logloss: 0.151369\tvalid_0's gini: 0.298371\n",
      "[2000]\tvalid_0's binary_logloss: 0.151371\tvalid_0's gini: 0.298222\n",
      "[2100]\tvalid_0's binary_logloss: 0.151362\tvalid_0's gini: 0.298463\n",
      "[2200]\tvalid_0's binary_logloss: 0.151359\tvalid_0's gini: 0.298466\n",
      "[2300]\tvalid_0's binary_logloss: 0.151362\tvalid_0's gini: 0.298415\n",
      "[2400]\tvalid_0's binary_logloss: 0.151359\tvalid_0's gini: 0.298569\n",
      "[2500]\tvalid_0's binary_logloss: 0.151361\tvalid_0's gini: 0.298542\n",
      "Did not meet early stopping. Best iteration is:\n",
      "[2458]\tvalid_0's binary_logloss: 0.151355\tvalid_0's gini: 0.29865\n",
      "폴드 1 지니계수 : 0.2986504843987991\n",
      "\n",
      "######################################## 폴드 2 / 폴드 5 ########################################\n",
      "[LightGBM] [Info] Number of positive: 17355, number of negative: 458814\n",
      "[LightGBM] [Info] Total Bins 1560\n",
      "[LightGBM] [Info] Number of data points in the train set: 476169, number of used features: 216\n",
      "[LightGBM] [Info] [binary:BoostFromScore]: pavg=0.036447 -> initscore=-3.274764\n",
      "[LightGBM] [Info] Start training from score -3.274764\n",
      "Training until validation scores don't improve for 300 rounds\n",
      "[100]\tvalid_0's binary_logloss: 0.154347\tvalid_0's gini: 0.258575\n",
      "[200]\tvalid_0's binary_logloss: 0.153338\tvalid_0's gini: 0.263768\n",
      "[300]\tvalid_0's binary_logloss: 0.152804\tvalid_0's gini: 0.267635\n",
      "[400]\tvalid_0's binary_logloss: 0.152483\tvalid_0's gini: 0.271009\n",
      "[500]\tvalid_0's binary_logloss: 0.152299\tvalid_0's gini: 0.27324\n",
      "[600]\tvalid_0's binary_logloss: 0.152157\tvalid_0's gini: 0.275756\n",
      "[700]\tvalid_0's binary_logloss: 0.15206\tvalid_0's gini: 0.277655\n",
      "[800]\tvalid_0's binary_logloss: 0.151986\tvalid_0's gini: 0.279371\n",
      "[900]\tvalid_0's binary_logloss: 0.151942\tvalid_0's gini: 0.280359\n",
      "[1000]\tvalid_0's binary_logloss: 0.151898\tvalid_0's gini: 0.281475\n",
      "[1100]\tvalid_0's binary_logloss: 0.15186\tvalid_0's gini: 0.282482\n",
      "[1200]\tvalid_0's binary_logloss: 0.151835\tvalid_0's gini: 0.283198\n",
      "[1300]\tvalid_0's binary_logloss: 0.15181\tvalid_0's gini: 0.283848\n",
      "[1400]\tvalid_0's binary_logloss: 0.151796\tvalid_0's gini: 0.284221\n",
      "[1500]\tvalid_0's binary_logloss: 0.151781\tvalid_0's gini: 0.284645\n",
      "[1600]\tvalid_0's binary_logloss: 0.15177\tvalid_0's gini: 0.284943\n",
      "[1700]\tvalid_0's binary_logloss: 0.151761\tvalid_0's gini: 0.285129\n",
      "[1800]\tvalid_0's binary_logloss: 0.151755\tvalid_0's gini: 0.28522\n",
      "[1900]\tvalid_0's binary_logloss: 0.151752\tvalid_0's gini: 0.285325\n",
      "[2000]\tvalid_0's binary_logloss: 0.151749\tvalid_0's gini: 0.285504\n",
      "[2100]\tvalid_0's binary_logloss: 0.151748\tvalid_0's gini: 0.285633\n",
      "[2200]\tvalid_0's binary_logloss: 0.151744\tvalid_0's gini: 0.285711\n",
      "[2300]\tvalid_0's binary_logloss: 0.15174\tvalid_0's gini: 0.285853\n",
      "[2400]\tvalid_0's binary_logloss: 0.15174\tvalid_0's gini: 0.28594\n",
      "[2500]\tvalid_0's binary_logloss: 0.151745\tvalid_0's gini: 0.285916\n",
      "Did not meet early stopping. Best iteration is:\n",
      "[2334]\tvalid_0's binary_logloss: 0.151736\tvalid_0's gini: 0.285929\n",
      "폴드 2 지니계수 : 0.2859292916021393\n",
      "\n",
      "######################################## 폴드 3 / 폴드 5 ########################################\n",
      "[LightGBM] [Info] Number of positive: 17356, number of negative: 458814\n",
      "[LightGBM] [Info] Total Bins 1558\n",
      "[LightGBM] [Info] Number of data points in the train set: 476170, number of used features: 217\n",
      "[LightGBM] [Info] [binary:BoostFromScore]: pavg=0.036449 -> initscore=-3.274707\n",
      "[LightGBM] [Info] Start training from score -3.274707\n",
      "Training until validation scores don't improve for 300 rounds\n",
      "[100]\tvalid_0's binary_logloss: 0.15424\tvalid_0's gini: 0.263985\n",
      "[200]\tvalid_0's binary_logloss: 0.153171\tvalid_0's gini: 0.268713\n",
      "[300]\tvalid_0's binary_logloss: 0.152574\tvalid_0's gini: 0.272773\n",
      "[400]\tvalid_0's binary_logloss: 0.152223\tvalid_0's gini: 0.275785\n",
      "[500]\tvalid_0's binary_logloss: 0.152001\tvalid_0's gini: 0.278098\n",
      "[600]\tvalid_0's binary_logloss: 0.151847\tvalid_0's gini: 0.280206\n",
      "[700]\tvalid_0's binary_logloss: 0.151748\tvalid_0's gini: 0.281603\n",
      "[800]\tvalid_0's binary_logloss: 0.151682\tvalid_0's gini: 0.282672\n",
      "[900]\tvalid_0's binary_logloss: 0.151637\tvalid_0's gini: 0.283423\n",
      "[1000]\tvalid_0's binary_logloss: 0.151608\tvalid_0's gini: 0.283963\n",
      "[1100]\tvalid_0's binary_logloss: 0.151589\tvalid_0's gini: 0.284105\n",
      "[1200]\tvalid_0's binary_logloss: 0.151574\tvalid_0's gini: 0.284387\n",
      "[1300]\tvalid_0's binary_logloss: 0.151575\tvalid_0's gini: 0.284318\n",
      "[1400]\tvalid_0's binary_logloss: 0.151572\tvalid_0's gini: 0.284372\n",
      "[1500]\tvalid_0's binary_logloss: 0.151569\tvalid_0's gini: 0.284466\n",
      "[1600]\tvalid_0's binary_logloss: 0.151574\tvalid_0's gini: 0.284435\n",
      "[1700]\tvalid_0's binary_logloss: 0.151579\tvalid_0's gini: 0.284362\n",
      "Early stopping, best iteration is:\n",
      "[1478]\tvalid_0's binary_logloss: 0.151568\tvalid_0's gini: 0.284492\n",
      "폴드 3 지니계수 : 0.2844916047790675\n",
      "\n",
      "######################################## 폴드 4 / 폴드 5 ########################################\n",
      "[LightGBM] [Info] Number of positive: 17355, number of negative: 458815\n",
      "[LightGBM] [Info] Total Bins 1555\n",
      "[LightGBM] [Info] Number of data points in the train set: 476170, number of used features: 216\n",
      "[LightGBM] [Info] [binary:BoostFromScore]: pavg=0.036447 -> initscore=-3.274766\n",
      "[LightGBM] [Info] Start training from score -3.274766\n",
      "Training until validation scores don't improve for 300 rounds\n",
      "[100]\tvalid_0's binary_logloss: 0.154327\tvalid_0's gini: 0.256916\n",
      "[200]\tvalid_0's binary_logloss: 0.15331\tvalid_0's gini: 0.261871\n",
      "[300]\tvalid_0's binary_logloss: 0.152761\tvalid_0's gini: 0.265441\n",
      "[400]\tvalid_0's binary_logloss: 0.152441\tvalid_0's gini: 0.268613\n",
      "[500]\tvalid_0's binary_logloss: 0.152245\tvalid_0's gini: 0.271168\n",
      "[600]\tvalid_0's binary_logloss: 0.152098\tvalid_0's gini: 0.273746\n",
      "[700]\tvalid_0's binary_logloss: 0.152012\tvalid_0's gini: 0.275192\n",
      "[800]\tvalid_0's binary_logloss: 0.151952\tvalid_0's gini: 0.276278\n",
      "[900]\tvalid_0's binary_logloss: 0.151911\tvalid_0's gini: 0.277039\n",
      "[1000]\tvalid_0's binary_logloss: 0.151871\tvalid_0's gini: 0.277996\n",
      "[1100]\tvalid_0's binary_logloss: 0.151844\tvalid_0's gini: 0.278535\n",
      "[1200]\tvalid_0's binary_logloss: 0.151827\tvalid_0's gini: 0.279055\n",
      "[1300]\tvalid_0's binary_logloss: 0.151817\tvalid_0's gini: 0.27936\n",
      "[1400]\tvalid_0's binary_logloss: 0.151799\tvalid_0's gini: 0.279872\n",
      "[1500]\tvalid_0's binary_logloss: 0.151797\tvalid_0's gini: 0.280053\n",
      "[1600]\tvalid_0's binary_logloss: 0.151792\tvalid_0's gini: 0.280148\n",
      "[1700]\tvalid_0's binary_logloss: 0.151794\tvalid_0's gini: 0.280162\n",
      "[1800]\tvalid_0's binary_logloss: 0.151793\tvalid_0's gini: 0.280319\n",
      "[1900]\tvalid_0's binary_logloss: 0.151795\tvalid_0's gini: 0.280422\n",
      "[2000]\tvalid_0's binary_logloss: 0.151797\tvalid_0's gini: 0.280419\n",
      "[2100]\tvalid_0's binary_logloss: 0.151799\tvalid_0's gini: 0.280516\n",
      "Early stopping, best iteration is:\n",
      "[1852]\tvalid_0's binary_logloss: 0.15179\tvalid_0's gini: 0.280514\n",
      "폴드 4 지니계수 : 0.2805136229288192\n",
      "\n",
      "######################################## 폴드 5 / 폴드 5 ########################################\n",
      "[LightGBM] [Info] Number of positive: 17355, number of negative: 458815\n",
      "[LightGBM] [Info] Total Bins 1558\n",
      "[LightGBM] [Info] Number of data points in the train set: 476170, number of used features: 217\n",
      "[LightGBM] [Info] [binary:BoostFromScore]: pavg=0.036447 -> initscore=-3.274766\n",
      "[LightGBM] [Info] Start training from score -3.274766\n",
      "Training until validation scores don't improve for 300 rounds\n",
      "[100]\tvalid_0's binary_logloss: 0.15439\tvalid_0's gini: 0.26681\n",
      "[200]\tvalid_0's binary_logloss: 0.15338\tvalid_0's gini: 0.272186\n",
      "[300]\tvalid_0's binary_logloss: 0.152821\tvalid_0's gini: 0.275897\n",
      "[400]\tvalid_0's binary_logloss: 0.1525\tvalid_0's gini: 0.278734\n",
      "[500]\tvalid_0's binary_logloss: 0.152277\tvalid_0's gini: 0.282151\n",
      "[600]\tvalid_0's binary_logloss: 0.15212\tvalid_0's gini: 0.285039\n",
      "[700]\tvalid_0's binary_logloss: 0.152009\tvalid_0's gini: 0.287435\n",
      "[800]\tvalid_0's binary_logloss: 0.15192\tvalid_0's gini: 0.289549\n",
      "[900]\tvalid_0's binary_logloss: 0.151862\tvalid_0's gini: 0.290886\n",
      "[1000]\tvalid_0's binary_logloss: 0.151819\tvalid_0's gini: 0.291935\n",
      "[1100]\tvalid_0's binary_logloss: 0.151782\tvalid_0's gini: 0.292972\n",
      "[1200]\tvalid_0's binary_logloss: 0.151752\tvalid_0's gini: 0.293784\n",
      "[1300]\tvalid_0's binary_logloss: 0.151732\tvalid_0's gini: 0.294315\n",
      "[1400]\tvalid_0's binary_logloss: 0.151724\tvalid_0's gini: 0.294475\n",
      "[1500]\tvalid_0's binary_logloss: 0.151713\tvalid_0's gini: 0.294786\n",
      "[1600]\tvalid_0's binary_logloss: 0.1517\tvalid_0's gini: 0.295146\n",
      "[1700]\tvalid_0's binary_logloss: 0.151694\tvalid_0's gini: 0.295268\n",
      "[1800]\tvalid_0's binary_logloss: 0.151695\tvalid_0's gini: 0.295212\n",
      "[1900]\tvalid_0's binary_logloss: 0.151689\tvalid_0's gini: 0.295454\n",
      "[2000]\tvalid_0's binary_logloss: 0.151693\tvalid_0's gini: 0.2954\n",
      "[2100]\tvalid_0's binary_logloss: 0.151694\tvalid_0's gini: 0.295427\n",
      "[2200]\tvalid_0's binary_logloss: 0.151692\tvalid_0's gini: 0.295538\n",
      "[2300]\tvalid_0's binary_logloss: 0.151699\tvalid_0's gini: 0.295411\n",
      "Early stopping, best iteration is:\n",
      "[2045]\tvalid_0's binary_logloss: 0.151689\tvalid_0's gini: 0.295553\n",
      "폴드 5 지니계수 : 0.29555250456072807\n",
      "\n"
     ]
    }
   ],
   "source": [
    "import lightgbm as lgb\n",
    "\n",
    "# OOF 방식으로 훈련된 모델로 검증 데이터 타깃값을 예측한 확률을 담을 1차원 배열\n",
    "oof_val_preds_lgb = np.zeros(X.shape[0]) \n",
    "# OOF 방식으로 훈련된 모델로 테스트 데이터 타깃값을 예측한 확률을 담을 1차원 배열\n",
    "oof_test_preds_lgb = np.zeros(X_test.shape[0]) \n",
    "\n",
    "# OOF 방식으로 모델 훈련, 검증, 예측\n",
    "for idx, (train_idx, valid_idx) in enumerate(folds.split(X, y)):\n",
    "    # 각 폴드를 구분하는 문구 출력\n",
    "    print('#'*40, f'폴드 {idx+1} / 폴드 {folds.n_splits}', '#'*40)\n",
    "    \n",
    "    # 훈련용 데이터, 검증용 데이터 설정\n",
    "    X_train, y_train = X[train_idx], y[train_idx] # 훈련용 데이터\n",
    "    X_valid, y_valid = X[valid_idx], y[valid_idx] # 검증용 데이터\n",
    "\n",
    "    # LightGBM 전용 데이터셋 생성\n",
    "    dtrain = lgb.Dataset(X_train, y_train) # LightGBM 전용 훈련 데이터셋\n",
    "    dvalid = lgb.Dataset(X_valid, y_valid) # LightGBM 전용 검증 데이터셋\n",
    "                          \n",
    "    # LightGBM 모델 훈련\n",
    "    lgb_model = lgb.train(params=max_params_lgb,     # 최적 하이퍼파라미터\n",
    "                          train_set=dtrain,          # 훈련 데이터셋\n",
    "                          num_boost_round=2500,      # 부스팅 반복 횟수\n",
    "                          valid_sets=dvalid,         # 성능 평가용 검증 데이터셋\n",
    "                          feval=gini_lgb,            # 검증용 평가지표\n",
    "                          early_stopping_rounds=300, # 조기종료 조건\n",
    "                          verbose_eval=100)          # 100번째마다 점수 출력\n",
    "    \n",
    "    # 테스트 데이터를 활용해 OOF 예측\n",
    "    oof_test_preds_lgb += lgb_model.predict(X_test)/folds.n_splits\n",
    "    \n",
    "    # 모델 성능 평가를 위한 검증 데이터 타깃값 예측 \n",
    "    oof_val_preds_lgb[valid_idx] += lgb_model.predict(X_valid)\n",
    "    \n",
    "    # 검증 데이터 예측확률에 대한 정규화 지니계수\n",
    "    gini_score = eval_gini(y_valid, oof_val_preds_lgb[valid_idx])\n",
    "    print(f'폴드 {idx+1} 지니계수 : {gini_score}\\n')"
   ]
  },
  {
   "cell_type": "code",
   "execution_count": 17,
   "id": "336ae805",
   "metadata": {
    "execution": {
     "iopub.execute_input": "2022-08-30T13:39:19.893881Z",
     "iopub.status.busy": "2022-08-30T13:39:19.893046Z",
     "iopub.status.idle": "2022-08-30T13:39:19.899432Z",
     "shell.execute_reply": "2022-08-30T13:39:19.898620Z"
    },
    "papermill": {
     "duration": 0.025233,
     "end_time": "2022-08-30T13:39:19.901616",
     "exception": false,
     "start_time": "2022-08-30T13:39:19.876383",
     "status": "completed"
    },
    "tags": []
   },
   "outputs": [],
   "source": [
    "max_params_xgb = {'colsample_bytree': 0.8843124587484356,\n",
    "                  'gamma': 10.452246227672624,\n",
    "                  'max_depth': 7,\n",
    "                  'min_child_weight': 6.494091293383359,\n",
    "                  'reg_alpha': 8.551838810159788,\n",
    "                  'reg_lambda': 1.3814765995549108,\n",
    "                  'scale_pos_weight': 1.423280772455086,\n",
    "                  'subsample': 0.7001630536555632,\n",
    "                  'objective': 'binary:logistic',\n",
    "                  'learning_rate': 0.02,\n",
    "                  'random_state': 1991}"
   ]
  },
  {
   "cell_type": "code",
   "execution_count": 18,
   "id": "73f49f33",
   "metadata": {
    "execution": {
     "iopub.execute_input": "2022-08-30T13:39:19.932762Z",
     "iopub.status.busy": "2022-08-30T13:39:19.931989Z",
     "iopub.status.idle": "2022-08-30T15:34:22.216113Z",
     "shell.execute_reply": "2022-08-30T15:34:22.214275Z"
    },
    "papermill": {
     "duration": 6902.321061,
     "end_time": "2022-08-30T15:34:22.237113",
     "exception": false,
     "start_time": "2022-08-30T13:39:19.916052",
     "status": "completed"
    },
    "tags": []
   },
   "outputs": [
    {
     "name": "stdout",
     "output_type": "stream",
     "text": [
      "######################################## 폴드 1 / 폴드 5 ########################################\n"
     ]
    },
    {
     "name": "stderr",
     "output_type": "stream",
     "text": [
      "/opt/conda/lib/python3.7/site-packages/xgboost/training.py:36: UserWarning: `feval` is deprecated, use `custom_metric` instead.  They have different behavior when custom objective is also used.See https://xgboost.readthedocs.io/en/latest/tutorials/custom_metric_obj.html for details on the `custom_metric`.\n",
      "  \"`feval` is deprecated, use `custom_metric` instead.  They have \"\n"
     ]
    },
    {
     "name": "stdout",
     "output_type": "stream",
     "text": [
      "[0]\tvalid-logloss:0.67665\tvalid-gini:0.15993\n",
      "[100]\tvalid-logloss:0.19089\tvalid-gini:0.24785\n",
      "[200]\tvalid-logloss:0.15778\tvalid-gini:0.27765\n",
      "[300]\tvalid-logloss:0.15459\tvalid-gini:0.28681\n",
      "[400]\tvalid-logloss:0.15407\tvalid-gini:0.29158\n",
      "[500]\tvalid-logloss:0.15393\tvalid-gini:0.29395\n",
      "[600]\tvalid-logloss:0.15387\tvalid-gini:0.29558\n",
      "[700]\tvalid-logloss:0.15381\tvalid-gini:0.29727\n",
      "[800]\tvalid-logloss:0.15379\tvalid-gini:0.29820\n",
      "[900]\tvalid-logloss:0.15375\tvalid-gini:0.29844\n",
      "[1000]\tvalid-logloss:0.15376\tvalid-gini:0.29855\n",
      "[1100]\tvalid-logloss:0.15373\tvalid-gini:0.29910\n",
      "[1200]\tvalid-logloss:0.15372\tvalid-gini:0.29923\n",
      "[1300]\tvalid-logloss:0.15371\tvalid-gini:0.29931\n",
      "[1400]\tvalid-logloss:0.15371\tvalid-gini:0.29966\n",
      "[1500]\tvalid-logloss:0.15370\tvalid-gini:0.29966\n",
      "[1600]\tvalid-logloss:0.15372\tvalid-gini:0.29940\n",
      "[1689]\tvalid-logloss:0.15371\tvalid-gini:0.29937\n",
      "폴드 1 지니계수 : 0.29972416190667034\n",
      "\n",
      "######################################## 폴드 2 / 폴드 5 ########################################\n",
      "[0]\tvalid-logloss:0.67665\tvalid-gini:0.12437\n",
      "[100]\tvalid-logloss:0.19102\tvalid-gini:0.23563\n",
      "[200]\tvalid-logloss:0.15805\tvalid-gini:0.26423\n",
      "[300]\tvalid-logloss:0.15493\tvalid-gini:0.27319\n",
      "[400]\tvalid-logloss:0.15444\tvalid-gini:0.27823\n",
      "[500]\tvalid-logloss:0.15431\tvalid-gini:0.28049\n",
      "[600]\tvalid-logloss:0.15426\tvalid-gini:0.28189\n",
      "[700]\tvalid-logloss:0.15424\tvalid-gini:0.28280\n",
      "[800]\tvalid-logloss:0.15421\tvalid-gini:0.28366\n",
      "[900]\tvalid-logloss:0.15419\tvalid-gini:0.28425\n",
      "[1000]\tvalid-logloss:0.15417\tvalid-gini:0.28463\n",
      "[1100]\tvalid-logloss:0.15418\tvalid-gini:0.28498\n",
      "[1200]\tvalid-logloss:0.15416\tvalid-gini:0.28522\n",
      "[1300]\tvalid-logloss:0.15416\tvalid-gini:0.28522\n",
      "[1400]\tvalid-logloss:0.15414\tvalid-gini:0.28532\n",
      "[1500]\tvalid-logloss:0.15416\tvalid-gini:0.28531\n",
      "[1600]\tvalid-logloss:0.15415\tvalid-gini:0.28530\n",
      "[1700]\tvalid-logloss:0.15413\tvalid-gini:0.28540\n",
      "[1800]\tvalid-logloss:0.15416\tvalid-gini:0.28524\n",
      "[1812]\tvalid-logloss:0.15416\tvalid-gini:0.28526\n",
      "폴드 2 지니계수 : 0.28545554097079595\n",
      "\n",
      "######################################## 폴드 3 / 폴드 5 ########################################\n",
      "[0]\tvalid-logloss:0.67665\tvalid-gini:0.15482\n",
      "[100]\tvalid-logloss:0.19092\tvalid-gini:0.24439\n",
      "[200]\tvalid-logloss:0.15780\tvalid-gini:0.27046\n",
      "[300]\tvalid-logloss:0.15461\tvalid-gini:0.27906\n",
      "[400]\tvalid-logloss:0.15413\tvalid-gini:0.28229\n",
      "[500]\tvalid-logloss:0.15403\tvalid-gini:0.28351\n",
      "[600]\tvalid-logloss:0.15400\tvalid-gini:0.28416\n",
      "[700]\tvalid-logloss:0.15398\tvalid-gini:0.28452\n",
      "[800]\tvalid-logloss:0.15397\tvalid-gini:0.28436\n",
      "[900]\tvalid-logloss:0.15396\tvalid-gini:0.28470\n",
      "[1000]\tvalid-logloss:0.15397\tvalid-gini:0.28472\n",
      "[1100]\tvalid-logloss:0.15396\tvalid-gini:0.28496\n",
      "[1200]\tvalid-logloss:0.15395\tvalid-gini:0.28516\n",
      "[1300]\tvalid-logloss:0.15396\tvalid-gini:0.28488\n",
      "[1400]\tvalid-logloss:0.15396\tvalid-gini:0.28480\n",
      "[1465]\tvalid-logloss:0.15396\tvalid-gini:0.28480\n",
      "폴드 3 지니계수 : 0.28518065156308925\n",
      "\n",
      "######################################## 폴드 4 / 폴드 5 ########################################\n",
      "[0]\tvalid-logloss:0.67664\tvalid-gini:0.15196\n",
      "[100]\tvalid-logloss:0.19084\tvalid-gini:0.23686\n",
      "[200]\tvalid-logloss:0.15791\tvalid-gini:0.26369\n",
      "[300]\tvalid-logloss:0.15479\tvalid-gini:0.27230\n",
      "[400]\tvalid-logloss:0.15433\tvalid-gini:0.27591\n",
      "[500]\tvalid-logloss:0.15424\tvalid-gini:0.27705\n",
      "[600]\tvalid-logloss:0.15419\tvalid-gini:0.27857\n",
      "[700]\tvalid-logloss:0.15417\tvalid-gini:0.27874\n",
      "[800]\tvalid-logloss:0.15416\tvalid-gini:0.27910\n",
      "[900]\tvalid-logloss:0.15414\tvalid-gini:0.27947\n",
      "[1000]\tvalid-logloss:0.15412\tvalid-gini:0.27984\n",
      "[1100]\tvalid-logloss:0.15413\tvalid-gini:0.27999\n",
      "[1200]\tvalid-logloss:0.15412\tvalid-gini:0.28019\n",
      "[1300]\tvalid-logloss:0.15414\tvalid-gini:0.28015\n",
      "[1400]\tvalid-logloss:0.15413\tvalid-gini:0.28023\n",
      "[1500]\tvalid-logloss:0.15411\tvalid-gini:0.28076\n",
      "[1600]\tvalid-logloss:0.15411\tvalid-gini:0.28076\n",
      "[1700]\tvalid-logloss:0.15413\tvalid-gini:0.28032\n",
      "[1730]\tvalid-logloss:0.15413\tvalid-gini:0.28031\n",
      "폴드 4 지니계수 : 0.28082761359875613\n",
      "\n",
      "######################################## 폴드 5 / 폴드 5 ########################################\n",
      "[0]\tvalid-logloss:0.67666\tvalid-gini:0.14110\n",
      "[100]\tvalid-logloss:0.19095\tvalid-gini:0.24602\n",
      "[200]\tvalid-logloss:0.15804\tvalid-gini:0.27182\n",
      "[300]\tvalid-logloss:0.15487\tvalid-gini:0.28262\n",
      "[400]\tvalid-logloss:0.15437\tvalid-gini:0.28757\n",
      "[500]\tvalid-logloss:0.15424\tvalid-gini:0.28961\n",
      "[600]\tvalid-logloss:0.15419\tvalid-gini:0.29110\n",
      "[700]\tvalid-logloss:0.15412\tvalid-gini:0.29253\n",
      "[800]\tvalid-logloss:0.15411\tvalid-gini:0.29337\n",
      "[900]\tvalid-logloss:0.15406\tvalid-gini:0.29409\n",
      "[1000]\tvalid-logloss:0.15405\tvalid-gini:0.29452\n",
      "[1100]\tvalid-logloss:0.15406\tvalid-gini:0.29478\n",
      "[1200]\tvalid-logloss:0.15404\tvalid-gini:0.29509\n",
      "[1300]\tvalid-logloss:0.15402\tvalid-gini:0.29528\n",
      "[1400]\tvalid-logloss:0.15402\tvalid-gini:0.29541\n",
      "[1500]\tvalid-logloss:0.15402\tvalid-gini:0.29533\n",
      "[1576]\tvalid-logloss:0.15400\tvalid-gini:0.29539\n",
      "폴드 5 지니계수 : 0.2954947142998449\n",
      "\n"
     ]
    }
   ],
   "source": [
    "import xgboost as xgb\n",
    "\n",
    "# OOF 방식으로 훈련된 모델로 검증 데이터 타깃값을 예측한 확률을 담을 1차원 배열\n",
    "oof_val_preds_xgb = np.zeros(X.shape[0]) \n",
    "# OOF 방식으로 훈련된 모델로 테스트 데이터 타깃값을 예측한 확률을 담을 1차원 배열\n",
    "oof_test_preds_xgb = np.zeros(X_test.shape[0]) \n",
    "\n",
    "# OOF 방식으로 모델 훈련, 검증, 예측\n",
    "for idx, (train_idx, valid_idx) in enumerate(folds.split(X, y)):\n",
    "    # 각 폴드를 구분하는 문구 출력\n",
    "    print('#'*40, f'폴드 {idx+1} / 폴드 {folds.n_splits}', '#'*40)\n",
    "    \n",
    "    # 훈련용 데이터, 검증용 데이터 설정\n",
    "    X_train, y_train = X[train_idx], y[train_idx]\n",
    "    X_valid, y_valid = X[valid_idx], y[valid_idx]\n",
    "\n",
    "    # XGBoost 전용 데이터셋 생성 \n",
    "    dtrain = xgb.DMatrix(X_train, y_train)\n",
    "    dvalid = xgb.DMatrix(X_valid, y_valid)\n",
    "    dtest = xgb.DMatrix(X_test)\n",
    "\n",
    "    # XGBoost 모델 훈련\n",
    "    xgb_model = xgb.train(params=max_params_xgb, \n",
    "                          dtrain=dtrain,\n",
    "                          num_boost_round=2000,\n",
    "                          evals=[(dvalid, 'valid')],\n",
    "                          maximize=True,\n",
    "                          feval=gini_xgb,\n",
    "                          early_stopping_rounds=200,\n",
    "                          verbose_eval=100)\n",
    "\n",
    "    # 모델 성능이 가장 좋을 때의 부스팅 반복 횟수 저장\n",
    "    best_iter = xgb_model.best_iteration\n",
    "\n",
    "    # 테스트 데이터를 활용해 OOF 예측\n",
    "    oof_test_preds_xgb += xgb_model.predict(dtest,\n",
    "                                            iteration_range=(0, best_iter))/folds.n_splits\n",
    "    \n",
    "    # 모델 성능 평가를 위한 검증 데이터 타깃값 예측 \n",
    "    oof_val_preds_xgb[valid_idx] += xgb_model.predict(dvalid, \n",
    "                                                      iteration_range=(0, best_iter))\n",
    "    \n",
    "    # 검증 데이터 예측확률에 대한 정규화 지니계수\n",
    "    gini_score = eval_gini(y_valid, oof_val_preds_xgb[valid_idx])\n",
    "    print(f'폴드 {idx+1} 지니계수 : {gini_score}\\n')"
   ]
  },
  {
   "cell_type": "code",
   "execution_count": 19,
   "id": "02c3583f",
   "metadata": {
    "execution": {
     "iopub.execute_input": "2022-08-30T15:34:22.279790Z",
     "iopub.status.busy": "2022-08-30T15:34:22.278593Z",
     "iopub.status.idle": "2022-08-30T15:34:22.386937Z",
     "shell.execute_reply": "2022-08-30T15:34:22.385546Z"
    },
    "papermill": {
     "duration": 0.132396,
     "end_time": "2022-08-30T15:34:22.389338",
     "exception": false,
     "start_time": "2022-08-30T15:34:22.256942",
     "status": "completed"
    },
    "tags": []
   },
   "outputs": [
    {
     "name": "stdout",
     "output_type": "stream",
     "text": [
      "LightGBM OOF 검증 데이터 지니계수 : 0.2889651000887542\n"
     ]
    }
   ],
   "source": [
    "print('LightGBM OOF 검증 데이터 지니계수 :', eval_gini(y, oof_val_preds_lgb))"
   ]
  },
  {
   "cell_type": "code",
   "execution_count": 20,
   "id": "6d9f8506",
   "metadata": {
    "execution": {
     "iopub.execute_input": "2022-08-30T15:34:22.431688Z",
     "iopub.status.busy": "2022-08-30T15:34:22.431273Z",
     "iopub.status.idle": "2022-08-30T15:34:22.541750Z",
     "shell.execute_reply": "2022-08-30T15:34:22.540814Z"
    },
    "papermill": {
     "duration": 0.134657,
     "end_time": "2022-08-30T15:34:22.544469",
     "exception": false,
     "start_time": "2022-08-30T15:34:22.409812",
     "status": "completed"
    },
    "tags": []
   },
   "outputs": [
    {
     "name": "stdout",
     "output_type": "stream",
     "text": [
      "XGBoost OOF 검증 데이터 지니계수 : 0.2892025647943564\n"
     ]
    }
   ],
   "source": [
    "print('XGBoost OOF 검증 데이터 지니계수 :', eval_gini(y, oof_val_preds_xgb))"
   ]
  },
  {
   "cell_type": "markdown",
   "id": "a038a5b2",
   "metadata": {
    "papermill": {
     "duration": 0.020508,
     "end_time": "2022-08-30T15:34:22.586584",
     "exception": false,
     "start_time": "2022-08-30T15:34:22.566076",
     "status": "completed"
    },
    "tags": []
   },
   "source": [
    "### 8.6.1 앙상블 수행"
   ]
  },
  {
   "cell_type": "code",
   "execution_count": 21,
   "id": "6b517d80",
   "metadata": {
    "execution": {
     "iopub.execute_input": "2022-08-30T15:34:22.629794Z",
     "iopub.status.busy": "2022-08-30T15:34:22.629082Z",
     "iopub.status.idle": "2022-08-30T15:34:22.641382Z",
     "shell.execute_reply": "2022-08-30T15:34:22.640089Z"
    },
    "papermill": {
     "duration": 0.036808,
     "end_time": "2022-08-30T15:34:22.643938",
     "exception": false,
     "start_time": "2022-08-30T15:34:22.607130",
     "status": "completed"
    },
    "tags": []
   },
   "outputs": [],
   "source": [
    "oof_test_preds = oof_test_preds_lgb * 0.5 + oof_test_preds_xgb * 0.5"
   ]
  },
  {
   "cell_type": "code",
   "execution_count": 22,
   "id": "faef93ed",
   "metadata": {
    "execution": {
     "iopub.execute_input": "2022-08-30T15:34:22.686608Z",
     "iopub.status.busy": "2022-08-30T15:34:22.686160Z",
     "iopub.status.idle": "2022-08-30T15:34:24.946101Z",
     "shell.execute_reply": "2022-08-30T15:34:24.944892Z"
    },
    "papermill": {
     "duration": 2.284001,
     "end_time": "2022-08-30T15:34:24.948805",
     "exception": false,
     "start_time": "2022-08-30T15:34:22.664804",
     "status": "completed"
    },
    "tags": []
   },
   "outputs": [],
   "source": [
    "submission['target'] = oof_test_preds\n",
    "submission.to_csv('submission.csv')"
   ]
  }
 ],
 "metadata": {
  "kernelspec": {
   "display_name": "Python 3",
   "language": "python",
   "name": "python3"
  },
  "language_info": {
   "codemirror_mode": {
    "name": "ipython",
    "version": 3
   },
   "file_extension": ".py",
   "mimetype": "text/x-python",
   "name": "python",
   "nbconvert_exporter": "python",
   "pygments_lexer": "ipython3",
   "version": "3.7.12"
  },
  "papermill": {
   "default_parameters": {},
   "duration": 8363.191444,
   "end_time": "2022-08-30T15:34:26.510167",
   "environment_variables": {},
   "exception": null,
   "input_path": "__notebook__.ipynb",
   "output_path": "__notebook__.ipynb",
   "parameters": {},
   "start_time": "2022-08-30T13:15:03.318723",
   "version": "2.3.4"
  }
 },
 "nbformat": 4,
 "nbformat_minor": 5
}
