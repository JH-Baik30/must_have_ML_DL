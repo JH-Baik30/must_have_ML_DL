{
 "cells": [
  {
   "cell_type": "code",
   "execution_count": 1,
   "id": "b250e042",
   "metadata": {
    "_cell_guid": "b1076dfc-b9ad-4769-8c92-a6c4dae69d19",
    "_uuid": "8f2839f25d086af736a60e9eeb907d3b93b6e0e5",
    "execution": {
     "iopub.execute_input": "2022-08-26T10:25:54.329311Z",
     "iopub.status.busy": "2022-08-26T10:25:54.328479Z",
     "iopub.status.idle": "2022-08-26T10:25:54.402496Z",
     "shell.execute_reply": "2022-08-26T10:25:54.401464Z"
    },
    "papermill": {
     "duration": 0.084471,
     "end_time": "2022-08-26T10:25:54.404911",
     "exception": false,
     "start_time": "2022-08-26T10:25:54.320440",
     "status": "completed"
    },
    "tags": []
   },
   "outputs": [],
   "source": [
    "import numpy as np\n",
    "import pandas as pd\n",
    "\n",
    "data_path = '/kaggle/input/bike-sharing-demand/'\n",
    "\n",
    "train = pd.read_csv(data_path + 'train.csv')\n",
    "test = pd.read_csv(data_path + 'test.csv')\n",
    "submission = pd.read_csv(data_path + 'sampleSubmission.csv')"
   ]
  },
  {
   "cell_type": "markdown",
   "id": "0ed111ea",
   "metadata": {
    "papermill": {
     "duration": 0.004412,
     "end_time": "2022-08-26T10:25:54.414462",
     "exception": false,
     "start_time": "2022-08-26T10:25:54.410050",
     "status": "completed"
    },
    "tags": []
   },
   "source": [
    "### 피처 엔지니어링\n",
    "이상치 제거"
   ]
  },
  {
   "cell_type": "code",
   "execution_count": 2,
   "id": "ba687a45",
   "metadata": {
    "execution": {
     "iopub.execute_input": "2022-08-26T10:25:54.425919Z",
     "iopub.status.busy": "2022-08-26T10:25:54.425342Z",
     "iopub.status.idle": "2022-08-26T10:25:54.438921Z",
     "shell.execute_reply": "2022-08-26T10:25:54.438243Z"
    },
    "papermill": {
     "duration": 0.021862,
     "end_time": "2022-08-26T10:25:54.441056",
     "exception": false,
     "start_time": "2022-08-26T10:25:54.419194",
     "status": "completed"
    },
    "tags": []
   },
   "outputs": [],
   "source": [
    "# 훈련 데이터에서 weather가 4가 아닌 데이터만 추출\n",
    "train = train[train['weather'] != 4]"
   ]
  },
  {
   "cell_type": "markdown",
   "id": "8d7e3430",
   "metadata": {
    "papermill": {
     "duration": 0.004186,
     "end_time": "2022-08-26T10:25:54.450070",
     "exception": false,
     "start_time": "2022-08-26T10:25:54.445884",
     "status": "completed"
    },
    "tags": []
   },
   "source": [
    "데이터 합치기"
   ]
  },
  {
   "cell_type": "code",
   "execution_count": 3,
   "id": "d312f4a5",
   "metadata": {
    "execution": {
     "iopub.execute_input": "2022-08-26T10:25:54.462015Z",
     "iopub.status.busy": "2022-08-26T10:25:54.461403Z",
     "iopub.status.idle": "2022-08-26T10:25:54.490885Z",
     "shell.execute_reply": "2022-08-26T10:25:54.489955Z"
    },
    "papermill": {
     "duration": 0.037732,
     "end_time": "2022-08-26T10:25:54.492784",
     "exception": false,
     "start_time": "2022-08-26T10:25:54.455052",
     "status": "completed"
    },
    "tags": []
   },
   "outputs": [
    {
     "data": {
      "text/html": [
       "<div>\n",
       "<style scoped>\n",
       "    .dataframe tbody tr th:only-of-type {\n",
       "        vertical-align: middle;\n",
       "    }\n",
       "\n",
       "    .dataframe tbody tr th {\n",
       "        vertical-align: top;\n",
       "    }\n",
       "\n",
       "    .dataframe thead th {\n",
       "        text-align: right;\n",
       "    }\n",
       "</style>\n",
       "<table border=\"1\" class=\"dataframe\">\n",
       "  <thead>\n",
       "    <tr style=\"text-align: right;\">\n",
       "      <th></th>\n",
       "      <th>datetime</th>\n",
       "      <th>season</th>\n",
       "      <th>holiday</th>\n",
       "      <th>workingday</th>\n",
       "      <th>weather</th>\n",
       "      <th>temp</th>\n",
       "      <th>atemp</th>\n",
       "      <th>humidity</th>\n",
       "      <th>windspeed</th>\n",
       "      <th>casual</th>\n",
       "      <th>registered</th>\n",
       "      <th>count</th>\n",
       "    </tr>\n",
       "  </thead>\n",
       "  <tbody>\n",
       "    <tr>\n",
       "      <th>0</th>\n",
       "      <td>2011-01-01 00:00:00</td>\n",
       "      <td>1</td>\n",
       "      <td>0</td>\n",
       "      <td>0</td>\n",
       "      <td>1</td>\n",
       "      <td>9.84</td>\n",
       "      <td>14.395</td>\n",
       "      <td>81</td>\n",
       "      <td>0.0000</td>\n",
       "      <td>3.0</td>\n",
       "      <td>13.0</td>\n",
       "      <td>16.0</td>\n",
       "    </tr>\n",
       "    <tr>\n",
       "      <th>1</th>\n",
       "      <td>2011-01-01 01:00:00</td>\n",
       "      <td>1</td>\n",
       "      <td>0</td>\n",
       "      <td>0</td>\n",
       "      <td>1</td>\n",
       "      <td>9.02</td>\n",
       "      <td>13.635</td>\n",
       "      <td>80</td>\n",
       "      <td>0.0000</td>\n",
       "      <td>8.0</td>\n",
       "      <td>32.0</td>\n",
       "      <td>40.0</td>\n",
       "    </tr>\n",
       "    <tr>\n",
       "      <th>2</th>\n",
       "      <td>2011-01-01 02:00:00</td>\n",
       "      <td>1</td>\n",
       "      <td>0</td>\n",
       "      <td>0</td>\n",
       "      <td>1</td>\n",
       "      <td>9.02</td>\n",
       "      <td>13.635</td>\n",
       "      <td>80</td>\n",
       "      <td>0.0000</td>\n",
       "      <td>5.0</td>\n",
       "      <td>27.0</td>\n",
       "      <td>32.0</td>\n",
       "    </tr>\n",
       "    <tr>\n",
       "      <th>3</th>\n",
       "      <td>2011-01-01 03:00:00</td>\n",
       "      <td>1</td>\n",
       "      <td>0</td>\n",
       "      <td>0</td>\n",
       "      <td>1</td>\n",
       "      <td>9.84</td>\n",
       "      <td>14.395</td>\n",
       "      <td>75</td>\n",
       "      <td>0.0000</td>\n",
       "      <td>3.0</td>\n",
       "      <td>10.0</td>\n",
       "      <td>13.0</td>\n",
       "    </tr>\n",
       "    <tr>\n",
       "      <th>4</th>\n",
       "      <td>2011-01-01 04:00:00</td>\n",
       "      <td>1</td>\n",
       "      <td>0</td>\n",
       "      <td>0</td>\n",
       "      <td>1</td>\n",
       "      <td>9.84</td>\n",
       "      <td>14.395</td>\n",
       "      <td>75</td>\n",
       "      <td>0.0000</td>\n",
       "      <td>0.0</td>\n",
       "      <td>1.0</td>\n",
       "      <td>1.0</td>\n",
       "    </tr>\n",
       "    <tr>\n",
       "      <th>...</th>\n",
       "      <td>...</td>\n",
       "      <td>...</td>\n",
       "      <td>...</td>\n",
       "      <td>...</td>\n",
       "      <td>...</td>\n",
       "      <td>...</td>\n",
       "      <td>...</td>\n",
       "      <td>...</td>\n",
       "      <td>...</td>\n",
       "      <td>...</td>\n",
       "      <td>...</td>\n",
       "      <td>...</td>\n",
       "    </tr>\n",
       "    <tr>\n",
       "      <th>17373</th>\n",
       "      <td>2012-12-31 19:00:00</td>\n",
       "      <td>1</td>\n",
       "      <td>0</td>\n",
       "      <td>1</td>\n",
       "      <td>2</td>\n",
       "      <td>10.66</td>\n",
       "      <td>12.880</td>\n",
       "      <td>60</td>\n",
       "      <td>11.0014</td>\n",
       "      <td>NaN</td>\n",
       "      <td>NaN</td>\n",
       "      <td>NaN</td>\n",
       "    </tr>\n",
       "    <tr>\n",
       "      <th>17374</th>\n",
       "      <td>2012-12-31 20:00:00</td>\n",
       "      <td>1</td>\n",
       "      <td>0</td>\n",
       "      <td>1</td>\n",
       "      <td>2</td>\n",
       "      <td>10.66</td>\n",
       "      <td>12.880</td>\n",
       "      <td>60</td>\n",
       "      <td>11.0014</td>\n",
       "      <td>NaN</td>\n",
       "      <td>NaN</td>\n",
       "      <td>NaN</td>\n",
       "    </tr>\n",
       "    <tr>\n",
       "      <th>17375</th>\n",
       "      <td>2012-12-31 21:00:00</td>\n",
       "      <td>1</td>\n",
       "      <td>0</td>\n",
       "      <td>1</td>\n",
       "      <td>1</td>\n",
       "      <td>10.66</td>\n",
       "      <td>12.880</td>\n",
       "      <td>60</td>\n",
       "      <td>11.0014</td>\n",
       "      <td>NaN</td>\n",
       "      <td>NaN</td>\n",
       "      <td>NaN</td>\n",
       "    </tr>\n",
       "    <tr>\n",
       "      <th>17376</th>\n",
       "      <td>2012-12-31 22:00:00</td>\n",
       "      <td>1</td>\n",
       "      <td>0</td>\n",
       "      <td>1</td>\n",
       "      <td>1</td>\n",
       "      <td>10.66</td>\n",
       "      <td>13.635</td>\n",
       "      <td>56</td>\n",
       "      <td>8.9981</td>\n",
       "      <td>NaN</td>\n",
       "      <td>NaN</td>\n",
       "      <td>NaN</td>\n",
       "    </tr>\n",
       "    <tr>\n",
       "      <th>17377</th>\n",
       "      <td>2012-12-31 23:00:00</td>\n",
       "      <td>1</td>\n",
       "      <td>0</td>\n",
       "      <td>1</td>\n",
       "      <td>1</td>\n",
       "      <td>10.66</td>\n",
       "      <td>13.635</td>\n",
       "      <td>65</td>\n",
       "      <td>8.9981</td>\n",
       "      <td>NaN</td>\n",
       "      <td>NaN</td>\n",
       "      <td>NaN</td>\n",
       "    </tr>\n",
       "  </tbody>\n",
       "</table>\n",
       "<p>17378 rows × 12 columns</p>\n",
       "</div>"
      ],
      "text/plain": [
       "                  datetime  season  holiday  workingday  weather   temp  \\\n",
       "0      2011-01-01 00:00:00       1        0           0        1   9.84   \n",
       "1      2011-01-01 01:00:00       1        0           0        1   9.02   \n",
       "2      2011-01-01 02:00:00       1        0           0        1   9.02   \n",
       "3      2011-01-01 03:00:00       1        0           0        1   9.84   \n",
       "4      2011-01-01 04:00:00       1        0           0        1   9.84   \n",
       "...                    ...     ...      ...         ...      ...    ...   \n",
       "17373  2012-12-31 19:00:00       1        0           1        2  10.66   \n",
       "17374  2012-12-31 20:00:00       1        0           1        2  10.66   \n",
       "17375  2012-12-31 21:00:00       1        0           1        1  10.66   \n",
       "17376  2012-12-31 22:00:00       1        0           1        1  10.66   \n",
       "17377  2012-12-31 23:00:00       1        0           1        1  10.66   \n",
       "\n",
       "        atemp  humidity  windspeed  casual  registered  count  \n",
       "0      14.395        81     0.0000     3.0        13.0   16.0  \n",
       "1      13.635        80     0.0000     8.0        32.0   40.0  \n",
       "2      13.635        80     0.0000     5.0        27.0   32.0  \n",
       "3      14.395        75     0.0000     3.0        10.0   13.0  \n",
       "4      14.395        75     0.0000     0.0         1.0    1.0  \n",
       "...       ...       ...        ...     ...         ...    ...  \n",
       "17373  12.880        60    11.0014     NaN         NaN    NaN  \n",
       "17374  12.880        60    11.0014     NaN         NaN    NaN  \n",
       "17375  12.880        60    11.0014     NaN         NaN    NaN  \n",
       "17376  13.635        56     8.9981     NaN         NaN    NaN  \n",
       "17377  13.635        65     8.9981     NaN         NaN    NaN  \n",
       "\n",
       "[17378 rows x 12 columns]"
      ]
     },
     "execution_count": 3,
     "metadata": {},
     "output_type": "execute_result"
    }
   ],
   "source": [
    "all_data = pd.concat([train, test], ignore_index=True)\n",
    "all_data"
   ]
  },
  {
   "cell_type": "markdown",
   "id": "f694abbd",
   "metadata": {
    "papermill": {
     "duration": 0.004781,
     "end_time": "2022-08-26T10:25:54.502587",
     "exception": false,
     "start_time": "2022-08-26T10:25:54.497806",
     "status": "completed"
    },
    "tags": []
   },
   "source": [
    "파생 변수 추가"
   ]
  },
  {
   "cell_type": "code",
   "execution_count": 4,
   "id": "8fa73933",
   "metadata": {
    "execution": {
     "iopub.execute_input": "2022-08-26T10:25:54.515872Z",
     "iopub.status.busy": "2022-08-26T10:25:54.515502Z",
     "iopub.status.idle": "2022-08-26T10:25:54.714882Z",
     "shell.execute_reply": "2022-08-26T10:25:54.713711Z"
    },
    "papermill": {
     "duration": 0.208862,
     "end_time": "2022-08-26T10:25:54.717433",
     "exception": false,
     "start_time": "2022-08-26T10:25:54.508571",
     "status": "completed"
    },
    "tags": []
   },
   "outputs": [],
   "source": [
    "from datetime import datetime\n",
    "\n",
    "# 날짜 피처 생성\n",
    "all_data['date'] = all_data['datetime'].apply(lambda x: x.split()[0])\n",
    "# 연도 피처 생성\n",
    "all_data['year'] = all_data['datetime'].apply(lambda x: x.split()[0].split('-')[0])\n",
    "# 월 피처 생성\n",
    "all_data['month'] = all_data['datetime'].apply(lambda x: x.split()[0].split('-')[1])\n",
    "# 시 피처 생성\n",
    "all_data['hour'] = all_data['datetime'].apply(lambda x: x.split()[1].split(':')[0])\n",
    "# 요일 피처 생성\n",
    "all_data[\"weekday\"] = all_data['date'].apply(lambda dateString : datetime.strptime(dateString,\"%Y-%m-%d\").weekday())"
   ]
  },
  {
   "cell_type": "markdown",
   "id": "a76522af",
   "metadata": {
    "papermill": {
     "duration": 0.004564,
     "end_time": "2022-08-26T10:25:54.727114",
     "exception": false,
     "start_time": "2022-08-26T10:25:54.722550",
     "status": "completed"
    },
    "tags": []
   },
   "source": [
    "필요없는 피쳐 제거"
   ]
  },
  {
   "cell_type": "code",
   "execution_count": 5,
   "id": "5bb52aa3",
   "metadata": {
    "execution": {
     "iopub.execute_input": "2022-08-26T10:25:54.737731Z",
     "iopub.status.busy": "2022-08-26T10:25:54.737418Z",
     "iopub.status.idle": "2022-08-26T10:25:54.746919Z",
     "shell.execute_reply": "2022-08-26T10:25:54.745887Z"
    },
    "papermill": {
     "duration": 0.017342,
     "end_time": "2022-08-26T10:25:54.749111",
     "exception": false,
     "start_time": "2022-08-26T10:25:54.731769",
     "status": "completed"
    },
    "tags": []
   },
   "outputs": [],
   "source": [
    "drop_features = ['casual', 'registered', 'datetime', 'date', 'windspeed', 'month']\n",
    "\n",
    "all_data = all_data.drop(drop_features, axis=1)"
   ]
  },
  {
   "cell_type": "markdown",
   "id": "5c938124",
   "metadata": {
    "papermill": {
     "duration": 0.004376,
     "end_time": "2022-08-26T10:25:54.758480",
     "exception": false,
     "start_time": "2022-08-26T10:25:54.754104",
     "status": "completed"
    },
    "tags": []
   },
   "source": [
    "데이터 나누기"
   ]
  },
  {
   "cell_type": "code",
   "execution_count": 6,
   "id": "53238377",
   "metadata": {
    "execution": {
     "iopub.execute_input": "2022-08-26T10:25:54.769612Z",
     "iopub.status.busy": "2022-08-26T10:25:54.769136Z",
     "iopub.status.idle": "2022-08-26T10:25:54.780004Z",
     "shell.execute_reply": "2022-08-26T10:25:54.779045Z"
    },
    "papermill": {
     "duration": 0.018977,
     "end_time": "2022-08-26T10:25:54.782054",
     "exception": false,
     "start_time": "2022-08-26T10:25:54.763077",
     "status": "completed"
    },
    "tags": []
   },
   "outputs": [],
   "source": [
    "# 훈련 데이터와 테스트 데이터 나누기\n",
    "X_train = all_data[~pd.isnull(all_data['count'])]\n",
    "X_test = all_data[pd.isnull(all_data['count'])]\n",
    "\n",
    "# 타깃값 count 제거\n",
    "X_train = X_train.drop(['count'], axis=1)\n",
    "X_test = X_test.drop(['count'], axis=1)\n",
    "\n",
    "y = train['count'] # 타깃값"
   ]
  },
  {
   "cell_type": "markdown",
   "id": "0829ce5a",
   "metadata": {
    "papermill": {
     "duration": 0.004576,
     "end_time": "2022-08-26T10:25:54.791637",
     "exception": false,
     "start_time": "2022-08-26T10:25:54.787061",
     "status": "completed"
    },
    "tags": []
   },
   "source": [
    "평가지표 RMSLE 함수"
   ]
  },
  {
   "cell_type": "code",
   "execution_count": 7,
   "id": "46018cb9",
   "metadata": {
    "execution": {
     "iopub.execute_input": "2022-08-26T10:25:54.802541Z",
     "iopub.status.busy": "2022-08-26T10:25:54.802201Z",
     "iopub.status.idle": "2022-08-26T10:25:54.808036Z",
     "shell.execute_reply": "2022-08-26T10:25:54.807029Z"
    },
    "papermill": {
     "duration": 0.01343,
     "end_time": "2022-08-26T10:25:54.809737",
     "exception": false,
     "start_time": "2022-08-26T10:25:54.796307",
     "status": "completed"
    },
    "tags": []
   },
   "outputs": [],
   "source": [
    "def rmsle(y_true, y_pred, convertExp=True):\n",
    "    # 지수변환\n",
    "    if convertExp:\n",
    "        y_true = np.exp(y_true)\n",
    "        y_pred = np.exp(y_pred)\n",
    "        \n",
    "    # 로그변환 후 결측값을 0으로 변환\n",
    "    log_true = np.nan_to_num(np.log(y_true+1))\n",
    "    log_pred = np.nan_to_num(np.log(y_pred+1))\n",
    "    \n",
    "    # RMSLE 계산\n",
    "    output = np.sqrt(np.mean((log_true - log_pred)**2))\n",
    "    return output"
   ]
  },
  {
   "cell_type": "code",
   "execution_count": 8,
   "id": "7952ae85",
   "metadata": {
    "execution": {
     "iopub.execute_input": "2022-08-26T10:25:54.820801Z",
     "iopub.status.busy": "2022-08-26T10:25:54.820516Z",
     "iopub.status.idle": "2022-08-26T10:25:55.958686Z",
     "shell.execute_reply": "2022-08-26T10:25:55.956953Z"
    },
    "papermill": {
     "duration": 1.146326,
     "end_time": "2022-08-26T10:25:55.960988",
     "exception": false,
     "start_time": "2022-08-26T10:25:54.814662",
     "status": "completed"
    },
    "tags": []
   },
   "outputs": [],
   "source": [
    "from sklearn.model_selection import GridSearchCV\n",
    "from sklearn import metrics\n",
    "\n",
    "rmsle_scorer = metrics.make_scorer(rmsle, greater_is_better=False)"
   ]
  },
  {
   "cell_type": "markdown",
   "id": "b92964be",
   "metadata": {
    "papermill": {
     "duration": 0.004772,
     "end_time": "2022-08-26T10:25:55.971440",
     "exception": false,
     "start_time": "2022-08-26T10:25:55.966668",
     "status": "completed"
    },
    "tags": []
   },
   "source": [
    "## 6.7 성능 개선 III : Random Forest regression model\n",
    "### 6.7.1 hyper parameter optimization"
   ]
  },
  {
   "cell_type": "code",
   "execution_count": 9,
   "id": "bff96a05",
   "metadata": {
    "execution": {
     "iopub.execute_input": "2022-08-26T10:25:55.983037Z",
     "iopub.status.busy": "2022-08-26T10:25:55.982734Z",
     "iopub.status.idle": "2022-08-26T10:26:17.256802Z",
     "shell.execute_reply": "2022-08-26T10:26:17.255641Z"
    },
    "papermill": {
     "duration": 21.282852,
     "end_time": "2022-08-26T10:26:17.259540",
     "exception": false,
     "start_time": "2022-08-26T10:25:55.976688",
     "status": "completed"
    },
    "tags": []
   },
   "outputs": [
    {
     "name": "stdout",
     "output_type": "stream",
     "text": [
      "최적 하이퍼파라미터 : RandomForestRegressor(n_estimators=140, random_state=42)\n"
     ]
    }
   ],
   "source": [
    "from sklearn.ensemble import RandomForestRegressor\n",
    "\n",
    "randomforest_model = RandomForestRegressor()\n",
    "# 그리드서치 객체 생성\n",
    "rf_params = {'random_state':[42], 'n_estimators':[100, 120, 140]}\n",
    "gridsearch_random_forest_model = GridSearchCV(estimator=randomforest_model,\n",
    "                                              param_grid=rf_params, n_jobs=-1,\n",
    "                                              scoring=rmsle_scorer, cv=5)\n",
    "\n",
    "log_y = np.log(y)\n",
    "gridsearch_random_forest_model.fit(X_train, log_y)\n",
    "print('최적 하이퍼파라미터 :', gridsearch_random_forest_model.best_estimator_)"
   ]
  },
  {
   "cell_type": "markdown",
   "id": "9fc6d693",
   "metadata": {
    "papermill": {
     "duration": 0.006019,
     "end_time": "2022-08-26T10:26:17.272263",
     "exception": false,
     "start_time": "2022-08-26T10:26:17.266244",
     "status": "completed"
    },
    "tags": []
   },
   "source": [
    "### 6.7.2 모델 성능 검증"
   ]
  },
  {
   "cell_type": "code",
   "execution_count": 10,
   "id": "88b5b4b1",
   "metadata": {
    "execution": {
     "iopub.execute_input": "2022-08-26T10:26:17.283041Z",
     "iopub.status.busy": "2022-08-26T10:26:17.282712Z",
     "iopub.status.idle": "2022-08-26T10:26:17.571141Z",
     "shell.execute_reply": "2022-08-26T10:26:17.570051Z"
    },
    "papermill": {
     "duration": 0.296676,
     "end_time": "2022-08-26T10:26:17.573647",
     "exception": false,
     "start_time": "2022-08-26T10:26:17.276971",
     "status": "completed"
    },
    "tags": []
   },
   "outputs": [
    {
     "name": "stdout",
     "output_type": "stream",
     "text": [
      "랜덤 포레스트 회귀 RMSLE 값 : 0.1127\n"
     ]
    }
   ],
   "source": [
    "preds = gridsearch_random_forest_model.best_estimator_.predict(X_train)\n",
    "print(f'랜덤 포레스트 회귀 RMSLE 값 : {rmsle(log_y, preds):.4f}')"
   ]
  },
  {
   "cell_type": "markdown",
   "id": "d046c256",
   "metadata": {
    "papermill": {
     "duration": 0.004611,
     "end_time": "2022-08-26T10:26:17.583191",
     "exception": false,
     "start_time": "2022-08-26T10:26:17.578580",
     "status": "completed"
    },
    "tags": []
   },
   "source": [
    "### 6.7.3 예측 및 결과 제출"
   ]
  },
  {
   "cell_type": "code",
   "execution_count": 11,
   "id": "0fbaba4c",
   "metadata": {
    "execution": {
     "iopub.execute_input": "2022-08-26T10:26:17.596450Z",
     "iopub.status.busy": "2022-08-26T10:26:17.595050Z",
     "iopub.status.idle": "2022-08-26T10:26:18.554052Z",
     "shell.execute_reply": "2022-08-26T10:26:18.553363Z"
    },
    "papermill": {
     "duration": 0.96759,
     "end_time": "2022-08-26T10:26:18.555608",
     "exception": false,
     "start_time": "2022-08-26T10:26:17.588018",
     "status": "completed"
    },
    "tags": []
   },
   "outputs": [
    {
     "data": {
      "image/png": "[encoded data removed]",
      "text/plain": [
       "<Figure size 864x432 with 2 Axes>"
      ]
     },
     "metadata": {},
     "output_type": "display_data"
    }
   ],
   "source": [
    "import matplotlib.pyplot as plt\n",
    "import seaborn as sns\n",
    "sns.set()\n",
    "\n",
    "randomforest_preds = gridsearch_random_forest_model.best_estimator_.predict(X_test)\n",
    "\n",
    "fig, axes = plt.subplots(1, 2)\n",
    "fig.set_size_inches(12, 6)\n",
    "\n",
    "sns.histplot(y, bins=50, ax=axes[0])\n",
    "axes[0].set_title('Train Data Distribution')\n",
    "sns.histplot(np.exp(randomforest_preds), bins=50, ax=axes[1])\n",
    "axes[1].set_title('Predicted Data Distribution');"
   ]
  },
  {
   "cell_type": "code",
   "execution_count": 12,
   "id": "6fd58c97",
   "metadata": {
    "execution": {
     "iopub.execute_input": "2022-08-26T10:26:18.569091Z",
     "iopub.status.busy": "2022-08-26T10:26:18.567655Z",
     "iopub.status.idle": "2022-08-26T10:26:18.592683Z",
     "shell.execute_reply": "2022-08-26T10:26:18.591594Z"
    },
    "papermill": {
     "duration": 0.03434,
     "end_time": "2022-08-26T10:26:18.595581",
     "exception": false,
     "start_time": "2022-08-26T10:26:18.561241",
     "status": "completed"
    },
    "tags": []
   },
   "outputs": [],
   "source": [
    "submission['count'] = np.exp(randomforest_preds)\n",
    "submission.to_csv('submission.csv', index=False)"
   ]
  },
  {
   "cell_type": "code",
   "execution_count": null,
   "id": "d21ff8b9",
   "metadata": {
    "papermill": {
     "duration": 0.006791,
     "end_time": "2022-08-26T10:26:18.610138",
     "exception": false,
     "start_time": "2022-08-26T10:26:18.603347",
     "status": "completed"
    },
    "tags": []
   },
   "outputs": [],
   "source": []
  }
 ],
 "metadata": {
  "kernelspec": {
   "display_name": "Python 3",
   "language": "python",
   "name": "python3"
  },
  "language_info": {
   "codemirror_mode": {
    "name": "ipython",
    "version": 3
   },
   "file_extension": ".py",
   "mimetype": "text/x-python",
   "name": "python",
   "nbconvert_exporter": "python",
   "pygments_lexer": "ipython3",
   "version": "3.7.12"
  },
  "papermill": {
   "default_parameters": {},
   "duration": 36.111182,
   "end_time": "2022-08-26T10:26:21.242915",
   "environment_variables": {},
   "exception": null,
   "input_path": "__notebook__.ipynb",
   "output_path": "__notebook__.ipynb",
   "parameters": {},
   "start_time": "2022-08-26T10:25:45.131733",
   "version": "2.3.4"
  }
 },
 "nbformat": 4,
 "nbformat_minor": 5
}
