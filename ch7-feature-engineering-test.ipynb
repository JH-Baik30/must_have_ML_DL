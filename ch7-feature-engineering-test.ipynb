{
 "cells": [
  {
   "cell_type": "markdown",
   "id": "3796bcd0",
   "metadata": {
    "papermill": {
     "duration": 0.008062,
     "end_time": "2022-08-28T10:08:50.419596",
     "exception": false,
     "start_time": "2022-08-28T10:08:50.411534",
     "status": "completed"
    },
    "tags": []
   },
   "source": [
    "7.4 성능 개선 I"
   ]
  },
  {
   "cell_type": "code",
   "execution_count": 1,
   "id": "139d6c22",
   "metadata": {
    "_cell_guid": "b1076dfc-b9ad-4769-8c92-a6c4dae69d19",
    "_uuid": "8f2839f25d086af736a60e9eeb907d3b93b6e0e5",
    "execution": {
     "iopub.execute_input": "2022-08-28T10:08:50.434707Z",
     "iopub.status.busy": "2022-08-28T10:08:50.433990Z",
     "iopub.status.idle": "2022-08-28T10:08:53.070898Z",
     "shell.execute_reply": "2022-08-28T10:08:53.069959Z"
    },
    "papermill": {
     "duration": 2.649509,
     "end_time": "2022-08-28T10:08:53.076134",
     "exception": false,
     "start_time": "2022-08-28T10:08:50.426625",
     "status": "completed"
    },
    "tags": []
   },
   "outputs": [],
   "source": [
    "import numpy as np\n",
    "import pandas as pd\n",
    "\n",
    "submission = pd.read_csv('/kaggle/input/cat-in-the-dat/sample_submission.csv', index_col='id')\n",
    "train = pd.read_csv('/kaggle/input/cat-in-the-dat/train.csv', index_col='id')\n",
    "test = pd.read_csv('/kaggle/input/cat-in-the-dat/test.csv', index_col='id')"
   ]
  },
  {
   "cell_type": "markdown",
   "id": "5421615a",
   "metadata": {
    "papermill": {
     "duration": 0.005616,
     "end_time": "2022-08-28T10:08:53.087850",
     "exception": false,
     "start_time": "2022-08-28T10:08:53.082234",
     "status": "completed"
    },
    "tags": []
   },
   "source": [
    "### 7.4.1 피처 엔지니어링 I: 피처 맞춤 인코딩"
   ]
  },
  {
   "cell_type": "code",
   "execution_count": 2,
   "id": "05c75605",
   "metadata": {
    "execution": {
     "iopub.execute_input": "2022-08-28T10:08:53.101434Z",
     "iopub.status.busy": "2022-08-28T10:08:53.101035Z",
     "iopub.status.idle": "2022-08-28T10:08:53.891384Z",
     "shell.execute_reply": "2022-08-28T10:08:53.890371Z"
    },
    "papermill": {
     "duration": 0.80015,
     "end_time": "2022-08-28T10:08:53.893957",
     "exception": false,
     "start_time": "2022-08-28T10:08:53.093807",
     "status": "completed"
    },
    "tags": []
   },
   "outputs": [],
   "source": [
    "# 데이터 합치기\n",
    "all_data = pd.concat([train, test])\n",
    "all_data = all_data.drop('target', axis=1)"
   ]
  },
  {
   "cell_type": "code",
   "execution_count": 3,
   "id": "d0a8a85d",
   "metadata": {
    "execution": {
     "iopub.execute_input": "2022-08-28T10:08:53.907127Z",
     "iopub.status.busy": "2022-08-28T10:08:53.906688Z",
     "iopub.status.idle": "2022-08-28T10:08:54.248412Z",
     "shell.execute_reply": "2022-08-28T10:08:54.247309Z"
    },
    "papermill": {
     "duration": 0.351342,
     "end_time": "2022-08-28T10:08:54.251200",
     "exception": false,
     "start_time": "2022-08-28T10:08:53.899858",
     "status": "completed"
    },
    "tags": []
   },
   "outputs": [],
   "source": [
    "# binary feature encoding\n",
    "all_data['bin_3'] = all_data['bin_3'].map({'F':0, 'T':1})\n",
    "all_data['bin_4'] = all_data['bin_4'].map({'N':0, 'Y':1})"
   ]
  },
  {
   "cell_type": "code",
   "execution_count": 4,
   "id": "dd0dea71",
   "metadata": {
    "execution": {
     "iopub.execute_input": "2022-08-28T10:08:54.264794Z",
     "iopub.status.busy": "2022-08-28T10:08:54.264376Z",
     "iopub.status.idle": "2022-08-28T10:08:54.606815Z",
     "shell.execute_reply": "2022-08-28T10:08:54.605934Z"
    },
    "papermill": {
     "duration": 0.351795,
     "end_time": "2022-08-28T10:08:54.609181",
     "exception": false,
     "start_time": "2022-08-28T10:08:54.257386",
     "status": "completed"
    },
    "tags": []
   },
   "outputs": [],
   "source": [
    "# ordinary feature encoding\n",
    "all_data['ord_1'] = all_data['ord_1'].map({\n",
    "    'Novice':0, 'Contributor':1, 'Expert':2, 'Master':3, 'Grandmaster':4})\n",
    "all_data['ord_2'] = all_data['ord_2'].map({\n",
    "    'Freezing':0, 'Cold':1, 'Warm':2, 'Hot':3, 'Boiling Hot':4, 'Lava Hot':5})"
   ]
  },
  {
   "cell_type": "code",
   "execution_count": 5,
   "id": "14601343",
   "metadata": {
    "execution": {
     "iopub.execute_input": "2022-08-28T10:08:54.622913Z",
     "iopub.status.busy": "2022-08-28T10:08:54.622092Z",
     "iopub.status.idle": "2022-08-28T10:08:56.442949Z",
     "shell.execute_reply": "2022-08-28T10:08:56.441759Z"
    },
    "papermill": {
     "duration": 1.830964,
     "end_time": "2022-08-28T10:08:56.446103",
     "exception": false,
     "start_time": "2022-08-28T10:08:54.615139",
     "status": "completed"
    },
    "tags": []
   },
   "outputs": [
    {
     "name": "stdout",
     "output_type": "stream",
     "text": [
      "ord_3\n",
      "['a' 'b' 'c' 'd' 'e' 'f' 'g' 'h' 'i' 'j' 'k' 'l' 'm' 'n' 'o']\n",
      "ord_4\n",
      "['A' 'B' 'C' 'D' 'E' 'F' 'G' 'H' 'I' 'J' 'K' 'L' 'M' 'N' 'O' 'P' 'Q' 'R'\n",
      " 'S' 'T' 'U' 'V' 'W' 'X' 'Y' 'Z']\n",
      "ord_5\n",
      "['AP' 'Ai' 'Aj' 'BA' 'BE' 'Bb' 'Bd' 'Bn' 'CL' 'CM' 'CU' 'CZ' 'Cl' 'DH'\n",
      " 'DN' 'Dc' 'Dx' 'Ed' 'Eg' 'Er' 'FI' 'Fd' 'Fo' 'GD' 'GJ' 'Gb' 'Gx' 'Hj'\n",
      " 'IK' 'Id' 'JX' 'Jc' 'Jf' 'Jt' 'KR' 'KZ' 'Kf' 'Kq' 'LE' 'MC' 'MO' 'MV'\n",
      " 'Mf' 'Ml' 'Mx' 'NV' 'Nf' 'Nk' 'OR' 'Ob' 'Os' 'PA' 'PQ' 'PZ' 'Ps' 'QM'\n",
      " 'Qb' 'Qh' 'Qo' 'RG' 'RL' 'RP' 'Rm' 'Ry' 'SB' 'Sc' 'TR' 'TZ' 'To' 'UO'\n",
      " 'Uk' 'Uu' 'Vf' 'Vx' 'WE' 'Wc' 'Wv' 'XI' 'Xh' 'Xi' 'YC' 'Yb' 'Ye' 'ZR'\n",
      " 'ZS' 'Zc' 'Zq' 'aF' 'aM' 'aO' 'aP' 'ac' 'av' 'bF' 'bJ' 'be' 'cA' 'cG'\n",
      " 'cW' 'ck' 'cp' 'dB' 'dE' 'dN' 'dO' 'dP' 'dQ' 'dZ' 'dh' 'eG' 'eQ' 'eb'\n",
      " 'eg' 'ek' 'ex' 'fO' 'fh' 'gJ' 'gM' 'hL' 'hT' 'hh' 'hp' 'iT' 'ih' 'jS'\n",
      " 'jV' 'je' 'jp' 'kC' 'kE' 'kK' 'kL' 'kU' 'kW' 'ke' 'kr' 'kw' 'lF' 'lL'\n",
      " 'll' 'lx' 'mb' 'mc' 'mm' 'nX' 'nh' 'oC' 'oG' 'oH' 'oK' 'od' 'on' 'pa'\n",
      " 'ps' 'qA' 'qJ' 'qK' 'qP' 'qX' 'qo' 'qv' 'qw' 'rZ' 'ri' 'rp' 'sD' 'sV'\n",
      " 'sY' 'sn' 'su' 'tM' 'tP' 'tv' 'uJ' 'uS' 'ud' 'us' 'ut' 'ux' 'uy' 'vK'\n",
      " 'vq' 'vy' 'wu' 'wy' 'xP' 'xy' 'yN' 'yY' 'yc' 'zU']\n"
     ]
    }
   ],
   "source": [
    "from sklearn.preprocessing import OrdinalEncoder\n",
    "\n",
    "ord_345 = ['ord_3', 'ord_4', 'ord_5']\n",
    "\n",
    "ord_encoder = OrdinalEncoder() # OrdinalEncoder 객체 생성\n",
    "# ordinal 인코딩 적용\n",
    "all_data[ord_345] = ord_encoder.fit_transform(all_data[ord_345])\n",
    "\n",
    "# 피처별 인코딩 순서 출력\n",
    "for feature, categories in zip(ord_345, ord_encoder.categories_):\n",
    "    print(feature)\n",
    "    print(categories)"
   ]
  },
  {
   "cell_type": "code",
   "execution_count": 6,
   "id": "cf307c4f",
   "metadata": {
    "execution": {
     "iopub.execute_input": "2022-08-28T10:08:56.459693Z",
     "iopub.status.busy": "2022-08-28T10:08:56.459326Z",
     "iopub.status.idle": "2022-08-28T10:08:56.464804Z",
     "shell.execute_reply": "2022-08-28T10:08:56.463703Z"
    },
    "papermill": {
     "duration": 0.014917,
     "end_time": "2022-08-28T10:08:56.467013",
     "exception": false,
     "start_time": "2022-08-28T10:08:56.452096",
     "status": "completed"
    },
    "tags": []
   },
   "outputs": [],
   "source": [
    "# nominal feature encoding\n",
    "nom_feature = ['nom_'+str(i) for i in range(10)] # 명목형 피처"
   ]
  },
  {
   "cell_type": "code",
   "execution_count": 7,
   "id": "39977ea9",
   "metadata": {
    "execution": {
     "iopub.execute_input": "2022-08-28T10:08:56.480698Z",
     "iopub.status.busy": "2022-08-28T10:08:56.480321Z",
     "iopub.status.idle": "2022-08-28T10:08:58.281850Z",
     "shell.execute_reply": "2022-08-28T10:08:58.280540Z"
    },
    "papermill": {
     "duration": 1.81157,
     "end_time": "2022-08-28T10:08:58.284640",
     "exception": false,
     "start_time": "2022-08-28T10:08:56.473070",
     "status": "completed"
    },
    "tags": []
   },
   "outputs": [
    {
     "data": {
      "text/plain": [
       "<500000x16276 sparse matrix of type '<class 'numpy.float64'>'\n",
       "\twith 5000000 stored elements in Compressed Sparse Row format>"
      ]
     },
     "execution_count": 7,
     "metadata": {},
     "output_type": "execute_result"
    }
   ],
   "source": [
    "from sklearn.preprocessing import OneHotEncoder\n",
    "\n",
    "onehot_encoder = OneHotEncoder() # OneHotEncoder 객체 생성\n",
    "# 원-핫 인코딩 적용\n",
    "encoded_nom_matrix = onehot_encoder.fit_transform(all_data[nom_feature])\n",
    "\n",
    "encoded_nom_matrix"
   ]
  },
  {
   "cell_type": "code",
   "execution_count": 8,
   "id": "a3e36f20",
   "metadata": {
    "execution": {
     "iopub.execute_input": "2022-08-28T10:08:58.298955Z",
     "iopub.status.busy": "2022-08-28T10:08:58.298314Z",
     "iopub.status.idle": "2022-08-28T10:08:58.340939Z",
     "shell.execute_reply": "2022-08-28T10:08:58.339683Z"
    },
    "papermill": {
     "duration": 0.052036,
     "end_time": "2022-08-28T10:08:58.343088",
     "exception": false,
     "start_time": "2022-08-28T10:08:58.291052",
     "status": "completed"
    },
    "tags": []
   },
   "outputs": [],
   "source": [
    "all_data = all_data.drop(nom_feature, axis=1) # 기존 명목형 피처 삭제"
   ]
  },
  {
   "cell_type": "code",
   "execution_count": 9,
   "id": "e60ed492",
   "metadata": {
    "execution": {
     "iopub.execute_input": "2022-08-28T10:08:58.357273Z",
     "iopub.status.busy": "2022-08-28T10:08:58.356184Z",
     "iopub.status.idle": "2022-08-28T10:08:58.517324Z",
     "shell.execute_reply": "2022-08-28T10:08:58.516251Z"
    },
    "papermill": {
     "duration": 0.170874,
     "end_time": "2022-08-28T10:08:58.520012",
     "exception": false,
     "start_time": "2022-08-28T10:08:58.349138",
     "status": "completed"
    },
    "tags": []
   },
   "outputs": [
    {
     "data": {
      "text/plain": [
       "<500000x19 sparse matrix of type '<class 'numpy.float64'>'\n",
       "\twith 1000000 stored elements in Compressed Sparse Row format>"
      ]
     },
     "execution_count": 9,
     "metadata": {},
     "output_type": "execute_result"
    }
   ],
   "source": [
    "# date feature encoding\n",
    "date_feature = ['day', 'month'] # 날짜 피처\n",
    "\n",
    "# 원-핫 인코딩 적용\n",
    "encoded_date_matrix = onehot_encoder.fit_transform(all_data[date_feature])\n",
    "\n",
    "all_data = all_data.drop(date_feature, axis=1) # 기존 날짜 피처 삭제\n",
    "\n",
    "encoded_date_matrix"
   ]
  },
  {
   "cell_type": "markdown",
   "id": "5aa562f5",
   "metadata": {
    "papermill": {
     "duration": 0.005921,
     "end_time": "2022-08-28T10:08:58.532112",
     "exception": false,
     "start_time": "2022-08-28T10:08:58.526191",
     "status": "completed"
    },
    "tags": []
   },
   "source": [
    "### 7.4.2 Feature engineering II : Feature scaling"
   ]
  },
  {
   "cell_type": "code",
   "execution_count": 10,
   "id": "4edaadff",
   "metadata": {
    "execution": {
     "iopub.execute_input": "2022-08-28T10:08:58.545709Z",
     "iopub.status.busy": "2022-08-28T10:08:58.545309Z",
     "iopub.status.idle": "2022-08-28T10:08:58.633877Z",
     "shell.execute_reply": "2022-08-28T10:08:58.632785Z"
    },
    "papermill": {
     "duration": 0.098407,
     "end_time": "2022-08-28T10:08:58.636518",
     "exception": false,
     "start_time": "2022-08-28T10:08:58.538111",
     "status": "completed"
    },
    "tags": []
   },
   "outputs": [],
   "source": [
    "# ordinary feature scaling\n",
    "from sklearn.preprocessing import MinMaxScaler\n",
    "\n",
    "ord_features = ['ord_'+str(i) for i in range(6)] # 순서형 피처\n",
    "\n",
    "# min-max 정규화\n",
    "all_data[ord_features] = MinMaxScaler().fit_transform(all_data[ord_features])"
   ]
  },
  {
   "cell_type": "code",
   "execution_count": 11,
   "id": "601a8a6c",
   "metadata": {
    "execution": {
     "iopub.execute_input": "2022-08-28T10:08:58.650752Z",
     "iopub.status.busy": "2022-08-28T10:08:58.650341Z",
     "iopub.status.idle": "2022-08-28T10:08:59.270758Z",
     "shell.execute_reply": "2022-08-28T10:08:59.269180Z"
    },
    "papermill": {
     "duration": 0.630815,
     "end_time": "2022-08-28T10:08:59.273746",
     "exception": false,
     "start_time": "2022-08-28T10:08:58.642931",
     "status": "completed"
    },
    "tags": []
   },
   "outputs": [],
   "source": [
    "# 인코딩 및 스케일링된 피처 합치\n",
    "from scipy import sparse\n",
    "\n",
    "# 인코딩 및 스케일링된 피처 합치기\n",
    "all_data_sprs = sparse.hstack([sparse.csr_matrix(all_data),\n",
    "                               encoded_nom_matrix,\n",
    "                               encoded_date_matrix], format='csr')"
   ]
  },
  {
   "cell_type": "code",
   "execution_count": 12,
   "id": "f7dd0cf3",
   "metadata": {
    "execution": {
     "iopub.execute_input": "2022-08-28T10:08:59.288932Z",
     "iopub.status.busy": "2022-08-28T10:08:59.288512Z",
     "iopub.status.idle": "2022-08-28T10:08:59.295658Z",
     "shell.execute_reply": "2022-08-28T10:08:59.294556Z"
    },
    "papermill": {
     "duration": 0.016916,
     "end_time": "2022-08-28T10:08:59.298008",
     "exception": false,
     "start_time": "2022-08-28T10:08:59.281092",
     "status": "completed"
    },
    "tags": []
   },
   "outputs": [
    {
     "data": {
      "text/plain": [
       "<500000x16306 sparse matrix of type '<class 'numpy.float64'>'\n",
       "\twith 9163718 stored elements in Compressed Sparse Row format>"
      ]
     },
     "execution_count": 12,
     "metadata": {},
     "output_type": "execute_result"
    }
   ],
   "source": [
    "all_data_sprs"
   ]
  },
  {
   "cell_type": "code",
   "execution_count": 13,
   "id": "cb1c4114",
   "metadata": {
    "execution": {
     "iopub.execute_input": "2022-08-28T10:08:59.312161Z",
     "iopub.status.busy": "2022-08-28T10:08:59.311770Z",
     "iopub.status.idle": "2022-08-28T10:08:59.433494Z",
     "shell.execute_reply": "2022-08-28T10:08:59.432200Z"
    },
    "papermill": {
     "duration": 0.132294,
     "end_time": "2022-08-28T10:08:59.436552",
     "exception": false,
     "start_time": "2022-08-28T10:08:59.304258",
     "status": "completed"
    },
    "tags": []
   },
   "outputs": [],
   "source": [
    "# data split\n",
    "num_train = len(train) # 훈련 데이터 개수\n",
    "\n",
    "# 훈련 데이터와 테스트 데이터 나누기\n",
    "X_train = all_data_sprs[:num_train] # 0 ~ num_train - 1행\n",
    "X_test = all_data_sprs[num_train:] # num_train ~ 마지막 행\n",
    "\n",
    "y = train['target']"
   ]
  },
  {
   "cell_type": "code",
   "execution_count": 14,
   "id": "301c1ea0",
   "metadata": {
    "execution": {
     "iopub.execute_input": "2022-08-28T10:08:59.451682Z",
     "iopub.status.busy": "2022-08-28T10:08:59.450595Z",
     "iopub.status.idle": "2022-08-28T10:08:59.656073Z",
     "shell.execute_reply": "2022-08-28T10:08:59.654940Z"
    },
    "papermill": {
     "duration": 0.215779,
     "end_time": "2022-08-28T10:08:59.658710",
     "exception": false,
     "start_time": "2022-08-28T10:08:59.442931",
     "status": "completed"
    },
    "tags": []
   },
   "outputs": [],
   "source": [
    "from sklearn.model_selection import train_test_split\n",
    "\n",
    "# 훈련 데이터, 검증 데이터 분리\n",
    "X_train, X_valid, y_train, y_valid = train_test_split(X_train, y, test_size=0.1,\n",
    "                                                      stratify=y,random_state=10)"
   ]
  },
  {
   "cell_type": "markdown",
   "id": "41a6bf4f",
   "metadata": {
    "papermill": {
     "duration": 0.005954,
     "end_time": "2022-08-28T10:08:59.671198",
     "exception": false,
     "start_time": "2022-08-28T10:08:59.665244",
     "status": "completed"
    },
    "tags": []
   },
   "source": [
    "### 7.4.3 Hyper Parameter optimize"
   ]
  },
  {
   "cell_type": "code",
   "execution_count": 15,
   "id": "70cdf8c7",
   "metadata": {
    "execution": {
     "iopub.execute_input": "2022-08-28T10:08:59.685308Z",
     "iopub.status.busy": "2022-08-28T10:08:59.684930Z",
     "iopub.status.idle": "2022-08-28T10:17:41.774309Z",
     "shell.execute_reply": "2022-08-28T10:17:41.772753Z"
    },
    "papermill": {
     "duration": 522.109732,
     "end_time": "2022-08-28T10:17:41.787041",
     "exception": false,
     "start_time": "2022-08-28T10:08:59.677309",
     "status": "completed"
    },
    "tags": []
   },
   "outputs": [
    {
     "name": "stdout",
     "output_type": "stream",
     "text": [
      "최적 하이퍼파라미터: {'C': 0.125, 'max_iter': 800, 'random_state': 42, 'solver': 'liblinear'}\n",
      "CPU times: user 17min 57s, sys: 15min 49s, total: 33min 46s\n",
      "Wall time: 8min 42s\n"
     ]
    }
   ],
   "source": [
    "%%time\n",
    "\n",
    "from sklearn.model_selection import GridSearchCV\n",
    "from sklearn.linear_model import LogisticRegression\n",
    "\n",
    "# 로지스틱 회귀 모델 생성\n",
    "logistic_model = LogisticRegression()\n",
    "\n",
    "# 하이퍼파라미터 값 목록\n",
    "lr_params = {'C':[0.1, 0.125, 0.2], 'max_iter':[800, 900, 1000], \n",
    "             'solver':['liblinear'], 'random_state':[42]}\n",
    "\n",
    "# 그리드서치 객체 생성\n",
    "gridsearch_logistic_model = GridSearchCV(estimator=logistic_model,\n",
    "                                         param_grid=lr_params,\n",
    "                                         scoring='roc_auc', # 평가지표\n",
    "                                         cv=5)\n",
    "# 그리드서치 수행\n",
    "gridsearch_logistic_model.fit(X_train, y_train)\n",
    "\n",
    "print('최적 하이퍼파라미터:', gridsearch_logistic_model.best_params_)"
   ]
  },
  {
   "cell_type": "markdown",
   "id": "f8dc0105",
   "metadata": {
    "papermill": {
     "duration": 0.006454,
     "end_time": "2022-08-28T10:17:41.799834",
     "exception": false,
     "start_time": "2022-08-28T10:17:41.793380",
     "status": "completed"
    },
    "tags": []
   },
   "source": [
    "### 7.4.4 모델 성능 검증"
   ]
  },
  {
   "cell_type": "code",
   "execution_count": 16,
   "id": "76244c49",
   "metadata": {
    "execution": {
     "iopub.execute_input": "2022-08-28T10:17:41.814408Z",
     "iopub.status.busy": "2022-08-28T10:17:41.814013Z",
     "iopub.status.idle": "2022-08-28T10:17:41.821520Z",
     "shell.execute_reply": "2022-08-28T10:17:41.820368Z"
    },
    "papermill": {
     "duration": 0.017572,
     "end_time": "2022-08-28T10:17:41.823882",
     "exception": false,
     "start_time": "2022-08-28T10:17:41.806310",
     "status": "completed"
    },
    "tags": []
   },
   "outputs": [],
   "source": [
    "y_valid_preds = gridsearch_logistic_model.predict_proba(X_valid)[:, 1]"
   ]
  },
  {
   "cell_type": "code",
   "execution_count": 17,
   "id": "1a578a05",
   "metadata": {
    "execution": {
     "iopub.execute_input": "2022-08-28T10:17:41.839305Z",
     "iopub.status.busy": "2022-08-28T10:17:41.838586Z",
     "iopub.status.idle": "2022-08-28T10:17:41.857134Z",
     "shell.execute_reply": "2022-08-28T10:17:41.855647Z"
    },
    "papermill": {
     "duration": 0.029154,
     "end_time": "2022-08-28T10:17:41.859704",
     "exception": false,
     "start_time": "2022-08-28T10:17:41.830550",
     "status": "completed"
    },
    "tags": []
   },
   "outputs": [
    {
     "name": "stdout",
     "output_type": "stream",
     "text": [
      "검증 데이터 ROC AUC : 0.8045\n"
     ]
    }
   ],
   "source": [
    "from sklearn.metrics import roc_auc_score # ROC AUC 점수 계산 함수\n",
    "\n",
    "# 검증 데이터 ROC AUC\n",
    "roc_auc = roc_auc_score(y_valid, y_valid_preds)\n",
    "\n",
    "print(f'검증 데이터 ROC AUC : {roc_auc:.4f}')"
   ]
  },
  {
   "cell_type": "markdown",
   "id": "5feb0192",
   "metadata": {
    "papermill": {
     "duration": 0.006218,
     "end_time": "2022-08-28T10:17:41.872434",
     "exception": false,
     "start_time": "2022-08-28T10:17:41.866216",
     "status": "completed"
    },
    "tags": []
   },
   "source": [
    "### 7.4.5 예측 및 결과 제출"
   ]
  },
  {
   "cell_type": "code",
   "execution_count": 18,
   "id": "fcf0f0e4",
   "metadata": {
    "execution": {
     "iopub.execute_input": "2022-08-28T10:17:41.887515Z",
     "iopub.status.busy": "2022-08-28T10:17:41.886857Z",
     "iopub.status.idle": "2022-08-28T10:17:42.398981Z",
     "shell.execute_reply": "2022-08-28T10:17:42.397716Z"
    },
    "papermill": {
     "duration": 0.522578,
     "end_time": "2022-08-28T10:17:42.401581",
     "exception": false,
     "start_time": "2022-08-28T10:17:41.879003",
     "status": "completed"
    },
    "tags": []
   },
   "outputs": [],
   "source": [
    "# 타깃값 1일 확률 예측\n",
    "y_preds = gridsearch_logistic_model.best_estimator_.predict_proba(X_test)[:,1]\n",
    "\n",
    "# 제출 파일 생성\n",
    "submission['target'] = y_preds\n",
    "submission.to_csv('submission.csv')"
   ]
  },
  {
   "cell_type": "code",
   "execution_count": null,
   "id": "c144cfaf",
   "metadata": {
    "papermill": {
     "duration": 0.006563,
     "end_time": "2022-08-28T10:17:42.414824",
     "exception": false,
     "start_time": "2022-08-28T10:17:42.408261",
     "status": "completed"
    },
    "tags": []
   },
   "outputs": [],
   "source": []
  }
 ],
 "metadata": {
  "kernelspec": {
   "display_name": "Python 3",
   "language": "python",
   "name": "python3"
  },
  "language_info": {
   "codemirror_mode": {
    "name": "ipython",
    "version": 3
   },
   "file_extension": ".py",
   "mimetype": "text/x-python",
   "name": "python",
   "nbconvert_exporter": "python",
   "pygments_lexer": "ipython3",
   "version": "3.7.12"
  },
  "papermill": {
   "default_parameters": {},
   "duration": 541.820006,
   "end_time": "2022-08-28T10:17:43.249333",
   "environment_variables": {},
   "exception": null,
   "input_path": "__notebook__.ipynb",
   "output_path": "__notebook__.ipynb",
   "parameters": {},
   "start_time": "2022-08-28T10:08:41.429327",
   "version": "2.3.4"
  }
 },
 "nbformat": 4,
 "nbformat_minor": 5
}
