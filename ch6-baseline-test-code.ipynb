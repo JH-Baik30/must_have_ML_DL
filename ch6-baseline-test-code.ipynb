{
 "cells": [
  {
   "cell_type": "markdown",
   "id": "7f6fd377",
   "metadata": {
    "papermill": {
     "duration": 0.006617,
     "end_time": "2022-08-26T06:11:10.470774",
     "exception": false,
     "start_time": "2022-08-26T06:11:10.464157",
     "status": "completed"
    },
    "tags": []
   },
   "source": [
    "## 6.4 baseline model"
   ]
  },
  {
   "cell_type": "code",
   "execution_count": 1,
   "id": "37a72a41",
   "metadata": {
    "_cell_guid": "b1076dfc-b9ad-4769-8c92-a6c4dae69d19",
    "_uuid": "8f2839f25d086af736a60e9eeb907d3b93b6e0e5",
    "execution": {
     "iopub.execute_input": "2022-08-26T06:11:10.485874Z",
     "iopub.status.busy": "2022-08-26T06:11:10.485022Z",
     "iopub.status.idle": "2022-08-26T06:11:11.657624Z",
     "shell.execute_reply": "2022-08-26T06:11:11.656879Z"
    },
    "papermill": {
     "duration": 1.183029,
     "end_time": "2022-08-26T06:11:11.659801",
     "exception": false,
     "start_time": "2022-08-26T06:11:10.476772",
     "status": "completed"
    },
    "tags": []
   },
   "outputs": [],
   "source": [
    "import numpy as np\n",
    "import pandas as pd\n",
    "import matplotlib as mpl\n",
    "import matplotlib.pyplot as plt\n",
    "import seaborn as sns\n",
    "sns.set()\n",
    "\n",
    "submission = pd.read_csv('/kaggle/input/bike-sharing-demand/sampleSubmission.csv')\n",
    "train = pd.read_csv('/kaggle/input/bike-sharing-demand/train.csv')\n",
    "test= pd.read_csv('/kaggle/input/bike-sharing-demand/test.csv')"
   ]
  },
  {
   "cell_type": "code",
   "execution_count": 2,
   "id": "e13f3807",
   "metadata": {
    "execution": {
     "iopub.execute_input": "2022-08-26T06:11:11.673741Z",
     "iopub.status.busy": "2022-08-26T06:11:11.673207Z",
     "iopub.status.idle": "2022-08-26T06:11:11.681061Z",
     "shell.execute_reply": "2022-08-26T06:11:11.680303Z"
    },
    "papermill": {
     "duration": 0.016818,
     "end_time": "2022-08-26T06:11:11.682776",
     "exception": false,
     "start_time": "2022-08-26T06:11:11.665958",
     "status": "completed"
    },
    "tags": []
   },
   "outputs": [
    {
     "data": {
      "text/plain": [
       "((10886, 12), (6493, 9), (6493, 2))"
      ]
     },
     "execution_count": 2,
     "metadata": {},
     "output_type": "execute_result"
    }
   ],
   "source": [
    "train.shape, test.shape, submission.shape"
   ]
  },
  {
   "cell_type": "markdown",
   "id": "72bc0bf6",
   "metadata": {
    "execution": {
     "iopub.execute_input": "2022-08-25T14:50:27.663876Z",
     "iopub.status.busy": "2022-08-25T14:50:27.663136Z",
     "iopub.status.idle": "2022-08-25T14:50:27.674483Z",
     "shell.execute_reply": "2022-08-25T14:50:27.673029Z",
     "shell.execute_reply.started": "2022-08-25T14:50:27.663814Z"
    },
    "papermill": {
     "duration": 0.005985,
     "end_time": "2022-08-26T06:11:11.694970",
     "exception": false,
     "start_time": "2022-08-26T06:11:11.688985",
     "status": "completed"
    },
    "tags": []
   },
   "source": [
    "test 에도 weather 에 4가 있다. 아래 all_data로 묶어서 삭제하니 y 타깃이 모자라는 현상 발생.\\\n",
    "찾아낸 이유 나는 합친 all_data에서 전처리를 하고 코드는 train 에서 y를 가져옴.\\\n",
    "\n",
    "최종. train, test 에서 weather 의 이상치를 제거해 주어도 submission 제출 파일의 모양이 test 파일과 같기 때문에\\\n",
    "train 파일에서만 이상치 제거를 시행해야 문제가 생기지 않는다.\n"
   ]
  },
  {
   "cell_type": "code",
   "execution_count": 3,
   "id": "0d39d373",
   "metadata": {
    "execution": {
     "iopub.execute_input": "2022-08-26T06:11:11.709720Z",
     "iopub.status.busy": "2022-08-26T06:11:11.708991Z",
     "iopub.status.idle": "2022-08-26T06:11:11.727268Z",
     "shell.execute_reply": "2022-08-26T06:11:11.726602Z"
    },
    "papermill": {
     "duration": 0.028152,
     "end_time": "2022-08-26T06:11:11.729200",
     "exception": false,
     "start_time": "2022-08-26T06:11:11.701048",
     "status": "completed"
    },
    "tags": []
   },
   "outputs": [
    {
     "data": {
      "text/plain": [
       "(10885, 12)"
      ]
     },
     "execution_count": 3,
     "metadata": {},
     "output_type": "execute_result"
    }
   ],
   "source": [
    "train = train[train['weather'] != 4]\n",
    "train.shape"
   ]
  },
  {
   "cell_type": "markdown",
   "id": "f145a3bf",
   "metadata": {
    "papermill": {
     "duration": 0.006128,
     "end_time": "2022-08-26T06:11:11.742018",
     "exception": false,
     "start_time": "2022-08-26T06:11:11.735890",
     "status": "completed"
    },
    "tags": []
   },
   "source": [
    "### 6.4.1 feature engineering "
   ]
  },
  {
   "cell_type": "code",
   "execution_count": 4,
   "id": "c4d26b94",
   "metadata": {
    "execution": {
     "iopub.execute_input": "2022-08-26T06:11:11.757431Z",
     "iopub.status.busy": "2022-08-26T06:11:11.756902Z",
     "iopub.status.idle": "2022-08-26T06:11:11.782345Z",
     "shell.execute_reply": "2022-08-26T06:11:11.780601Z"
    },
    "papermill": {
     "duration": 0.037223,
     "end_time": "2022-08-26T06:11:11.785403",
     "exception": false,
     "start_time": "2022-08-26T06:11:11.748180",
     "status": "completed"
    },
    "tags": []
   },
   "outputs": [
    {
     "data": {
      "text/html": [
       "<div>\n",
       "<style scoped>\n",
       "    .dataframe tbody tr th:only-of-type {\n",
       "        vertical-align: middle;\n",
       "    }\n",
       "\n",
       "    .dataframe tbody tr th {\n",
       "        vertical-align: top;\n",
       "    }\n",
       "\n",
       "    .dataframe thead th {\n",
       "        text-align: right;\n",
       "    }\n",
       "</style>\n",
       "<table border=\"1\" class=\"dataframe\">\n",
       "  <thead>\n",
       "    <tr style=\"text-align: right;\">\n",
       "      <th></th>\n",
       "      <th>datetime</th>\n",
       "      <th>season</th>\n",
       "      <th>holiday</th>\n",
       "      <th>workingday</th>\n",
       "      <th>weather</th>\n",
       "      <th>temp</th>\n",
       "      <th>atemp</th>\n",
       "      <th>humidity</th>\n",
       "      <th>windspeed</th>\n",
       "      <th>casual</th>\n",
       "      <th>registered</th>\n",
       "      <th>count</th>\n",
       "    </tr>\n",
       "  </thead>\n",
       "  <tbody>\n",
       "    <tr>\n",
       "      <th>0</th>\n",
       "      <td>2011-01-01 00:00:00</td>\n",
       "      <td>1</td>\n",
       "      <td>0</td>\n",
       "      <td>0</td>\n",
       "      <td>1</td>\n",
       "      <td>9.84</td>\n",
       "      <td>14.395</td>\n",
       "      <td>81</td>\n",
       "      <td>0.0</td>\n",
       "      <td>3.0</td>\n",
       "      <td>13.0</td>\n",
       "      <td>16.0</td>\n",
       "    </tr>\n",
       "    <tr>\n",
       "      <th>1</th>\n",
       "      <td>2011-01-01 01:00:00</td>\n",
       "      <td>1</td>\n",
       "      <td>0</td>\n",
       "      <td>0</td>\n",
       "      <td>1</td>\n",
       "      <td>9.02</td>\n",
       "      <td>13.635</td>\n",
       "      <td>80</td>\n",
       "      <td>0.0</td>\n",
       "      <td>8.0</td>\n",
       "      <td>32.0</td>\n",
       "      <td>40.0</td>\n",
       "    </tr>\n",
       "    <tr>\n",
       "      <th>2</th>\n",
       "      <td>2011-01-01 02:00:00</td>\n",
       "      <td>1</td>\n",
       "      <td>0</td>\n",
       "      <td>0</td>\n",
       "      <td>1</td>\n",
       "      <td>9.02</td>\n",
       "      <td>13.635</td>\n",
       "      <td>80</td>\n",
       "      <td>0.0</td>\n",
       "      <td>5.0</td>\n",
       "      <td>27.0</td>\n",
       "      <td>32.0</td>\n",
       "    </tr>\n",
       "    <tr>\n",
       "      <th>3</th>\n",
       "      <td>2011-01-01 03:00:00</td>\n",
       "      <td>1</td>\n",
       "      <td>0</td>\n",
       "      <td>0</td>\n",
       "      <td>1</td>\n",
       "      <td>9.84</td>\n",
       "      <td>14.395</td>\n",
       "      <td>75</td>\n",
       "      <td>0.0</td>\n",
       "      <td>3.0</td>\n",
       "      <td>10.0</td>\n",
       "      <td>13.0</td>\n",
       "    </tr>\n",
       "    <tr>\n",
       "      <th>4</th>\n",
       "      <td>2011-01-01 04:00:00</td>\n",
       "      <td>1</td>\n",
       "      <td>0</td>\n",
       "      <td>0</td>\n",
       "      <td>1</td>\n",
       "      <td>9.84</td>\n",
       "      <td>14.395</td>\n",
       "      <td>75</td>\n",
       "      <td>0.0</td>\n",
       "      <td>0.0</td>\n",
       "      <td>1.0</td>\n",
       "      <td>1.0</td>\n",
       "    </tr>\n",
       "  </tbody>\n",
       "</table>\n",
       "</div>"
      ],
      "text/plain": [
       "              datetime  season  holiday  workingday  weather  temp   atemp  \\\n",
       "0  2011-01-01 00:00:00       1        0           0        1  9.84  14.395   \n",
       "1  2011-01-01 01:00:00       1        0           0        1  9.02  13.635   \n",
       "2  2011-01-01 02:00:00       1        0           0        1  9.02  13.635   \n",
       "3  2011-01-01 03:00:00       1        0           0        1  9.84  14.395   \n",
       "4  2011-01-01 04:00:00       1        0           0        1  9.84  14.395   \n",
       "\n",
       "   humidity  windspeed  casual  registered  count  \n",
       "0        81        0.0     3.0        13.0   16.0  \n",
       "1        80        0.0     8.0        32.0   40.0  \n",
       "2        80        0.0     5.0        27.0   32.0  \n",
       "3        75        0.0     3.0        10.0   13.0  \n",
       "4        75        0.0     0.0         1.0    1.0  "
      ]
     },
     "execution_count": 4,
     "metadata": {},
     "output_type": "execute_result"
    }
   ],
   "source": [
    "# 전처리 전 데이터 합치기\n",
    "all_data = pd.concat([train, test], ignore_index=True)\n",
    "all_data.head()"
   ]
  },
  {
   "cell_type": "markdown",
   "id": "ca0c5965",
   "metadata": {
    "papermill": {
     "duration": 0.007285,
     "end_time": "2022-08-26T06:11:11.800696",
     "exception": false,
     "start_time": "2022-08-26T06:11:11.793411",
     "status": "completed"
    },
    "tags": []
   },
   "source": [
    "### 파생 변수 추가"
   ]
  },
  {
   "cell_type": "code",
   "execution_count": 5,
   "id": "51809744",
   "metadata": {
    "execution": {
     "iopub.execute_input": "2022-08-26T06:11:11.816126Z",
     "iopub.status.busy": "2022-08-26T06:11:11.815788Z",
     "iopub.status.idle": "2022-08-26T06:11:12.021377Z",
     "shell.execute_reply": "2022-08-26T06:11:12.020303Z"
    },
    "papermill": {
     "duration": 0.215658,
     "end_time": "2022-08-26T06:11:12.023427",
     "exception": false,
     "start_time": "2022-08-26T06:11:11.807769",
     "status": "completed"
    },
    "tags": []
   },
   "outputs": [
    {
     "data": {
      "text/html": [
       "<div>\n",
       "<style scoped>\n",
       "    .dataframe tbody tr th:only-of-type {\n",
       "        vertical-align: middle;\n",
       "    }\n",
       "\n",
       "    .dataframe tbody tr th {\n",
       "        vertical-align: top;\n",
       "    }\n",
       "\n",
       "    .dataframe thead th {\n",
       "        text-align: right;\n",
       "    }\n",
       "</style>\n",
       "<table border=\"1\" class=\"dataframe\">\n",
       "  <thead>\n",
       "    <tr style=\"text-align: right;\">\n",
       "      <th></th>\n",
       "      <th>datetime</th>\n",
       "      <th>season</th>\n",
       "      <th>holiday</th>\n",
       "      <th>workingday</th>\n",
       "      <th>weather</th>\n",
       "      <th>temp</th>\n",
       "      <th>atemp</th>\n",
       "      <th>humidity</th>\n",
       "      <th>windspeed</th>\n",
       "      <th>casual</th>\n",
       "      <th>registered</th>\n",
       "      <th>count</th>\n",
       "      <th>date</th>\n",
       "      <th>year</th>\n",
       "      <th>month</th>\n",
       "      <th>hour</th>\n",
       "      <th>weekday</th>\n",
       "    </tr>\n",
       "  </thead>\n",
       "  <tbody>\n",
       "    <tr>\n",
       "      <th>0</th>\n",
       "      <td>2011-01-01 00:00:00</td>\n",
       "      <td>1</td>\n",
       "      <td>0</td>\n",
       "      <td>0</td>\n",
       "      <td>1</td>\n",
       "      <td>9.84</td>\n",
       "      <td>14.395</td>\n",
       "      <td>81</td>\n",
       "      <td>0.0</td>\n",
       "      <td>3.0</td>\n",
       "      <td>13.0</td>\n",
       "      <td>16.0</td>\n",
       "      <td>2011-01-01</td>\n",
       "      <td>2011</td>\n",
       "      <td>01</td>\n",
       "      <td>00</td>\n",
       "      <td>5</td>\n",
       "    </tr>\n",
       "    <tr>\n",
       "      <th>1</th>\n",
       "      <td>2011-01-01 01:00:00</td>\n",
       "      <td>1</td>\n",
       "      <td>0</td>\n",
       "      <td>0</td>\n",
       "      <td>1</td>\n",
       "      <td>9.02</td>\n",
       "      <td>13.635</td>\n",
       "      <td>80</td>\n",
       "      <td>0.0</td>\n",
       "      <td>8.0</td>\n",
       "      <td>32.0</td>\n",
       "      <td>40.0</td>\n",
       "      <td>2011-01-01</td>\n",
       "      <td>2011</td>\n",
       "      <td>01</td>\n",
       "      <td>01</td>\n",
       "      <td>5</td>\n",
       "    </tr>\n",
       "    <tr>\n",
       "      <th>2</th>\n",
       "      <td>2011-01-01 02:00:00</td>\n",
       "      <td>1</td>\n",
       "      <td>0</td>\n",
       "      <td>0</td>\n",
       "      <td>1</td>\n",
       "      <td>9.02</td>\n",
       "      <td>13.635</td>\n",
       "      <td>80</td>\n",
       "      <td>0.0</td>\n",
       "      <td>5.0</td>\n",
       "      <td>27.0</td>\n",
       "      <td>32.0</td>\n",
       "      <td>2011-01-01</td>\n",
       "      <td>2011</td>\n",
       "      <td>01</td>\n",
       "      <td>02</td>\n",
       "      <td>5</td>\n",
       "    </tr>\n",
       "    <tr>\n",
       "      <th>3</th>\n",
       "      <td>2011-01-01 03:00:00</td>\n",
       "      <td>1</td>\n",
       "      <td>0</td>\n",
       "      <td>0</td>\n",
       "      <td>1</td>\n",
       "      <td>9.84</td>\n",
       "      <td>14.395</td>\n",
       "      <td>75</td>\n",
       "      <td>0.0</td>\n",
       "      <td>3.0</td>\n",
       "      <td>10.0</td>\n",
       "      <td>13.0</td>\n",
       "      <td>2011-01-01</td>\n",
       "      <td>2011</td>\n",
       "      <td>01</td>\n",
       "      <td>03</td>\n",
       "      <td>5</td>\n",
       "    </tr>\n",
       "    <tr>\n",
       "      <th>4</th>\n",
       "      <td>2011-01-01 04:00:00</td>\n",
       "      <td>1</td>\n",
       "      <td>0</td>\n",
       "      <td>0</td>\n",
       "      <td>1</td>\n",
       "      <td>9.84</td>\n",
       "      <td>14.395</td>\n",
       "      <td>75</td>\n",
       "      <td>0.0</td>\n",
       "      <td>0.0</td>\n",
       "      <td>1.0</td>\n",
       "      <td>1.0</td>\n",
       "      <td>2011-01-01</td>\n",
       "      <td>2011</td>\n",
       "      <td>01</td>\n",
       "      <td>04</td>\n",
       "      <td>5</td>\n",
       "    </tr>\n",
       "  </tbody>\n",
       "</table>\n",
       "</div>"
      ],
      "text/plain": [
       "              datetime  season  holiday  workingday  weather  temp   atemp  \\\n",
       "0  2011-01-01 00:00:00       1        0           0        1  9.84  14.395   \n",
       "1  2011-01-01 01:00:00       1        0           0        1  9.02  13.635   \n",
       "2  2011-01-01 02:00:00       1        0           0        1  9.02  13.635   \n",
       "3  2011-01-01 03:00:00       1        0           0        1  9.84  14.395   \n",
       "4  2011-01-01 04:00:00       1        0           0        1  9.84  14.395   \n",
       "\n",
       "   humidity  windspeed  casual  registered  count        date  year month  \\\n",
       "0        81        0.0     3.0        13.0   16.0  2011-01-01  2011    01   \n",
       "1        80        0.0     8.0        32.0   40.0  2011-01-01  2011    01   \n",
       "2        80        0.0     5.0        27.0   32.0  2011-01-01  2011    01   \n",
       "3        75        0.0     3.0        10.0   13.0  2011-01-01  2011    01   \n",
       "4        75        0.0     0.0         1.0    1.0  2011-01-01  2011    01   \n",
       "\n",
       "  hour  weekday  \n",
       "0   00        5  \n",
       "1   01        5  \n",
       "2   02        5  \n",
       "3   03        5  \n",
       "4   04        5  "
      ]
     },
     "execution_count": 5,
     "metadata": {},
     "output_type": "execute_result"
    }
   ],
   "source": [
    "from datetime import datetime\n",
    "\n",
    "all_data['date'] = all_data['datetime'].apply(lambda x: x.split()[0])\n",
    "all_data['year'] = all_data['date'].apply(lambda x: x.split('-')[0])\n",
    "all_data['month'] = all_data['date'].apply(lambda x: x.split('-')[1])\n",
    "all_data['hour'] = all_data['datetime'].apply(lambda x: x.split()[1].split(':')[0])\n",
    "all_data['weekday'] = all_data['date'].apply(lambda x: datetime.strptime(x, '%Y-%m-%d').weekday())\n",
    "all_data.head()"
   ]
  },
  {
   "cell_type": "code",
   "execution_count": 6,
   "id": "a5932749",
   "metadata": {
    "execution": {
     "iopub.execute_input": "2022-08-26T06:11:12.040604Z",
     "iopub.status.busy": "2022-08-26T06:11:12.040240Z",
     "iopub.status.idle": "2022-08-26T06:11:12.047926Z",
     "shell.execute_reply": "2022-08-26T06:11:12.046809Z"
    },
    "papermill": {
     "duration": 0.018887,
     "end_time": "2022-08-26T06:11:12.050447",
     "exception": false,
     "start_time": "2022-08-26T06:11:12.031560",
     "status": "completed"
    },
    "tags": []
   },
   "outputs": [
    {
     "data": {
      "text/plain": [
       "Index(['datetime', 'season', 'holiday', 'workingday', 'weather', 'temp',\n",
       "       'atemp', 'humidity', 'windspeed', 'casual', 'registered', 'count',\n",
       "       'date', 'year', 'month', 'hour', 'weekday'],\n",
       "      dtype='object')"
      ]
     },
     "execution_count": 6,
     "metadata": {},
     "output_type": "execute_result"
    }
   ],
   "source": [
    "all_data.columns"
   ]
  },
  {
   "cell_type": "code",
   "execution_count": 7,
   "id": "5017fbe4",
   "metadata": {
    "execution": {
     "iopub.execute_input": "2022-08-26T06:11:12.066938Z",
     "iopub.status.busy": "2022-08-26T06:11:12.066613Z",
     "iopub.status.idle": "2022-08-26T06:11:12.083905Z",
     "shell.execute_reply": "2022-08-26T06:11:12.082923Z"
    },
    "papermill": {
     "duration": 0.028789,
     "end_time": "2022-08-26T06:11:12.086746",
     "exception": false,
     "start_time": "2022-08-26T06:11:12.057957",
     "status": "completed"
    },
    "tags": []
   },
   "outputs": [
    {
     "data": {
      "text/html": [
       "<div>\n",
       "<style scoped>\n",
       "    .dataframe tbody tr th:only-of-type {\n",
       "        vertical-align: middle;\n",
       "    }\n",
       "\n",
       "    .dataframe tbody tr th {\n",
       "        vertical-align: top;\n",
       "    }\n",
       "\n",
       "    .dataframe thead th {\n",
       "        text-align: right;\n",
       "    }\n",
       "</style>\n",
       "<table border=\"1\" class=\"dataframe\">\n",
       "  <thead>\n",
       "    <tr style=\"text-align: right;\">\n",
       "      <th></th>\n",
       "      <th>season</th>\n",
       "      <th>holiday</th>\n",
       "      <th>workingday</th>\n",
       "      <th>weather</th>\n",
       "      <th>temp</th>\n",
       "      <th>atemp</th>\n",
       "      <th>humidity</th>\n",
       "      <th>count</th>\n",
       "      <th>year</th>\n",
       "      <th>hour</th>\n",
       "      <th>weekday</th>\n",
       "    </tr>\n",
       "  </thead>\n",
       "  <tbody>\n",
       "    <tr>\n",
       "      <th>0</th>\n",
       "      <td>1</td>\n",
       "      <td>0</td>\n",
       "      <td>0</td>\n",
       "      <td>1</td>\n",
       "      <td>9.84</td>\n",
       "      <td>14.395</td>\n",
       "      <td>81</td>\n",
       "      <td>16.0</td>\n",
       "      <td>2011</td>\n",
       "      <td>00</td>\n",
       "      <td>5</td>\n",
       "    </tr>\n",
       "    <tr>\n",
       "      <th>1</th>\n",
       "      <td>1</td>\n",
       "      <td>0</td>\n",
       "      <td>0</td>\n",
       "      <td>1</td>\n",
       "      <td>9.02</td>\n",
       "      <td>13.635</td>\n",
       "      <td>80</td>\n",
       "      <td>40.0</td>\n",
       "      <td>2011</td>\n",
       "      <td>01</td>\n",
       "      <td>5</td>\n",
       "    </tr>\n",
       "    <tr>\n",
       "      <th>2</th>\n",
       "      <td>1</td>\n",
       "      <td>0</td>\n",
       "      <td>0</td>\n",
       "      <td>1</td>\n",
       "      <td>9.02</td>\n",
       "      <td>13.635</td>\n",
       "      <td>80</td>\n",
       "      <td>32.0</td>\n",
       "      <td>2011</td>\n",
       "      <td>02</td>\n",
       "      <td>5</td>\n",
       "    </tr>\n",
       "    <tr>\n",
       "      <th>3</th>\n",
       "      <td>1</td>\n",
       "      <td>0</td>\n",
       "      <td>0</td>\n",
       "      <td>1</td>\n",
       "      <td>9.84</td>\n",
       "      <td>14.395</td>\n",
       "      <td>75</td>\n",
       "      <td>13.0</td>\n",
       "      <td>2011</td>\n",
       "      <td>03</td>\n",
       "      <td>5</td>\n",
       "    </tr>\n",
       "    <tr>\n",
       "      <th>4</th>\n",
       "      <td>1</td>\n",
       "      <td>0</td>\n",
       "      <td>0</td>\n",
       "      <td>1</td>\n",
       "      <td>9.84</td>\n",
       "      <td>14.395</td>\n",
       "      <td>75</td>\n",
       "      <td>1.0</td>\n",
       "      <td>2011</td>\n",
       "      <td>04</td>\n",
       "      <td>5</td>\n",
       "    </tr>\n",
       "  </tbody>\n",
       "</table>\n",
       "</div>"
      ],
      "text/plain": [
       "   season  holiday  workingday  weather  temp   atemp  humidity  count  year  \\\n",
       "0       1        0           0        1  9.84  14.395        81   16.0  2011   \n",
       "1       1        0           0        1  9.02  13.635        80   40.0  2011   \n",
       "2       1        0           0        1  9.02  13.635        80   32.0  2011   \n",
       "3       1        0           0        1  9.84  14.395        75   13.0  2011   \n",
       "4       1        0           0        1  9.84  14.395        75    1.0  2011   \n",
       "\n",
       "  hour  weekday  \n",
       "0   00        5  \n",
       "1   01        5  \n",
       "2   02        5  \n",
       "3   03        5  \n",
       "4   04        5  "
      ]
     },
     "execution_count": 7,
     "metadata": {},
     "output_type": "execute_result"
    }
   ],
   "source": [
    "# 필요없는 컬럼 제거\n",
    "all_data = all_data.drop(['windspeed', 'casual', 'registered', 'datetime', 'date', 'month'], axis=1)\n",
    "all_data.head()"
   ]
  },
  {
   "cell_type": "markdown",
   "id": "b4a02530",
   "metadata": {
    "papermill": {
     "duration": 0.007646,
     "end_time": "2022-08-26T06:11:12.102234",
     "exception": false,
     "start_time": "2022-08-26T06:11:12.094588",
     "status": "completed"
    },
    "tags": []
   },
   "source": [
    "### train test 로 다시 나누기"
   ]
  },
  {
   "cell_type": "code",
   "execution_count": 8,
   "id": "4f9e3cf9",
   "metadata": {
    "execution": {
     "iopub.execute_input": "2022-08-26T06:11:12.120112Z",
     "iopub.status.busy": "2022-08-26T06:11:12.119633Z",
     "iopub.status.idle": "2022-08-26T06:11:12.129211Z",
     "shell.execute_reply": "2022-08-26T06:11:12.128566Z"
    },
    "papermill": {
     "duration": 0.020734,
     "end_time": "2022-08-26T06:11:12.131296",
     "exception": false,
     "start_time": "2022-08-26T06:11:12.110562",
     "status": "completed"
    },
    "tags": []
   },
   "outputs": [],
   "source": [
    "X_train = all_data[~pd.isnull(all_data['count'])]\n",
    "X_test = all_data[pd.isnull(all_data['count'])]\n",
    "\n",
    "# train data 에서 target 값인 count 제거\n",
    "X_train = X_train.drop(['count'], axis=1)\n",
    "X_test = X_test.drop(['count'], axis=1)\n",
    "\n",
    "# y 값에 타깃 지정\n",
    "# y = all_data['count']\n",
    "# y = y.dropna()\n",
    "\n",
    "y = train['count']"
   ]
  },
  {
   "cell_type": "code",
   "execution_count": 9,
   "id": "2b134fd2",
   "metadata": {
    "execution": {
     "iopub.execute_input": "2022-08-26T06:11:12.148000Z",
     "iopub.status.busy": "2022-08-26T06:11:12.147479Z",
     "iopub.status.idle": "2022-08-26T06:11:12.153158Z",
     "shell.execute_reply": "2022-08-26T06:11:12.152575Z"
    },
    "papermill": {
     "duration": 0.015899,
     "end_time": "2022-08-26T06:11:12.154740",
     "exception": false,
     "start_time": "2022-08-26T06:11:12.138841",
     "status": "completed"
    },
    "tags": []
   },
   "outputs": [
    {
     "data": {
      "text/plain": [
       "((10885, 10), (10885,))"
      ]
     },
     "execution_count": 9,
     "metadata": {},
     "output_type": "execute_result"
    }
   ],
   "source": [
    "X_train.shape, y.shape"
   ]
  },
  {
   "cell_type": "markdown",
   "id": "ff86cdb3",
   "metadata": {
    "papermill": {
     "duration": 0.006881,
     "end_time": "2022-08-26T06:11:12.168955",
     "exception": false,
     "start_time": "2022-08-26T06:11:12.162074",
     "status": "completed"
    },
    "tags": []
   },
   "source": [
    "### 6.4.2 평가지표 계산 함수 작성"
   ]
  },
  {
   "cell_type": "code",
   "execution_count": 10,
   "id": "6930a581",
   "metadata": {
    "execution": {
     "iopub.execute_input": "2022-08-26T06:11:12.185840Z",
     "iopub.status.busy": "2022-08-26T06:11:12.184729Z",
     "iopub.status.idle": "2022-08-26T06:11:12.193197Z",
     "shell.execute_reply": "2022-08-26T06:11:12.191299Z"
    },
    "papermill": {
     "duration": 0.019529,
     "end_time": "2022-08-26T06:11:12.195664",
     "exception": false,
     "start_time": "2022-08-26T06:11:12.176135",
     "status": "completed"
    },
    "tags": []
   },
   "outputs": [],
   "source": [
    "def rmsle(y_true, y_pred, convertExp=True):\n",
    "    # 지수변환\n",
    "    if convertExp:\n",
    "        y_true = np.exp(y_true)\n",
    "        y_pred = np.exp(y_pred)\n",
    "        \n",
    "    # 로그변환 후 결측값을 0으로 변환\n",
    "    log_true = np.nan_to_num(np.log(y_true+1))\n",
    "    log_pred = np.nan_to_num(np.log(y_pred+1))\n",
    "    \n",
    "    # RMSLE 계산\n",
    "    output = np.sqrt(np.mean((log_true - log_pred)**2))\n",
    "    return output"
   ]
  },
  {
   "cell_type": "markdown",
   "id": "f9de98b9",
   "metadata": {
    "papermill": {
     "duration": 0.008037,
     "end_time": "2022-08-26T06:11:12.211719",
     "exception": false,
     "start_time": "2022-08-26T06:11:12.203682",
     "status": "completed"
    },
    "tags": []
   },
   "source": [
    "### 6.4.3 모델 훈련"
   ]
  },
  {
   "cell_type": "code",
   "execution_count": 11,
   "id": "73fcb823",
   "metadata": {
    "execution": {
     "iopub.execute_input": "2022-08-26T06:11:12.229734Z",
     "iopub.status.busy": "2022-08-26T06:11:12.229375Z",
     "iopub.status.idle": "2022-08-26T06:11:12.531969Z",
     "shell.execute_reply": "2022-08-26T06:11:12.530732Z"
    },
    "papermill": {
     "duration": 0.315582,
     "end_time": "2022-08-26T06:11:12.535378",
     "exception": false,
     "start_time": "2022-08-26T06:11:12.219796",
     "status": "completed"
    },
    "tags": []
   },
   "outputs": [],
   "source": [
    "from sklearn.linear_model import LinearRegression\n",
    "\n",
    "linear_reg_model = LinearRegression()"
   ]
  },
  {
   "cell_type": "code",
   "execution_count": 12,
   "id": "0e964d23",
   "metadata": {
    "execution": {
     "iopub.execute_input": "2022-08-26T06:11:12.555826Z",
     "iopub.status.busy": "2022-08-26T06:11:12.555310Z",
     "iopub.status.idle": "2022-08-26T06:11:12.599220Z",
     "shell.execute_reply": "2022-08-26T06:11:12.598449Z"
    },
    "papermill": {
     "duration": 0.05666,
     "end_time": "2022-08-26T06:11:12.601809",
     "exception": false,
     "start_time": "2022-08-26T06:11:12.545149",
     "status": "completed"
    },
    "tags": []
   },
   "outputs": [
    {
     "data": {
      "text/plain": [
       "LinearRegression()"
      ]
     },
     "execution_count": 12,
     "metadata": {},
     "output_type": "execute_result"
    }
   ],
   "source": [
    "# 타깃값(count) log 변환 '''정규분포에 가깝게 변환해야 결과가 잘나온다.'''\n",
    "log_y = np.log(y)\n",
    "linear_reg_model.fit(X_train, log_y)"
   ]
  },
  {
   "cell_type": "code",
   "execution_count": 13,
   "id": "1ab5d672",
   "metadata": {
    "execution": {
     "iopub.execute_input": "2022-08-26T06:11:12.624424Z",
     "iopub.status.busy": "2022-08-26T06:11:12.623761Z",
     "iopub.status.idle": "2022-08-26T06:11:12.629257Z",
     "shell.execute_reply": "2022-08-26T06:11:12.628582Z"
    },
    "papermill": {
     "duration": 0.018789,
     "end_time": "2022-08-26T06:11:12.631065",
     "exception": false,
     "start_time": "2022-08-26T06:11:12.612276",
     "status": "completed"
    },
    "tags": []
   },
   "outputs": [
    {
     "data": {
      "text/plain": [
       "((10885, 10), (10885,))"
      ]
     },
     "execution_count": 13,
     "metadata": {},
     "output_type": "execute_result"
    }
   ],
   "source": [
    "X_train.shape, log_y.shape"
   ]
  },
  {
   "cell_type": "markdown",
   "id": "34ce5934",
   "metadata": {
    "papermill": {
     "duration": 0.010011,
     "end_time": "2022-08-26T06:11:12.651197",
     "exception": false,
     "start_time": "2022-08-26T06:11:12.641186",
     "status": "completed"
    },
    "tags": []
   },
   "source": [
    "### 6.4.4 모델 성능 검증"
   ]
  },
  {
   "cell_type": "code",
   "execution_count": 14,
   "id": "aef34134",
   "metadata": {
    "execution": {
     "iopub.execute_input": "2022-08-26T06:11:12.673126Z",
     "iopub.status.busy": "2022-08-26T06:11:12.672524Z",
     "iopub.status.idle": "2022-08-26T06:11:12.701431Z",
     "shell.execute_reply": "2022-08-26T06:11:12.700589Z"
    },
    "papermill": {
     "duration": 0.042694,
     "end_time": "2022-08-26T06:11:12.704156",
     "exception": false,
     "start_time": "2022-08-26T06:11:12.661462",
     "status": "completed"
    },
    "tags": []
   },
   "outputs": [
    {
     "name": "stdout",
     "output_type": "stream",
     "text": [
      "선형회귀의 RMSLE 값 : 1.0205\n"
     ]
    }
   ],
   "source": [
    "preds = linear_reg_model.predict(X_train)\n",
    "print(f'선형회귀의 RMSLE 값 : {rmsle(log_y, preds, True):.4f}')"
   ]
  },
  {
   "cell_type": "markdown",
   "id": "9f804cfc",
   "metadata": {
    "execution": {
     "iopub.execute_input": "2022-08-26T05:42:18.715676Z",
     "iopub.status.busy": "2022-08-26T05:42:18.715173Z",
     "iopub.status.idle": "2022-08-26T05:42:18.721558Z",
     "shell.execute_reply": "2022-08-26T05:42:18.720637Z",
     "shell.execute_reply.started": "2022-08-26T05:42:18.715610Z"
    },
    "papermill": {
     "duration": 0.009677,
     "end_time": "2022-08-26T06:11:12.724180",
     "exception": false,
     "start_time": "2022-08-26T06:11:12.714503",
     "status": "completed"
    },
    "tags": []
   },
   "source": [
    "sklearn 에 있는 msle 함수에 sqrt 씌움, 위의 만든 함수와의 차이를 보고 싶어서...  그러나 실패.\n",
    "```python\n",
    "from sklearn.metrics import mean_squared_log_error\n",
    "MSLE = mean_squared_log_error(log_y, preds)\n",
    "RMSLE = np.sqrt(MSLE)\n",
    "\n",
    "print('sklearn metrics MSLE :', MSLE)\n",
    "print('sklearn metrics RMSLE :', RMSLE)\n",
    "```"
   ]
  },
  {
   "cell_type": "markdown",
   "id": "0cd2cf84",
   "metadata": {
    "execution": {
     "iopub.execute_input": "2022-08-25T14:58:37.977583Z",
     "iopub.status.busy": "2022-08-25T14:58:37.977023Z",
     "iopub.status.idle": "2022-08-25T14:58:38.042166Z",
     "shell.execute_reply": "2022-08-25T14:58:38.037364Z",
     "shell.execute_reply.started": "2022-08-25T14:58:37.977537Z"
    },
    "papermill": {
     "duration": 0.010389,
     "end_time": "2022-08-26T06:11:12.744691",
     "exception": false,
     "start_time": "2022-08-26T06:11:12.734302",
     "status": "completed"
    },
    "tags": []
   },
   "source": [
    "### 예측 및 결과 제출"
   ]
  },
  {
   "cell_type": "code",
   "execution_count": 15,
   "id": "443696eb",
   "metadata": {
    "execution": {
     "iopub.execute_input": "2022-08-26T06:11:12.767811Z",
     "iopub.status.busy": "2022-08-26T06:11:12.766685Z",
     "iopub.status.idle": "2022-08-26T06:11:12.805095Z",
     "shell.execute_reply": "2022-08-26T06:11:12.804220Z"
    },
    "papermill": {
     "duration": 0.052308,
     "end_time": "2022-08-26T06:11:12.807465",
     "exception": false,
     "start_time": "2022-08-26T06:11:12.755157",
     "status": "completed"
    },
    "tags": []
   },
   "outputs": [],
   "source": [
    "linearreg_preds = linear_reg_model.predict(X_test) # 테스트 데이터로 예측\n",
    "\n",
    "submission['count'] = np.exp(linearreg_preds)    # 지수변환\n",
    "submission.to_csv('submission.csv', index=False) # 파일로 저장"
   ]
  },
  {
   "cell_type": "code",
   "execution_count": 16,
   "id": "c50ec05d",
   "metadata": {
    "execution": {
     "iopub.execute_input": "2022-08-26T06:11:12.829425Z",
     "iopub.status.busy": "2022-08-26T06:11:12.828765Z",
     "iopub.status.idle": "2022-08-26T06:11:12.834779Z",
     "shell.execute_reply": "2022-08-26T06:11:12.834086Z"
    },
    "papermill": {
     "duration": 0.02177,
     "end_time": "2022-08-26T06:11:12.839124",
     "exception": false,
     "start_time": "2022-08-26T06:11:12.817354",
     "status": "completed"
    },
    "tags": []
   },
   "outputs": [
    {
     "data": {
      "text/plain": [
       "((6493, 10), (6493,), (6493, 2))"
      ]
     },
     "execution_count": 16,
     "metadata": {},
     "output_type": "execute_result"
    }
   ],
   "source": [
    "X_test.shape, linearreg_preds.shape, submission.shape\n",
    "\n",
    "# test 파일도 weather = 4 라는 이상치를 제거해줄 경우 제출하는 파일과 길이가 달라버리게 된다.\n",
    "# 그러므로 wather = 4 를 가진 train 만 정리해야한다."
   ]
  },
  {
   "cell_type": "markdown",
   "id": "7a46e1f8",
   "metadata": {
    "papermill": {
     "duration": 0.009471,
     "end_time": "2022-08-26T06:11:12.858373",
     "exception": false,
     "start_time": "2022-08-26T06:11:12.848902",
     "status": "completed"
    },
    "tags": []
   },
   "source": [
    "## 6.5 ~ 6.7 모델 성능 개선"
   ]
  },
  {
   "cell_type": "code",
   "execution_count": null,
   "id": "435497a2",
   "metadata": {
    "papermill": {
     "duration": 0.009204,
     "end_time": "2022-08-26T06:11:12.877649",
     "exception": false,
     "start_time": "2022-08-26T06:11:12.868445",
     "status": "completed"
    },
    "tags": []
   },
   "outputs": [],
   "source": []
  },
  {
   "cell_type": "code",
   "execution_count": null,
   "id": "a024249d",
   "metadata": {
    "papermill": {
     "duration": 0.009741,
     "end_time": "2022-08-26T06:11:12.896948",
     "exception": false,
     "start_time": "2022-08-26T06:11:12.887207",
     "status": "completed"
    },
    "tags": []
   },
   "outputs": [],
   "source": []
  },
  {
   "cell_type": "code",
   "execution_count": null,
   "id": "159560a7",
   "metadata": {
    "papermill": {
     "duration": 0.007003,
     "end_time": "2022-08-26T06:11:12.911821",
     "exception": false,
     "start_time": "2022-08-26T06:11:12.904818",
     "status": "completed"
    },
    "tags": []
   },
   "outputs": [],
   "source": []
  },
  {
   "cell_type": "code",
   "execution_count": null,
   "id": "4b49d424",
   "metadata": {
    "papermill": {
     "duration": 0.00689,
     "end_time": "2022-08-26T06:11:12.925856",
     "exception": false,
     "start_time": "2022-08-26T06:11:12.918966",
     "status": "completed"
    },
    "tags": []
   },
   "outputs": [],
   "source": []
  },
  {
   "cell_type": "code",
   "execution_count": null,
   "id": "b0523f35",
   "metadata": {
    "papermill": {
     "duration": 0.007213,
     "end_time": "2022-08-26T06:11:12.940276",
     "exception": false,
     "start_time": "2022-08-26T06:11:12.933063",
     "status": "completed"
    },
    "tags": []
   },
   "outputs": [],
   "source": []
  },
  {
   "cell_type": "code",
   "execution_count": null,
   "id": "3d6b2b9b",
   "metadata": {
    "papermill": {
     "duration": 0.00706,
     "end_time": "2022-08-26T06:11:12.954482",
     "exception": false,
     "start_time": "2022-08-26T06:11:12.947422",
     "status": "completed"
    },
    "tags": []
   },
   "outputs": [],
   "source": []
  },
  {
   "cell_type": "code",
   "execution_count": null,
   "id": "617372cc",
   "metadata": {
    "papermill": {
     "duration": 0.007048,
     "end_time": "2022-08-26T06:11:12.968953",
     "exception": false,
     "start_time": "2022-08-26T06:11:12.961905",
     "status": "completed"
    },
    "tags": []
   },
   "outputs": [],
   "source": []
  }
 ],
 "metadata": {
  "kernelspec": {
   "display_name": "Python 3",
   "language": "python",
   "name": "python3"
  },
  "language_info": {
   "codemirror_mode": {
    "name": "ipython",
    "version": 3
   },
   "file_extension": ".py",
   "mimetype": "text/x-python",
   "name": "python",
   "nbconvert_exporter": "python",
   "pygments_lexer": "ipython3",
   "version": "3.7.12"
  },
  "papermill": {
   "default_parameters": {},
   "duration": 11.408562,
   "end_time": "2022-08-26T06:11:13.696910",
   "environment_variables": {},
   "exception": null,
   "input_path": "__notebook__.ipynb",
   "output_path": "__notebook__.ipynb",
   "parameters": {},
   "start_time": "2022-08-26T06:11:02.288348",
   "version": "2.3.4"
  }
 },
 "nbformat": 4,
 "nbformat_minor": 5
}
