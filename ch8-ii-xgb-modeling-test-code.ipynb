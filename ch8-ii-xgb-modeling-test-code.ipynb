{
 "cells": [
  {
   "cell_type": "markdown",
   "id": "06e4c56e",
   "metadata": {
    "papermill": {
     "duration": 0.007653,
     "end_time": "2022-08-30T06:37:40.145224",
     "exception": false,
     "start_time": "2022-08-30T06:37:40.137571",
     "status": "completed"
    },
    "tags": []
   },
   "source": [
    "## 8.5 성능 개선 II: XGBoost model"
   ]
  },
  {
   "cell_type": "code",
   "execution_count": 1,
   "id": "b8b759b4",
   "metadata": {
    "_cell_guid": "b1076dfc-b9ad-4769-8c92-a6c4dae69d19",
    "_uuid": "8f2839f25d086af736a60e9eeb907d3b93b6e0e5",
    "execution": {
     "iopub.execute_input": "2022-08-30T06:37:40.160356Z",
     "iopub.status.busy": "2022-08-30T06:37:40.159871Z",
     "iopub.status.idle": "2022-08-30T06:37:50.689549Z",
     "shell.execute_reply": "2022-08-30T06:37:50.688382Z"
    },
    "papermill": {
     "duration": 10.540673,
     "end_time": "2022-08-30T06:37:50.692537",
     "exception": false,
     "start_time": "2022-08-30T06:37:40.151864",
     "status": "completed"
    },
    "tags": []
   },
   "outputs": [],
   "source": [
    "import numpy as np\n",
    "import pandas as pd\n",
    "\n",
    "# 데이터 경로\n",
    "data_path = '/kaggle/input/porto-seguro-safe-driver-prediction/'\n",
    "\n",
    "train = pd.read_csv(data_path + 'train.csv', index_col='id')\n",
    "test = pd.read_csv(data_path + 'test.csv', index_col='id')\n",
    "submission = pd.read_csv(data_path + 'sample_submission.csv', index_col='id')"
   ]
  },
  {
   "cell_type": "markdown",
   "id": "06425628",
   "metadata": {
    "papermill": {
     "duration": 0.006479,
     "end_time": "2022-08-30T06:37:50.705867",
     "exception": false,
     "start_time": "2022-08-30T06:37:50.699388",
     "status": "completed"
    },
    "tags": []
   },
   "source": [
    "### 8.5.1 feature engineering"
   ]
  },
  {
   "cell_type": "code",
   "execution_count": 2,
   "id": "00d449d5",
   "metadata": {
    "execution": {
     "iopub.execute_input": "2022-08-30T06:37:50.720705Z",
     "iopub.status.busy": "2022-08-30T06:37:50.720294Z",
     "iopub.status.idle": "2022-08-30T06:37:52.756541Z",
     "shell.execute_reply": "2022-08-30T06:37:52.754851Z"
    },
    "papermill": {
     "duration": 2.046879,
     "end_time": "2022-08-30T06:37:52.759331",
     "exception": false,
     "start_time": "2022-08-30T06:37:50.712452",
     "status": "completed"
    },
    "tags": []
   },
   "outputs": [],
   "source": [
    "# 데이터 합치기\n",
    "all_data = pd.concat([train, test], ignore_index=True)\n",
    "all_data = all_data.drop('target', axis=1) # 타깃값 제거\n",
    "\n",
    "all_features = all_data.columns # 전체 피처"
   ]
  },
  {
   "cell_type": "code",
   "execution_count": 3,
   "id": "b23b349d",
   "metadata": {
    "execution": {
     "iopub.execute_input": "2022-08-30T06:37:52.774935Z",
     "iopub.status.busy": "2022-08-30T06:37:52.774185Z",
     "iopub.status.idle": "2022-08-30T06:37:56.437953Z",
     "shell.execute_reply": "2022-08-30T06:37:56.436893Z"
    },
    "papermill": {
     "duration": 3.674317,
     "end_time": "2022-08-30T06:37:56.440687",
     "exception": false,
     "start_time": "2022-08-30T06:37:52.766370",
     "status": "completed"
    },
    "tags": []
   },
   "outputs": [],
   "source": [
    "# 명목형 피처 원 핫 인코딩\n",
    "from sklearn.preprocessing import OneHotEncoder\n",
    "\n",
    "# 명목형 피처\n",
    "cat_features = [feature for feature in all_features if 'cat' in feature]\n",
    "\n",
    "# 원-핫 인코딩 적용\n",
    "onehot_encoder = OneHotEncoder()\n",
    "encoded_cat_matrix = onehot_encoder.fit_transform(all_data[cat_features])"
   ]
  },
  {
   "cell_type": "code",
   "execution_count": 4,
   "id": "c4e5679e",
   "metadata": {
    "execution": {
     "iopub.execute_input": "2022-08-30T06:37:56.456335Z",
     "iopub.status.busy": "2022-08-30T06:37:56.455612Z",
     "iopub.status.idle": "2022-08-30T06:37:56.716875Z",
     "shell.execute_reply": "2022-08-30T06:37:56.715527Z"
    },
    "papermill": {
     "duration": 0.272571,
     "end_time": "2022-08-30T06:37:56.719891",
     "exception": false,
     "start_time": "2022-08-30T06:37:56.447320",
     "status": "completed"
    },
    "tags": []
   },
   "outputs": [],
   "source": [
    "# 파생 피처 추가\n",
    "# '데이터 하나당 결측값 개수'를 파생 피처로 추가\n",
    "all_data['num_missing'] = (all_data == -1).sum(axis=1)"
   ]
  },
  {
   "cell_type": "code",
   "execution_count": 5,
   "id": "5d6923d7",
   "metadata": {
    "execution": {
     "iopub.execute_input": "2022-08-30T06:37:56.734641Z",
     "iopub.status.busy": "2022-08-30T06:37:56.734120Z",
     "iopub.status.idle": "2022-08-30T06:37:56.742016Z",
     "shell.execute_reply": "2022-08-30T06:37:56.741008Z"
    },
    "papermill": {
     "duration": 0.018138,
     "end_time": "2022-08-30T06:37:56.744489",
     "exception": false,
     "start_time": "2022-08-30T06:37:56.726351",
     "status": "completed"
    },
    "tags": []
   },
   "outputs": [],
   "source": [
    "# 명목형 피처, calc 분류 피처를 제외한 피처\n",
    "remaining_features = [feature for feature in all_features\n",
    "                      if ('cat' not in feature and 'calc' not in feature)] \n",
    "# num_missing을 remaining_features에 추가\n",
    "remaining_features.append('num_missing')"
   ]
  },
  {
   "cell_type": "code",
   "execution_count": 6,
   "id": "8f64c237",
   "metadata": {
    "execution": {
     "iopub.execute_input": "2022-08-30T06:37:56.760191Z",
     "iopub.status.busy": "2022-08-30T06:37:56.759734Z",
     "iopub.status.idle": "2022-08-30T06:38:20.747289Z",
     "shell.execute_reply": "2022-08-30T06:38:20.745972Z"
    },
    "papermill": {
     "duration": 23.99891,
     "end_time": "2022-08-30T06:38:20.750466",
     "exception": false,
     "start_time": "2022-08-30T06:37:56.751556",
     "status": "completed"
    },
    "tags": []
   },
   "outputs": [],
   "source": [
    "# 분류가 ind인 피처\n",
    "ind_features = [feature for feature in all_features if 'ind' in feature]\n",
    "\n",
    "is_first_feature = True\n",
    "for ind_feature in ind_features:\n",
    "    if is_first_feature:\n",
    "        all_data['mix_ind'] = all_data[ind_feature].astype(str) + '_'\n",
    "        is_first_feature = False\n",
    "    else:\n",
    "        all_data['mix_ind'] += all_data[ind_feature].astype(str) + '_'"
   ]
  },
  {
   "cell_type": "code",
   "execution_count": 7,
   "id": "f74e4395",
   "metadata": {
    "execution": {
     "iopub.execute_input": "2022-08-30T06:38:20.765811Z",
     "iopub.status.busy": "2022-08-30T06:38:20.765403Z",
     "iopub.status.idle": "2022-08-30T06:38:20.776839Z",
     "shell.execute_reply": "2022-08-30T06:38:20.775602Z"
    },
    "papermill": {
     "duration": 0.021625,
     "end_time": "2022-08-30T06:38:20.779086",
     "exception": false,
     "start_time": "2022-08-30T06:38:20.757461",
     "status": "completed"
    },
    "tags": []
   },
   "outputs": [
    {
     "data": {
      "text/plain": [
       "0          2_2_5_1_0_0_1_0_0_0_0_0_0_0_11_0_1_0_\n",
       "1           1_1_7_0_0_0_0_1_0_0_0_0_0_0_3_0_0_1_\n",
       "2          5_4_9_1_0_0_0_1_0_0_0_0_0_0_12_1_0_0_\n",
       "3           0_1_2_0_0_1_0_0_0_0_0_0_0_0_8_1_0_0_\n",
       "4           0_2_0_1_0_1_0_0_0_0_0_0_0_0_9_1_0_0_\n",
       "                           ...                  \n",
       "1488023     0_1_6_0_0_0_1_0_0_0_0_0_0_0_2_0_0_1_\n",
       "1488024    5_3_5_1_0_0_0_1_0_0_0_0_0_0_11_1_0_0_\n",
       "1488025     0_1_5_0_0_1_0_0_0_0_0_0_0_0_5_0_0_1_\n",
       "1488026    6_1_5_1_0_0_0_0_1_0_0_0_0_0_13_1_0_0_\n",
       "1488027    7_1_4_1_0_0_0_0_1_0_0_0_0_0_12_1_0_0_\n",
       "Name: mix_ind, Length: 1488028, dtype: object"
      ]
     },
     "execution_count": 7,
     "metadata": {},
     "output_type": "execute_result"
    }
   ],
   "source": [
    "all_data['mix_ind']"
   ]
  },
  {
   "cell_type": "code",
   "execution_count": 8,
   "id": "14913896",
   "metadata": {
    "execution": {
     "iopub.execute_input": "2022-08-30T06:38:20.794597Z",
     "iopub.status.busy": "2022-08-30T06:38:20.794168Z",
     "iopub.status.idle": "2022-08-30T06:38:31.255210Z",
     "shell.execute_reply": "2022-08-30T06:38:31.253964Z"
    },
    "papermill": {
     "duration": 10.471812,
     "end_time": "2022-08-30T06:38:31.257864",
     "exception": false,
     "start_time": "2022-08-30T06:38:20.786052",
     "status": "completed"
    },
    "tags": []
   },
   "outputs": [],
   "source": [
    "cat_count_features = []\n",
    "for feature in cat_features+['mix_ind']:\n",
    "    val_counts_dict = all_data[feature].value_counts().to_dict()\n",
    "    all_data[f'{feature}_count'] = all_data[feature].apply(lambda x: \n",
    "                                                           val_counts_dict[x])\n",
    "    cat_count_features.append(f'{feature}_count')"
   ]
  },
  {
   "cell_type": "code",
   "execution_count": 9,
   "id": "7a30897e",
   "metadata": {
    "execution": {
     "iopub.execute_input": "2022-08-30T06:38:31.274187Z",
     "iopub.status.busy": "2022-08-30T06:38:31.273762Z",
     "iopub.status.idle": "2022-08-30T06:38:31.281176Z",
     "shell.execute_reply": "2022-08-30T06:38:31.280031Z"
    },
    "papermill": {
     "duration": 0.018945,
     "end_time": "2022-08-30T06:38:31.283597",
     "exception": false,
     "start_time": "2022-08-30T06:38:31.264652",
     "status": "completed"
    },
    "tags": []
   },
   "outputs": [
    {
     "data": {
      "text/plain": [
       "['ps_ind_02_cat_count',\n",
       " 'ps_ind_04_cat_count',\n",
       " 'ps_ind_05_cat_count',\n",
       " 'ps_car_01_cat_count',\n",
       " 'ps_car_02_cat_count',\n",
       " 'ps_car_03_cat_count',\n",
       " 'ps_car_04_cat_count',\n",
       " 'ps_car_05_cat_count',\n",
       " 'ps_car_06_cat_count',\n",
       " 'ps_car_07_cat_count',\n",
       " 'ps_car_08_cat_count',\n",
       " 'ps_car_09_cat_count',\n",
       " 'ps_car_10_cat_count',\n",
       " 'ps_car_11_cat_count',\n",
       " 'mix_ind_count']"
      ]
     },
     "execution_count": 9,
     "metadata": {},
     "output_type": "execute_result"
    }
   ],
   "source": [
    "cat_count_features"
   ]
  },
  {
   "cell_type": "code",
   "execution_count": 10,
   "id": "6da58e45",
   "metadata": {
    "execution": {
     "iopub.execute_input": "2022-08-30T06:38:31.299419Z",
     "iopub.status.busy": "2022-08-30T06:38:31.298971Z",
     "iopub.status.idle": "2022-08-30T06:38:39.440519Z",
     "shell.execute_reply": "2022-08-30T06:38:39.438946Z"
    },
    "papermill": {
     "duration": 8.152877,
     "end_time": "2022-08-30T06:38:39.443544",
     "exception": false,
     "start_time": "2022-08-30T06:38:31.290667",
     "status": "completed"
    },
    "tags": []
   },
   "outputs": [],
   "source": [
    "# 필요없는 피처 제거\n",
    "from scipy import sparse\n",
    "\n",
    "# 필요 없는 피처들\n",
    "drop_features = ['ps_ind_14', 'ps_ind_10_bin', 'ps_ind_11_bin', \n",
    "                 'ps_ind_12_bin', 'ps_ind_13_bin', 'ps_car_14']\n",
    "\n",
    "# remaining_features, cat_count_features에서 drop_features를 제거한 데이터\n",
    "all_data_ramaining = all_data[remaining_features+cat_count_features].drop(drop_features, axis=1)\n",
    "\n",
    "# 데이터 합치기\n",
    "all_data_sprs = sparse.hstack([sparse.csr_matrix(all_data_ramaining),\n",
    "                               encoded_cat_matrix], format='csr')"
   ]
  },
  {
   "cell_type": "code",
   "execution_count": 11,
   "id": "e78a0a5b",
   "metadata": {
    "execution": {
     "iopub.execute_input": "2022-08-30T06:38:39.459787Z",
     "iopub.status.busy": "2022-08-30T06:38:39.459374Z",
     "iopub.status.idle": "2022-08-30T06:38:40.963390Z",
     "shell.execute_reply": "2022-08-30T06:38:40.962173Z"
    },
    "papermill": {
     "duration": 1.51547,
     "end_time": "2022-08-30T06:38:40.966204",
     "exception": false,
     "start_time": "2022-08-30T06:38:39.450734",
     "status": "completed"
    },
    "tags": []
   },
   "outputs": [],
   "source": [
    "# 데이터 나누기\n",
    "num_train = len(train) # 훈련 데이터 개수\n",
    "\n",
    "# 훈련 데이터와 테스트 데이터 나누기\n",
    "X = all_data_sprs[:num_train]\n",
    "X_test = all_data_sprs[num_train:]\n",
    "\n",
    "y = train['target'].values"
   ]
  },
  {
   "cell_type": "code",
   "execution_count": 12,
   "id": "25f3a9f0",
   "metadata": {
    "execution": {
     "iopub.execute_input": "2022-08-30T06:38:40.982016Z",
     "iopub.status.busy": "2022-08-30T06:38:40.981575Z",
     "iopub.status.idle": "2022-08-30T06:38:40.991990Z",
     "shell.execute_reply": "2022-08-30T06:38:40.990489Z"
    },
    "papermill": {
     "duration": 0.021403,
     "end_time": "2022-08-30T06:38:40.994659",
     "exception": false,
     "start_time": "2022-08-30T06:38:40.973256",
     "status": "completed"
    },
    "tags": []
   },
   "outputs": [],
   "source": [
    "# 정규화 지니계수 계산 함수\n",
    "def eval_gini(y_true, y_pred):\n",
    "    # 실제값과 예측값의 크기가 같은지 확인 (값이 다르면 오류 발생)\n",
    "    assert y_true.shape == y_pred.shape\n",
    "\n",
    "    n_samples = y_true.shape[0]                      # 데이터 개수\n",
    "    L_mid = np.linspace(1 / n_samples, 1, n_samples) # 대각선 값\n",
    "\n",
    "    # 1) 예측값에 대한 지니계수\n",
    "    pred_order = y_true[y_pred.argsort()] # y_pred 크기순으로 y_true 값 정렬\n",
    "    L_pred = np.cumsum(pred_order) / np.sum(pred_order) # 로렌츠 곡선\n",
    "    G_pred = np.sum(L_mid - L_pred)       # 예측 값에 대한 지니계수\n",
    "\n",
    "    # 2) 예측이 완벽할 때 지니계수\n",
    "    true_order = y_true[y_true.argsort()] # y_true 크기순으로 y_true 값 정렬\n",
    "    L_true = np.cumsum(true_order) / np.sum(true_order) # 로렌츠 곡선\n",
    "    G_true = np.sum(L_mid - L_true)       # 예측이 완벽할 때 지니계수\n",
    "\n",
    "    # 정규화된 지니계수\n",
    "    return G_pred / G_true"
   ]
  },
  {
   "cell_type": "code",
   "execution_count": 13,
   "id": "061c453e",
   "metadata": {
    "execution": {
     "iopub.execute_input": "2022-08-30T06:38:41.010770Z",
     "iopub.status.busy": "2022-08-30T06:38:41.010344Z",
     "iopub.status.idle": "2022-08-30T06:38:41.016147Z",
     "shell.execute_reply": "2022-08-30T06:38:41.014845Z"
    },
    "papermill": {
     "duration": 0.016716,
     "end_time": "2022-08-30T06:38:41.018624",
     "exception": false,
     "start_time": "2022-08-30T06:38:41.001908",
     "status": "completed"
    },
    "tags": []
   },
   "outputs": [],
   "source": [
    "# XGBoost용 gini() 함수\n",
    "def gini(preds, dtrain):\n",
    "    labels = dtrain.get_label()\n",
    "    return 'gini', eval_gini(labels, preds)"
   ]
  },
  {
   "cell_type": "markdown",
   "id": "3c09ed45",
   "metadata": {
    "papermill": {
     "duration": 0.007329,
     "end_time": "2022-08-30T06:38:41.033121",
     "exception": false,
     "start_time": "2022-08-30T06:38:41.025792",
     "status": "completed"
    },
    "tags": []
   },
   "source": [
    "### 8.5.2 Optimization Hyperparameter"
   ]
  },
  {
   "cell_type": "code",
   "execution_count": 14,
   "id": "0bd34e08",
   "metadata": {
    "execution": {
     "iopub.execute_input": "2022-08-30T06:38:41.049866Z",
     "iopub.status.busy": "2022-08-30T06:38:41.049092Z",
     "iopub.status.idle": "2022-08-30T06:38:41.938318Z",
     "shell.execute_reply": "2022-08-30T06:38:41.937309Z"
    },
    "papermill": {
     "duration": 0.900672,
     "end_time": "2022-08-30T06:38:41.941105",
     "exception": false,
     "start_time": "2022-08-30T06:38:41.040433",
     "status": "completed"
    },
    "tags": []
   },
   "outputs": [],
   "source": [
    "# 데이터셋 준비\n",
    "import xgboost as xgb\n",
    "from sklearn.model_selection import train_test_split\n",
    "\n",
    "# 8:2 비율로 훈련 데이터, 검증 데이터 분리 (베이지안 최적화 수행용)\n",
    "X_train, X_valid, y_train, y_valid = train_test_split(X, y, \n",
    "                                                      test_size=0.2, \n",
    "                                                      random_state=0)\n",
    "# 베이지안 최적화용 데이터셋\n",
    "bayes_dtrain = xgb.DMatrix(X_train, y_train)\n",
    "bayes_dvalid = xgb.DMatrix(X_valid, y_valid)"
   ]
  },
  {
   "cell_type": "code",
   "execution_count": 15,
   "id": "990aa5fe",
   "metadata": {
    "execution": {
     "iopub.execute_input": "2022-08-30T06:38:41.959401Z",
     "iopub.status.busy": "2022-08-30T06:38:41.958996Z",
     "iopub.status.idle": "2022-08-30T06:38:41.966429Z",
     "shell.execute_reply": "2022-08-30T06:38:41.965043Z"
    },
    "papermill": {
     "duration": 0.0187,
     "end_time": "2022-08-30T06:38:41.968840",
     "exception": false,
     "start_time": "2022-08-30T06:38:41.950140",
     "status": "completed"
    },
    "tags": []
   },
   "outputs": [],
   "source": [
    "# 하이퍼파라미터 범위 설정\n",
    "# 베이지안 최적화를 위한 하이퍼파라미터 범위\n",
    "param_bounds = {'max_depth': (4, 8),\n",
    "                'subsample': (0.6, 0.9),\n",
    "                'colsample_bytree': (0.7, 1.0),\n",
    "                'min_child_weight': (5, 7),\n",
    "                'gamma': (8, 11),\n",
    "                'reg_alpha': (7, 9),\n",
    "                'reg_lambda': (1.1, 1.5),\n",
    "                'scale_pos_weight': (1.4, 1.6)}\n",
    "\n",
    "# 값이 고정된 하이퍼파라미터\n",
    "fixed_params = {'objective': 'binary:logistic',\n",
    "                'learning_rate': 0.02,\n",
    "                'random_state': 1991}"
   ]
  },
  {
   "cell_type": "code",
   "execution_count": 16,
   "id": "8cff9007",
   "metadata": {
    "execution": {
     "iopub.execute_input": "2022-08-30T06:38:41.986097Z",
     "iopub.status.busy": "2022-08-30T06:38:41.985487Z",
     "iopub.status.idle": "2022-08-30T06:38:41.995388Z",
     "shell.execute_reply": "2022-08-30T06:38:41.994284Z"
    },
    "papermill": {
     "duration": 0.021499,
     "end_time": "2022-08-30T06:38:41.998081",
     "exception": false,
     "start_time": "2022-08-30T06:38:41.976582",
     "status": "completed"
    },
    "tags": []
   },
   "outputs": [],
   "source": [
    "# (베이지안 최적화용) 평가지표 계산 함수 작성\n",
    "def eval_function(max_depth, subsample, colsample_bytree, min_child_weight,\n",
    "                 reg_alpha, gamma, reg_lambda, scale_pos_weight):\n",
    "    '''최적화하려는 평가지표(지니계수) 계산 함수'''\n",
    "    # 베이지안 최적화를 수행할 하이퍼파라미터\n",
    "    params = {'max_depth': int(round(max_depth)),\n",
    "              'subsample': subsample,\n",
    "              'colsample_bytree': colsample_bytree,\n",
    "              'min_child_weight': min_child_weight,\n",
    "              'gamma': gamma,\n",
    "              'reg_alpha':reg_alpha,\n",
    "              'reg_lambda': reg_lambda,\n",
    "              'scale_pos_weight': scale_pos_weight}\n",
    "    # 값이 고정된 하이퍼파라미터도 추가\n",
    "    params.update(fixed_params)\n",
    "    \n",
    "    print('하이퍼파라미터 :', params)    \n",
    "        \n",
    "    # XGBoost 모델 훈련\n",
    "    xgb_model = xgb.train(params=params, \n",
    "                          dtrain=bayes_dtrain,\n",
    "                          num_boost_round=2000,\n",
    "                          evals=[(bayes_dvalid, 'bayes_dvalid')],\n",
    "                          maximize=True,\n",
    "                          feval=gini,\n",
    "                          early_stopping_rounds=200,\n",
    "                          verbose_eval=False)\n",
    "                           \n",
    "    best_iter = xgb_model.best_iteration # 최적 반복 횟수\n",
    "    # 검증 데이터로 예측 수행\n",
    "    preds = xgb_model.predict(bayes_dvalid, \n",
    "                              iteration_range=(0, best_iter))\n",
    "    # 지니계수 계산\n",
    "    gini_score = eval_gini(y_valid, preds)\n",
    "    print(f'지니계수 : {gini_score}\\n')\n",
    "    \n",
    "    return gini_score"
   ]
  },
  {
   "cell_type": "code",
   "execution_count": 17,
   "id": "7f10a580",
   "metadata": {
    "execution": {
     "iopub.execute_input": "2022-08-30T06:38:42.016069Z",
     "iopub.status.busy": "2022-08-30T06:38:42.015180Z",
     "iopub.status.idle": "2022-08-30T09:28:31.801952Z",
     "shell.execute_reply": "2022-08-30T09:28:31.798871Z"
    },
    "papermill": {
     "duration": 10189.807968,
     "end_time": "2022-08-30T09:28:31.813640",
     "exception": false,
     "start_time": "2022-08-30T06:38:42.005672",
     "status": "completed"
    },
    "tags": []
   },
   "outputs": [
    {
     "name": "stdout",
     "output_type": "stream",
     "text": [
      "|   iter    |  target   | colsam... |   gamma   | max_depth | min_ch... | reg_alpha | reg_la... | scale_... | subsample |\n",
      "-------------------------------------------------------------------------------------------------------------------------\n",
      "하이퍼파라미터 : {'max_depth': 6, 'subsample': 0.867531900234624, 'colsample_bytree': 0.8646440511781974, 'min_child_weight': 6.0897663659937935, 'gamma': 10.14556809911726, 'reg_alpha': 7.84730959867781, 'reg_lambda': 1.3583576452266626, 'scale_pos_weight': 1.4875174422525386, 'objective': 'binary:logistic', 'learning_rate': 0.02, 'random_state': 1991}\n"
     ]
    },
    {
     "name": "stderr",
     "output_type": "stream",
     "text": [
      "/opt/conda/lib/python3.7/site-packages/xgboost/training.py:36: UserWarning: `feval` is deprecated, use `custom_metric` instead.  They have different behavior when custom objective is also used.See https://xgboost.readthedocs.io/en/latest/tutorials/custom_metric_obj.html for details on the `custom_metric`.\n",
      "  \"`feval` is deprecated, use `custom_metric` instead.  They have \"\n"
     ]
    },
    {
     "name": "stdout",
     "output_type": "stream",
     "text": [
      "지니계수 : 0.28470429444834217\n",
      "\n",
      "| \u001b[0m 1       \u001b[0m | \u001b[0m 0.2847  \u001b[0m | \u001b[0m 0.8646  \u001b[0m | \u001b[0m 10.15   \u001b[0m | \u001b[0m 6.411   \u001b[0m | \u001b[0m 6.09    \u001b[0m | \u001b[0m 7.847   \u001b[0m | \u001b[0m 1.358   \u001b[0m | \u001b[0m 1.488   \u001b[0m | \u001b[0m 0.8675  \u001b[0m |\n",
      "하이퍼파라미터 : {'max_depth': 7, 'subsample': 0.6261387899104622, 'colsample_bytree': 0.9890988281503088, 'min_child_weight': 6.0577898395058085, 'gamma': 9.150324556477333, 'reg_alpha': 8.136089122187865, 'reg_lambda': 1.4702386553170643, 'scale_pos_weight': 1.4142072116395774, 'objective': 'binary:logistic', 'learning_rate': 0.02, 'random_state': 1991}\n",
      "지니계수 : 0.2851953200460391\n",
      "\n",
      "| \u001b[95m 2       \u001b[0m | \u001b[95m 0.2852  \u001b[0m | \u001b[95m 0.9891  \u001b[0m | \u001b[95m 9.15    \u001b[0m | \u001b[95m 7.167   \u001b[0m | \u001b[95m 6.058   \u001b[0m | \u001b[95m 8.136   \u001b[0m | \u001b[95m 1.47    \u001b[0m | \u001b[95m 1.414   \u001b[0m | \u001b[95m 0.6261  \u001b[0m |\n",
      "하이퍼파라미터 : {'max_depth': 7, 'subsample': 0.8341587528859367, 'colsample_bytree': 0.7060655192320977, 'min_child_weight': 6.7400242964936385, 'gamma': 10.497859536643814, 'reg_alpha': 8.957236684465528, 'reg_lambda': 1.4196634256866894, 'scale_pos_weight': 1.4922958724505864, 'objective': 'binary:logistic', 'learning_rate': 0.02, 'random_state': 1991}\n",
      "지니계수 : 0.28359402092703206\n",
      "\n",
      "| \u001b[0m 3       \u001b[0m | \u001b[0m 0.2836  \u001b[0m | \u001b[0m 0.7061  \u001b[0m | \u001b[0m 10.5    \u001b[0m | \u001b[0m 7.113   \u001b[0m | \u001b[0m 6.74    \u001b[0m | \u001b[0m 8.957   \u001b[0m | \u001b[0m 1.42    \u001b[0m | \u001b[0m 1.492   \u001b[0m | \u001b[0m 0.8342  \u001b[0m |\n",
      "하이퍼파라미터 : {'max_depth': 7, 'subsample': 0.7057465489757903, 'colsample_bytree': 0.9998951077352971, 'min_child_weight': 6.187240983605598, 'gamma': 9.270868061681206, 'reg_alpha': 8.219782862530412, 'reg_lambda': 1.177504564476268, 'scale_pos_weight': 1.509981196211439, 'objective': 'binary:logistic', 'learning_rate': 0.02, 'random_state': 1991}\n"
     ]
    },
    {
     "name": "stderr",
     "output_type": "stream",
     "text": [
      "/opt/conda/lib/python3.7/site-packages/xgboost/training.py:36: UserWarning: `feval` is deprecated, use `custom_metric` instead.  They have different behavior when custom objective is also used.See https://xgboost.readthedocs.io/en/latest/tutorials/custom_metric_obj.html for details on the `custom_metric`.\n",
      "  \"`feval` is deprecated, use `custom_metric` instead.  They have \"\n"
     ]
    },
    {
     "name": "stdout",
     "output_type": "stream",
     "text": [
      "지니계수 : 0.2844278865791322\n",
      "\n",
      "| \u001b[0m 4       \u001b[0m | \u001b[0m 0.2844  \u001b[0m | \u001b[0m 0.9999  \u001b[0m | \u001b[0m 9.271   \u001b[0m | \u001b[0m 6.987   \u001b[0m | \u001b[0m 6.187   \u001b[0m | \u001b[0m 8.22    \u001b[0m | \u001b[0m 1.178   \u001b[0m | \u001b[0m 1.51    \u001b[0m | \u001b[0m 0.7057  \u001b[0m |\n",
      "하이퍼파라미터 : {'max_depth': 7, 'subsample': 0.8535233675350644, 'colsample_bytree': 0.92975858050776, 'min_child_weight': 6.249564429359247, 'gamma': 9.95563546750357, 'reg_alpha': 8.411512219837842, 'reg_lambda': 1.424460008293778, 'scale_pos_weight': 1.5416807226581535, 'objective': 'binary:logistic', 'learning_rate': 0.02, 'random_state': 1991}\n"
     ]
    },
    {
     "name": "stderr",
     "output_type": "stream",
     "text": [
      "/opt/conda/lib/python3.7/site-packages/xgboost/training.py:36: UserWarning: `feval` is deprecated, use `custom_metric` instead.  They have different behavior when custom objective is also used.See https://xgboost.readthedocs.io/en/latest/tutorials/custom_metric_obj.html for details on the `custom_metric`.\n",
      "  \"`feval` is deprecated, use `custom_metric` instead.  They have \"\n"
     ]
    },
    {
     "name": "stdout",
     "output_type": "stream",
     "text": [
      "지니계수 : 0.2856515869205076\n",
      "\n",
      "| \u001b[95m 5       \u001b[0m | \u001b[95m 0.2857  \u001b[0m | \u001b[95m 0.9298  \u001b[0m | \u001b[95m 9.956   \u001b[0m | \u001b[95m 6.809   \u001b[0m | \u001b[95m 6.25    \u001b[0m | \u001b[95m 8.412   \u001b[0m | \u001b[95m 1.424   \u001b[0m | \u001b[95m 1.542   \u001b[0m | \u001b[95m 0.8535  \u001b[0m |\n",
      "하이퍼파라미터 : {'max_depth': 7, 'subsample': 0.6462619019069298, 'colsample_bytree': 0.80929192865947, 'min_child_weight': 6.079999276892042, 'gamma': 9.553916776586505, 'reg_alpha': 8.860396362258099, 'reg_lambda': 1.4050740023119348, 'scale_pos_weight': 1.4668544695338273, 'objective': 'binary:logistic', 'learning_rate': 0.02, 'random_state': 1991}\n"
     ]
    },
    {
     "name": "stderr",
     "output_type": "stream",
     "text": [
      "/opt/conda/lib/python3.7/site-packages/xgboost/training.py:36: UserWarning: `feval` is deprecated, use `custom_metric` instead.  They have different behavior when custom objective is also used.See https://xgboost.readthedocs.io/en/latest/tutorials/custom_metric_obj.html for details on the `custom_metric`.\n",
      "  \"`feval` is deprecated, use `custom_metric` instead.  They have \"\n"
     ]
    },
    {
     "name": "stdout",
     "output_type": "stream",
     "text": [
      "지니계수 : 0.28466544765284935\n",
      "\n",
      "| \u001b[0m 6       \u001b[0m | \u001b[0m 0.2847  \u001b[0m | \u001b[0m 0.8093  \u001b[0m | \u001b[0m 9.554   \u001b[0m | \u001b[0m 6.532   \u001b[0m | \u001b[0m 6.08    \u001b[0m | \u001b[0m 8.86    \u001b[0m | \u001b[0m 1.405   \u001b[0m | \u001b[0m 1.467   \u001b[0m | \u001b[0m 0.6463  \u001b[0m |\n",
      "하이퍼파라미터 : {'max_depth': 7, 'subsample': 0.6931141936797243, 'colsample_bytree': 0.8817801730078565, 'min_child_weight': 6.992334203641873, 'gamma': 9.013424730095146, 'reg_alpha': 7.640858389939128, 'reg_lambda': 1.3562805915715632, 'scale_pos_weight': 1.449446257931491, 'objective': 'binary:logistic', 'learning_rate': 0.02, 'random_state': 1991}\n"
     ]
    },
    {
     "name": "stderr",
     "output_type": "stream",
     "text": [
      "/opt/conda/lib/python3.7/site-packages/xgboost/training.py:36: UserWarning: `feval` is deprecated, use `custom_metric` instead.  They have different behavior when custom objective is also used.See https://xgboost.readthedocs.io/en/latest/tutorials/custom_metric_obj.html for details on the `custom_metric`.\n",
      "  \"`feval` is deprecated, use `custom_metric` instead.  They have \"\n"
     ]
    },
    {
     "name": "stdout",
     "output_type": "stream",
     "text": [
      "지니계수 : 0.28550424648809736\n",
      "\n",
      "| \u001b[0m 7       \u001b[0m | \u001b[0m 0.2855  \u001b[0m | \u001b[0m 0.8818  \u001b[0m | \u001b[0m 9.013   \u001b[0m | \u001b[0m 6.927   \u001b[0m | \u001b[0m 6.992   \u001b[0m | \u001b[0m 7.641   \u001b[0m | \u001b[0m 1.356   \u001b[0m | \u001b[0m 1.449   \u001b[0m | \u001b[0m 0.6931  \u001b[0m |\n",
      "하이퍼파라미터 : {'max_depth': 5, 'subsample': 0.6261564417044092, 'colsample_bytree': 0.8763145220620449, 'min_child_weight': 5.135323353557588, 'gamma': 8.39495450163982, 'reg_alpha': 8.950443047087845, 'reg_lambda': 1.4235649099168255, 'scale_pos_weight': 1.5217625173811569, 'objective': 'binary:logistic', 'learning_rate': 0.02, 'random_state': 1991}\n"
     ]
    },
    {
     "name": "stderr",
     "output_type": "stream",
     "text": [
      "/opt/conda/lib/python3.7/site-packages/xgboost/training.py:36: UserWarning: `feval` is deprecated, use `custom_metric` instead.  They have different behavior when custom objective is also used.See https://xgboost.readthedocs.io/en/latest/tutorials/custom_metric_obj.html for details on the `custom_metric`.\n",
      "  \"`feval` is deprecated, use `custom_metric` instead.  They have \"\n"
     ]
    },
    {
     "name": "stdout",
     "output_type": "stream",
     "text": [
      "지니계수 : 0.2840512946560939\n",
      "\n",
      "| \u001b[0m 8       \u001b[0m | \u001b[0m 0.2841  \u001b[0m | \u001b[0m 0.8763  \u001b[0m | \u001b[0m 8.395   \u001b[0m | \u001b[0m 4.561   \u001b[0m | \u001b[0m 5.135   \u001b[0m | \u001b[0m 8.95    \u001b[0m | \u001b[0m 1.424   \u001b[0m | \u001b[0m 1.522   \u001b[0m | \u001b[0m 0.6262  \u001b[0m |\n",
      "하이퍼파라미터 : {'max_depth': 6, 'subsample': 0.857971740304964, 'colsample_bytree': 0.9583821245229369, 'min_child_weight': 6.158305055403563, 'gamma': 9.305332775334449, 'reg_alpha': 8.200928434091152, 'reg_lambda': 1.2571039588093065, 'scale_pos_weight': 1.4700266933495618, 'objective': 'binary:logistic', 'learning_rate': 0.02, 'random_state': 1991}\n"
     ]
    },
    {
     "name": "stderr",
     "output_type": "stream",
     "text": [
      "/opt/conda/lib/python3.7/site-packages/xgboost/training.py:36: UserWarning: `feval` is deprecated, use `custom_metric` instead.  They have different behavior when custom objective is also used.See https://xgboost.readthedocs.io/en/latest/tutorials/custom_metric_obj.html for details on the `custom_metric`.\n",
      "  \"`feval` is deprecated, use `custom_metric` instead.  They have \"\n"
     ]
    },
    {
     "name": "stdout",
     "output_type": "stream",
     "text": [
      "지니계수 : 0.2845833465457728\n",
      "\n",
      "| \u001b[0m 9       \u001b[0m | \u001b[0m 0.2846  \u001b[0m | \u001b[0m 0.9584  \u001b[0m | \u001b[0m 9.305   \u001b[0m | \u001b[0m 5.594   \u001b[0m | \u001b[0m 6.158   \u001b[0m | \u001b[0m 8.201   \u001b[0m | \u001b[0m 1.257   \u001b[0m | \u001b[0m 1.47    \u001b[0m | \u001b[0m 0.858   \u001b[0m |\n",
      "=========================================================================================================================\n"
     ]
    }
   ],
   "source": [
    "# 최적화 수행\n",
    "from bayes_opt import BayesianOptimization\n",
    "\n",
    "# 베이지안 최적화 객체 생성\n",
    "optimizer = BayesianOptimization(f=eval_function, \n",
    "                                 pbounds=param_bounds, \n",
    "                                 random_state=0)\n",
    "\n",
    "# 베이지안 최적화 수행\n",
    "optimizer.maximize(init_points=3, n_iter=6)"
   ]
  },
  {
   "cell_type": "code",
   "execution_count": 18,
   "id": "6af438ad",
   "metadata": {
    "execution": {
     "iopub.execute_input": "2022-08-30T09:28:31.836140Z",
     "iopub.status.busy": "2022-08-30T09:28:31.835172Z",
     "iopub.status.idle": "2022-08-30T09:28:31.848305Z",
     "shell.execute_reply": "2022-08-30T09:28:31.847333Z"
    },
    "papermill": {
     "duration": 0.028375,
     "end_time": "2022-08-30T09:28:31.850874",
     "exception": false,
     "start_time": "2022-08-30T09:28:31.822499",
     "status": "completed"
    },
    "tags": []
   },
   "outputs": [
    {
     "data": {
      "text/plain": [
       "{'colsample_bytree': 0.92975858050776,\n",
       " 'gamma': 9.95563546750357,\n",
       " 'max_depth': 6.809274695878221,\n",
       " 'min_child_weight': 6.249564429359247,\n",
       " 'reg_alpha': 8.411512219837842,\n",
       " 'reg_lambda': 1.424460008293778,\n",
       " 'scale_pos_weight': 1.5416807226581535,\n",
       " 'subsample': 0.8535233675350644}"
      ]
     },
     "execution_count": 18,
     "metadata": {},
     "output_type": "execute_result"
    }
   ],
   "source": [
    "# 결과 확인\n",
    "# 평가함수 점수가 최대일 때 하이퍼파라미터\n",
    "max_params = optimizer.max['params']\n",
    "max_params"
   ]
  },
  {
   "cell_type": "code",
   "execution_count": 19,
   "id": "991e76c1",
   "metadata": {
    "execution": {
     "iopub.execute_input": "2022-08-30T09:28:31.872605Z",
     "iopub.status.busy": "2022-08-30T09:28:31.871733Z",
     "iopub.status.idle": "2022-08-30T09:28:31.880721Z",
     "shell.execute_reply": "2022-08-30T09:28:31.879620Z"
    },
    "papermill": {
     "duration": 0.023154,
     "end_time": "2022-08-30T09:28:31.883083",
     "exception": false,
     "start_time": "2022-08-30T09:28:31.859929",
     "status": "completed"
    },
    "tags": []
   },
   "outputs": [
    {
     "data": {
      "text/plain": [
       "{'colsample_bytree': 0.92975858050776,\n",
       " 'gamma': 9.95563546750357,\n",
       " 'max_depth': 7,\n",
       " 'min_child_weight': 6.249564429359247,\n",
       " 'reg_alpha': 8.411512219837842,\n",
       " 'reg_lambda': 1.424460008293778,\n",
       " 'scale_pos_weight': 1.5416807226581535,\n",
       " 'subsample': 0.8535233675350644,\n",
       " 'objective': 'binary:logistic',\n",
       " 'learning_rate': 0.02,\n",
       " 'random_state': 1991}"
      ]
     },
     "execution_count": 19,
     "metadata": {},
     "output_type": "execute_result"
    }
   ],
   "source": [
    "# 정수형 하이퍼파라미터 변환\n",
    "max_params['max_depth'] = int(round(max_params['max_depth']))\n",
    "\n",
    "# 값이 고정된 하이퍼파라미터 추가\n",
    "max_params.update(fixed_params)\n",
    "max_params"
   ]
  },
  {
   "cell_type": "markdown",
   "id": "790d3ebe",
   "metadata": {
    "papermill": {
     "duration": 0.271045,
     "end_time": "2022-08-30T09:28:32.162898",
     "exception": false,
     "start_time": "2022-08-30T09:28:31.891853",
     "status": "completed"
    },
    "tags": []
   },
   "source": [
    "### 8.5.3 모델 훈련 및 성능 검증"
   ]
  },
  {
   "cell_type": "code",
   "execution_count": 20,
   "id": "295d93d2",
   "metadata": {
    "execution": {
     "iopub.execute_input": "2022-08-30T09:28:32.183302Z",
     "iopub.status.busy": "2022-08-30T09:28:32.182495Z",
     "iopub.status.idle": "2022-08-30T11:02:29.975151Z",
     "shell.execute_reply": "2022-08-30T11:02:29.972186Z"
    },
    "papermill": {
     "duration": 5637.822416,
     "end_time": "2022-08-30T11:02:29.994354",
     "exception": false,
     "start_time": "2022-08-30T09:28:32.171938",
     "status": "completed"
    },
    "tags": []
   },
   "outputs": [
    {
     "name": "stdout",
     "output_type": "stream",
     "text": [
      "######################################## 폴드 1 / 폴드 5 ########################################\n"
     ]
    },
    {
     "name": "stderr",
     "output_type": "stream",
     "text": [
      "/opt/conda/lib/python3.7/site-packages/xgboost/training.py:36: UserWarning: `feval` is deprecated, use `custom_metric` instead.  They have different behavior when custom objective is also used.See https://xgboost.readthedocs.io/en/latest/tutorials/custom_metric_obj.html for details on the `custom_metric`.\n",
      "  \"`feval` is deprecated, use `custom_metric` instead.  They have \"\n"
     ]
    },
    {
     "name": "stdout",
     "output_type": "stream",
     "text": [
      "[0]\tvalid-logloss:0.67679\tvalid-gini:0.17960\n",
      "[100]\tvalid-logloss:0.19334\tvalid-gini:0.25125\n",
      "[200]\tvalid-logloss:0.15933\tvalid-gini:0.28002\n",
      "[300]\tvalid-logloss:0.15588\tvalid-gini:0.28885\n",
      "[400]\tvalid-logloss:0.15532\tvalid-gini:0.29364\n",
      "[500]\tvalid-logloss:0.15517\tvalid-gini:0.29628\n",
      "[600]\tvalid-logloss:0.15512\tvalid-gini:0.29734\n",
      "[700]\tvalid-logloss:0.15506\tvalid-gini:0.29835\n",
      "[800]\tvalid-logloss:0.15504\tvalid-gini:0.29889\n",
      "[900]\tvalid-logloss:0.15502\tvalid-gini:0.29929\n",
      "[1000]\tvalid-logloss:0.15502\tvalid-gini:0.29941\n",
      "[1100]\tvalid-logloss:0.15501\tvalid-gini:0.29926\n",
      "[1200]\tvalid-logloss:0.15502\tvalid-gini:0.29893\n",
      "[1238]\tvalid-logloss:0.15501\tvalid-gini:0.29918\n",
      "폴드 1 지니계수 : 0.29944651710485193\n",
      "\n",
      "######################################## 폴드 2 / 폴드 5 ########################################\n",
      "[0]\tvalid-logloss:0.67679\tvalid-gini:0.15338\n",
      "[100]\tvalid-logloss:0.19344\tvalid-gini:0.24163\n",
      "[200]\tvalid-logloss:0.15961\tvalid-gini:0.26533\n",
      "[300]\tvalid-logloss:0.15623\tvalid-gini:0.27503\n",
      "[400]\tvalid-logloss:0.15572\tvalid-gini:0.27898\n",
      "[500]\tvalid-logloss:0.15557\tvalid-gini:0.28163\n",
      "[600]\tvalid-logloss:0.15551\tvalid-gini:0.28304\n",
      "[700]\tvalid-logloss:0.15549\tvalid-gini:0.28402\n",
      "[800]\tvalid-logloss:0.15548\tvalid-gini:0.28434\n",
      "[900]\tvalid-logloss:0.15546\tvalid-gini:0.28446\n",
      "[1000]\tvalid-logloss:0.15545\tvalid-gini:0.28503\n",
      "[1100]\tvalid-logloss:0.15544\tvalid-gini:0.28541\n",
      "[1200]\tvalid-logloss:0.15543\tvalid-gini:0.28571\n",
      "[1300]\tvalid-logloss:0.15543\tvalid-gini:0.28575\n",
      "[1400]\tvalid-logloss:0.15543\tvalid-gini:0.28578\n",
      "[1500]\tvalid-logloss:0.15543\tvalid-gini:0.28575\n",
      "[1600]\tvalid-logloss:0.15544\tvalid-gini:0.28572\n",
      "[1670]\tvalid-logloss:0.15544\tvalid-gini:0.28555\n",
      "폴드 2 지니계수 : 0.2858853455077625\n",
      "\n",
      "######################################## 폴드 3 / 폴드 5 ########################################\n",
      "[0]\tvalid-logloss:0.67679\tvalid-gini:0.15662\n",
      "[100]\tvalid-logloss:0.19334\tvalid-gini:0.24801\n",
      "[200]\tvalid-logloss:0.15931\tvalid-gini:0.27362\n",
      "[300]\tvalid-logloss:0.15589\tvalid-gini:0.28049\n",
      "[400]\tvalid-logloss:0.15540\tvalid-gini:0.28299\n",
      "[500]\tvalid-logloss:0.15531\tvalid-gini:0.28387\n",
      "[600]\tvalid-logloss:0.15529\tvalid-gini:0.28437\n",
      "[700]\tvalid-logloss:0.15528\tvalid-gini:0.28422\n",
      "[800]\tvalid-logloss:0.15526\tvalid-gini:0.28421\n",
      "[822]\tvalid-logloss:0.15527\tvalid-gini:0.28403\n",
      "폴드 3 지니계수 : 0.28443760405840407\n",
      "\n",
      "######################################## 폴드 4 / 폴드 5 ########################################\n",
      "[0]\tvalid-logloss:0.67679\tvalid-gini:0.18859\n",
      "[100]\tvalid-logloss:0.19326\tvalid-gini:0.24118\n",
      "[200]\tvalid-logloss:0.15944\tvalid-gini:0.26588\n",
      "[300]\tvalid-logloss:0.15609\tvalid-gini:0.27311\n",
      "[400]\tvalid-logloss:0.15560\tvalid-gini:0.27587\n",
      "[500]\tvalid-logloss:0.15550\tvalid-gini:0.27741\n",
      "[600]\tvalid-logloss:0.15547\tvalid-gini:0.27830\n",
      "[700]\tvalid-logloss:0.15544\tvalid-gini:0.27869\n",
      "[800]\tvalid-logloss:0.15543\tvalid-gini:0.27884\n",
      "[900]\tvalid-logloss:0.15542\tvalid-gini:0.27920\n",
      "[1000]\tvalid-logloss:0.15540\tvalid-gini:0.27930\n",
      "[1100]\tvalid-logloss:0.15540\tvalid-gini:0.27952\n",
      "[1200]\tvalid-logloss:0.15539\tvalid-gini:0.27978\n",
      "[1300]\tvalid-logloss:0.15539\tvalid-gini:0.27980\n",
      "[1400]\tvalid-logloss:0.15540\tvalid-gini:0.27958\n",
      "[1432]\tvalid-logloss:0.15540\tvalid-gini:0.27960\n",
      "폴드 4 지니계수 : 0.2799114042871249\n",
      "\n",
      "######################################## 폴드 5 / 폴드 5 ########################################\n",
      "[0]\tvalid-logloss:0.67680\tvalid-gini:0.17061\n",
      "[100]\tvalid-logloss:0.19339\tvalid-gini:0.24902\n",
      "[200]\tvalid-logloss:0.15953\tvalid-gini:0.27558\n",
      "[300]\tvalid-logloss:0.15610\tvalid-gini:0.28565\n",
      "[400]\tvalid-logloss:0.15556\tvalid-gini:0.29006\n",
      "[500]\tvalid-logloss:0.15540\tvalid-gini:0.29300\n",
      "[600]\tvalid-logloss:0.15536\tvalid-gini:0.29432\n",
      "[700]\tvalid-logloss:0.15530\tvalid-gini:0.29528\n",
      "[800]\tvalid-logloss:0.15529\tvalid-gini:0.29569\n",
      "[900]\tvalid-logloss:0.15526\tvalid-gini:0.29626\n",
      "[1000]\tvalid-logloss:0.15526\tvalid-gini:0.29655\n",
      "[1100]\tvalid-logloss:0.15525\tvalid-gini:0.29683\n",
      "[1200]\tvalid-logloss:0.15522\tvalid-gini:0.29681\n",
      "[1300]\tvalid-logloss:0.15523\tvalid-gini:0.29678\n",
      "[1320]\tvalid-logloss:0.15523\tvalid-gini:0.29689\n",
      "폴드 5 지니계수 : 0.2969046463729408\n",
      "\n"
     ]
    }
   ],
   "source": [
    "from sklearn.model_selection import StratifiedKFold\n",
    "\n",
    "# 층화 K 폴드 교차 검증기 생성\n",
    "folds = StratifiedKFold(n_splits=5, shuffle=True, random_state=1991)\n",
    "\n",
    "# OOF 방식으로 훈련된 모델로 검증 데이터 타깃값을 예측한 확률을 담을 1차원 배열\n",
    "oof_val_preds = np.zeros(X.shape[0]) \n",
    "# OOF 방식으로 훈련된 모델로 테스트 데이터 타깃값을 예측한 확률을 담을 1차원 배열\n",
    "oof_test_preds = np.zeros(X_test.shape[0]) \n",
    "\n",
    "# OOF 방식으로 모델 훈련, 검증, 예측\n",
    "for idx, (train_idx, valid_idx) in enumerate(folds.split(X, y)):\n",
    "    # 각 폴드를 구분하는 문구 출력\n",
    "    print('#'*40, f'폴드 {idx+1} / 폴드 {folds.n_splits}', '#'*40)\n",
    "    \n",
    "    # 훈련용 데이터, 검증용 데이터 설정\n",
    "    X_train, y_train = X[train_idx], y[train_idx]\n",
    "    X_valid, y_valid = X[valid_idx], y[valid_idx]\n",
    "\n",
    "    # XGBoost 전용 데이터셋 생성 \n",
    "    dtrain = xgb.DMatrix(X_train, y_train)\n",
    "    dvalid = xgb.DMatrix(X_valid, y_valid)\n",
    "    dtest = xgb.DMatrix(X_test)\n",
    "    # XGBoost 모델 훈련\n",
    "    xgb_model = xgb.train(params=max_params, \n",
    "                          dtrain=dtrain,\n",
    "                          num_boost_round=2000,\n",
    "                          evals=[(dvalid, 'valid')],\n",
    "                          maximize=True,\n",
    "                          feval=gini,\n",
    "                          early_stopping_rounds=200,\n",
    "                          verbose_eval=100)\n",
    "\n",
    "    # 모델 성능이 가장 좋을 때의 부스팅 반복 횟수 저장\n",
    "    best_iter = xgb_model.best_iteration\n",
    "    # 테스트 데이터를 활용해 OOF 예측\n",
    "    oof_test_preds += xgb_model.predict(dtest,\n",
    "                                        iteration_range=(0, best_iter))/folds.n_splits\n",
    "    \n",
    "    # 모델 성능 평가를 위한 검증 데이터 타깃값 예측 \n",
    "    oof_val_preds[valid_idx] += xgb_model.predict(dvalid, \n",
    "                                                  iteration_range=(0, best_iter))\n",
    "    \n",
    "    # 검증 데이터 예측 확률에 대한 정규화 지니계수\n",
    "    gini_score = eval_gini(y_valid, oof_val_preds[valid_idx])\n",
    "    print(f'폴드 {idx+1} 지니계수 : {gini_score}\\n')"
   ]
  },
  {
   "cell_type": "code",
   "execution_count": 21,
   "id": "09231d8f",
   "metadata": {
    "execution": {
     "iopub.execute_input": "2022-08-30T11:02:30.026818Z",
     "iopub.status.busy": "2022-08-30T11:02:30.026270Z",
     "iopub.status.idle": "2022-08-30T11:02:30.156056Z",
     "shell.execute_reply": "2022-08-30T11:02:30.154574Z"
    },
    "papermill": {
     "duration": 0.149539,
     "end_time": "2022-08-30T11:02:30.158888",
     "exception": false,
     "start_time": "2022-08-30T11:02:30.009349",
     "status": "completed"
    },
    "tags": []
   },
   "outputs": [
    {
     "name": "stdout",
     "output_type": "stream",
     "text": [
      "OOF 검증 데이터 지니계수 : 0.28918135308145265\n"
     ]
    }
   ],
   "source": [
    "print('OOF 검증 데이터 지니계수 :', eval_gini(y, oof_val_preds))"
   ]
  },
  {
   "cell_type": "markdown",
   "id": "20f6e56f",
   "metadata": {
    "papermill": {
     "duration": 0.013877,
     "end_time": "2022-08-30T11:02:30.188012",
     "exception": false,
     "start_time": "2022-08-30T11:02:30.174135",
     "status": "completed"
    },
    "tags": []
   },
   "source": [
    "### 8.5.4 예측 및 결과 제출"
   ]
  },
  {
   "cell_type": "code",
   "execution_count": 22,
   "id": "26e1d7bd",
   "metadata": {
    "execution": {
     "iopub.execute_input": "2022-08-30T11:02:30.218401Z",
     "iopub.status.busy": "2022-08-30T11:02:30.217655Z",
     "iopub.status.idle": "2022-08-30T11:02:32.605634Z",
     "shell.execute_reply": "2022-08-30T11:02:32.603578Z"
    },
    "papermill": {
     "duration": 2.407069,
     "end_time": "2022-08-30T11:02:32.609330",
     "exception": false,
     "start_time": "2022-08-30T11:02:30.202261",
     "status": "completed"
    },
    "tags": []
   },
   "outputs": [],
   "source": [
    "submission['target'] = oof_test_preds\n",
    "submission.to_csv('submission.csv')"
   ]
  },
  {
   "cell_type": "code",
   "execution_count": null,
   "id": "22e62ea0",
   "metadata": {
    "papermill": {
     "duration": 0.016924,
     "end_time": "2022-08-30T11:02:32.642562",
     "exception": false,
     "start_time": "2022-08-30T11:02:32.625638",
     "status": "completed"
    },
    "tags": []
   },
   "outputs": [],
   "source": []
  },
  {
   "cell_type": "code",
   "execution_count": null,
   "id": "ad1e8414",
   "metadata": {
    "papermill": {
     "duration": 0.014432,
     "end_time": "2022-08-30T11:02:32.673871",
     "exception": false,
     "start_time": "2022-08-30T11:02:32.659439",
     "status": "completed"
    },
    "tags": []
   },
   "outputs": [],
   "source": []
  },
  {
   "cell_type": "code",
   "execution_count": null,
   "id": "e5716f17",
   "metadata": {
    "papermill": {
     "duration": 0.014534,
     "end_time": "2022-08-30T11:02:32.703259",
     "exception": false,
     "start_time": "2022-08-30T11:02:32.688725",
     "status": "completed"
    },
    "tags": []
   },
   "outputs": [],
   "source": []
  },
  {
   "cell_type": "code",
   "execution_count": null,
   "id": "096ef650",
   "metadata": {
    "papermill": {
     "duration": 0.013735,
     "end_time": "2022-08-30T11:02:32.731947",
     "exception": false,
     "start_time": "2022-08-30T11:02:32.718212",
     "status": "completed"
    },
    "tags": []
   },
   "outputs": [],
   "source": []
  }
 ],
 "metadata": {
  "kernelspec": {
   "display_name": "Python 3",
   "language": "python",
   "name": "python3"
  },
  "language_info": {
   "codemirror_mode": {
    "name": "ipython",
    "version": 3
   },
   "file_extension": ".py",
   "mimetype": "text/x-python",
   "name": "python",
   "nbconvert_exporter": "python",
   "pygments_lexer": "ipython3",
   "version": "3.7.12"
  },
  "papermill": {
   "default_parameters": {},
   "duration": 15904.466704,
   "end_time": "2022-08-30T11:02:34.913059",
   "environment_variables": {},
   "exception": null,
   "input_path": "__notebook__.ipynb",
   "output_path": "__notebook__.ipynb",
   "parameters": {},
   "start_time": "2022-08-30T06:37:30.446355",
   "version": "2.3.4"
  }
 },
 "nbformat": 4,
 "nbformat_minor": 5
}
